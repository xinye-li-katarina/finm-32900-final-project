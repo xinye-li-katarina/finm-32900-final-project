{
 "cells": [
  {
   "cell_type": "markdown",
   "id": "7167e03417849a45",
   "metadata": {
    "collapsed": false
   },
   "source": [
    "# Replicating _Intermediary asset pricing: New evidence from many asset classes_"
   ]
  },
  {
   "cell_type": "markdown",
   "id": "9a5f901eac7685d7",
   "metadata": {
    "collapsed": false
   },
   "source": [
    "### James, Young Jin Song, Jaehwa Youm, Monica Panigrahy, and Jacob Simeral"
   ]
  },
  {
   "cell_type": "code",
   "execution_count": 1,
   "id": "32e9813b1c239835",
   "metadata": {
    "ExecuteTime": {
     "end_time": "2024-03-10T21:10:49.789477200Z",
     "start_time": "2024-03-10T21:10:49.177208200Z"
    },
    "collapsed": false
   },
   "outputs": [
    {
     "name": "stdout",
     "output_type": "stream",
     "text": [
      "Downloading from https://www.newyorkfed.org/medialibrary/media/markets/Dealer_Lists_1960_to_2014.xls\n",
      "File saved to cache at data/pulled/nyfed_primary_dealers_list.xls.\n"
     ]
    },
    {
     "name": "stderr",
     "output_type": "stream",
     "text": [
      "/Users/wenlan/python-github/finm-32900-final-project/src/Table02Prep.py:403: SyntaxWarning: invalid escape sequence '\\l'\n",
      "  \\caption{\"\"\" + caption + \"\"\"}\n"
     ]
    }
   ],
   "source": [
    "import load_nyfed\n",
    "load_nyfed.pull_nyfed_primary_dealers_list(load_nyfed.url)\n",
    "# import Table_01\n",
    "# import Table_A1\n",
    "# import Table_A1_to_latex\n",
    "# import Table_01_to_latex\n",
    "\n",
    "import pandas as pd\n",
    "import wrds\n",
    "import config\n",
    "from datetime import datetime\n",
    "import unittest\n",
    "import matplotlib.pyplot as plt\n",
    "import numpy as np\n",
    "import Table02Analysis\n",
    "import Table02Prep\n",
    "\n",
    "import Table03Load\n",
    "import Table03Analysis\n",
    "import Table03\n",
    "\n",
    "import warnings\n",
    "warnings.filterwarnings(\"ignore\", category=FutureWarning)"
   ]
  },
  {
   "cell_type": "markdown",
   "id": "2b300ce92f0decea",
   "metadata": {
    "collapsed": false
   },
   "source": [
    "### 1. Table 01"
   ]
  },
  {
   "cell_type": "markdown",
   "id": "eed6fa8722dfdee5",
   "metadata": {
    "collapsed": false
   },
   "source": [
    "#### 1-1 Pull the NY Fed primary dealers list from the NY Fed website"
   ]
  },
  {
   "cell_type": "markdown",
   "id": "2dccfd089d9f7e2",
   "metadata": {
    "collapsed": false
   },
   "source": [
    "* Utilize the pull_nyfed_primary_dealers_list function, as defined in the 'load_nyfed.py' file, to download the 'nyfed_primary_dealers_list.xls' Excel file. This function saves the downloaded file into the 'data/pulled' directory.\n",
    "* This process is managed by the task_pull_nyfed() function in the 'dodo.py' file. It handles downloading the 'nyfed_primary_dealers_list.xls' Excel file and saving it in the 'data/pulled' directory."
   ]
  },
  {
   "cell_type": "markdown",
   "id": "157638729748376d",
   "metadata": {
    "collapsed": false
   },
   "source": [
    "#### 1-2 Load the NY Fed primary dealers list from the cached files in the 'data/pulled' directory"
   ]
  },
  {
   "cell_type": "markdown",
   "id": "894a768cfd61f51d",
   "metadata": {
    "collapsed": false
   },
   "source": [
    "* Use the 'load_nyfed_primary_dealers_list' function to access the NY Fed primary dealers list from the cached data in the 'data/pulled' directory. Focus on the '2000s' and 'Dealer Alpha' worksheets to extract the list of primary dealers as of February 2014, aiming to replicate Table 1."
   ]
  },
  {
   "cell_type": "markdown",
   "id": "a84cd9ed2be86153",
   "metadata": {
    "collapsed": false
   },
   "source": [
    "#### 1-3 Replicate Table 1 using data from the 'nyfed_primary_dealers_list.xls' Excel file"
   ]
  },
  {
   "cell_type": "markdown",
   "id": "ae0e290bf22b2c49",
   "metadata": {
    "collapsed": false
   },
   "source": [
    "* The '2000s' worksheet provides annual listings of primary dealers from 2000 to 2014; refine this data to isolate dealers active as of February 2014."
   ]
  },
  {
   "cell_type": "markdown",
   "id": "4c1959c432412cd",
   "metadata": {
    "collapsed": false
   },
   "source": [
    "* The 'Dealer Alpha' worksheet covers all primary dealers from 1960 to 2014, including their start and end dates. Clean this data to facilitate matching with the primary dealer listings found in the '2000s' worksheet.\""
   ]
  },
  {
   "cell_type": "markdown",
   "id": "65987b8c32ba888d",
   "metadata": {
    "collapsed": false
   },
   "source": [
    "* Match the 2014 primary dealer list with their start dates, taking care to handle name discrepancies across two Excel sheets, such as extra spaces or differences in punctuation.\n",
    "* Also, for dealers who were active, paused, and then resumed, use their latest start date. The code should adjust for these variations to correctly align with the table in the paper. Lastly, arrange the start dates from earliest to most recent."
   ]
  },
  {
   "cell_type": "markdown",
   "id": "a9fbe0375153563",
   "metadata": {
    "collapsed": false
   },
   "source": [
    "* The author manually matched dealers with their publicly-traded holding companies. For the replication, a 'ticks.csv' file was created and placed in the 'data/manual' directory, containing the mapping information between primary dealers and their holding companies. Subsequently, an additional column was introduced to the 'merged_df' table to display the corresponding holding company for each dealer, utilizing the information from the 'ticks.csv' file."
   ]
  },
  {
   "cell_type": "markdown",
   "id": "d281cada6b513d09",
   "metadata": {
    "collapsed": false
   },
   "source": [
    "#### 1-4 Convert the table to LaTeX format using the to_latex() function"
   ]
  },
  {
   "cell_type": "markdown",
   "id": "f993718a524e79ac",
   "metadata": {
    "collapsed": false
   },
   "source": [
    "* The to_latex function, located in the 'Table_01_to_latex.py' file, is utilized to convert the 'merged_df_final' table into LaTeX format. The resulting LaTeX code is then saved into the 'Table_01_to_latex.tex' file within the output directory.\n",
    "* Before converting the table to LaTeX format, replace '&' with '\\\\&' in company names. Since LaTeX uses '&' to recognize table columns, an unescaped '&' in company names can cause errors when generating the table in LaTeX format."
   ]
  },
  {
   "cell_type": "markdown",
   "id": "d874e3019546d2cb",
   "metadata": {
    "collapsed": false
   },
   "source": [
    "#### 1-5 Complete the LaTeX setup to replicate Table 1, incorporating the formatted table"
   ]
  },
  {
   "cell_type": "markdown",
   "id": "ac3a0c621e1d96a2",
   "metadata": {
    "collapsed": false
   },
   "source": [
    "* Use the 'Table_01_to_latex.tex' file from the 'output' directory, which contains the table in LaTeX format, to create a 'Report_Table_01.tex' file in the 'reports' directory. This action replicates the entire table. The table is inserted into 'Report_Table_01.tex' by employing the '\\input{\\PathToOutput/Table_01_to_latex.tex}' command."
   ]
  },
  {
   "cell_type": "markdown",
   "id": "1a9c8709784902fb",
   "metadata": {
    "collapsed": false
   },
   "source": [
    "### 2. Table A.1"
   ]
  },
  {
   "cell_type": "markdown",
   "id": "38cb927c451fb8b4",
   "metadata": {
    "collapsed": false
   },
   "source": [
    "#### 2-1 Load the NY Fed primary dealers list from the cached files in the 'data/pulled' directory"
   ]
  },
  {
   "cell_type": "markdown",
   "id": "ffe514123a26b43c",
   "metadata": {
    "collapsed": false
   },
   "source": [
    "* Use the 'load_nyfed_primary_dealers_list' function to access the NY Fed primary dealers list from the cached data in the 'data/pulled' directory. This time, focus on the 'Dealer Alpha' worksheets to extract the list of primary dealers from 1960 to 2014, including their start and end dates, with the aim of replicating Table A.1."
   ]
  },
  {
   "cell_type": "markdown",
   "id": "f81c6c0e16be30c1",
   "metadata": {
    "collapsed": false
   },
   "source": [
    "#### 2-2 Replicate Table A.1 using data from the 'nyfed_primary_dealers_list.xls' Excel file"
   ]
  },
  {
   "cell_type": "markdown",
   "id": "21a060f3dcf77563",
   "metadata": {
    "collapsed": false
   },
   "source": [
    "* Clean the data from the 'Dealer Alpha' worksheet to replicate Table A.1, including formatting dates and marking companies still active as primary dealers with 'Current' in the end date column, etc."
   ]
  },
  {
   "cell_type": "markdown",
   "id": "d623fd03c4c60f7e",
   "metadata": {
    "collapsed": false
   },
   "source": [
    "#### 2-3 Convert the table to LaTeX format using the to_latex() function"
   ]
  },
  {
   "cell_type": "markdown",
   "id": "4e08ece6574e9220",
   "metadata": {
    "collapsed": false
   },
   "source": [
    "* The to_latex function, found in the 'Table_A1_to_latex.py' file, is used to convert the 'df_dealer_alpha' table into LaTeX format. The resulting LaTeX code is then saved in the 'Table_A1_to_latex.tex' file within the output directory."
   ]
  },
  {
   "cell_type": "markdown",
   "id": "9edbe5f11c62e69f",
   "metadata": {
    "collapsed": false
   },
   "source": [
    "* As described in the Table 01 replication process, before converting the table to LaTeX format, replace '&' with '\\\\&' in company names. This is necessary because LaTeX uses '&' to recognize table columns, and an unescaped '&' in company names can cause errors when generating the table in LaTeX format.\n",
    "* To match the format presented in Table A.1, separate the primary dealer list at the midpoint, adding a separator column for visual division"
   ]
  },
  {
   "cell_type": "markdown",
   "id": "e752c083f3f2a430",
   "metadata": {
    "collapsed": false
   },
   "source": [
    "#### 2-4 Complete the LaTeX setup to replicate Table A.1, incorporating the formatted table"
   ]
  },
  {
   "cell_type": "markdown",
   "id": "16cc3aa9bd1a878c",
   "metadata": {
    "collapsed": false
   },
   "source": [
    "* To replicate the entire table in a report, use the 'Table_A1_to_latex.tex' file from the 'output' directory. Create a 'Report_Table_A1.tex' file in the 'reports' directory and insert the table by using the command '\\input{\\PathToOutput/Table_A1_to_latex.tex}'."
   ]
  },
  {
   "cell_type": "markdown",
   "id": "be137e36375663da",
   "metadata": {
    "collapsed": false
   },
   "source": [
    "#### 2-5 Limitations on Replicating Table A.1"
   ]
  },
  {
   "cell_type": "markdown",
   "id": "6bda93ba7d39d95",
   "metadata": {
    "collapsed": false
   },
   "source": [
    "* While the replication closely mirrors Table A.1 in format, the list of primary dealers, and data accuracy including start and end dates, a perfect match with the original Table A.1 in the paper is not achieved for several reasons: "
   ]
  },
  {
   "cell_type": "markdown",
   "id": "29029f0e96e8280f",
   "metadata": {
    "collapsed": false
   },
   "source": [
    "* The author used abbreviated company names, shortened manually, whereas the Excel file from the NY Fed features the complete names. \n",
    "* The author consolidated the list by combining entries that, despite name changes, continued as primary dealers. In contrast, the Excel file from the NY Fed presents a more extensive list by including all dealers, accounting for their names before and after changes, resulting in a higher number of entries.\n",
    "* Due to the differences in abbreviation usage and the consolidation approach by the author, conducting precise unit testing was challenging, as the subjectivity in primary dealer name abbreviation and entry combination affected the direct comparison."
   ]
  },
  {
   "cell_type": "markdown",
   "id": "f895e85da21adc86",
   "metadata": {
    "collapsed": false
   },
   "source": [
    "### Table 02"
   ]
  },
  {
   "cell_type": "markdown",
   "id": "dafffb6c5a4c0476",
   "metadata": {
    "collapsed": false
   },
   "source": [
    "The following code reads in a manual data file that contains necessary information on primary dealers from 1960-2012 and then merges it with the CRSP Compustat Merge Linkhist table to get additional information on each, such as the SIC codes. The linkhist table is also used as the main reference table to pull the other comparison groups for the table."
   ]
  },
  {
   "cell_type": "code",
   "execution_count": 2,
   "id": "335bdf5021b86bb7",
   "metadata": {
    "ExecuteTime": {
     "end_time": "2024-03-10T21:11:18.231695600Z",
     "start_time": "2024-03-10T21:11:15.409036700Z"
    },
    "collapsed": false
   },
   "outputs": [
    {
     "name": "stdout",
     "output_type": "stream",
     "text": [
      "Loading library list...\n",
      "Done\n"
     ]
    },
    {
     "data": {
      "application/vnd.microsoft.datawrangler.viewer.v0+json": {
       "columns": [
        {
         "name": "index",
         "rawType": "int64",
         "type": "integer"
        },
        {
         "name": "gvkey",
         "rawType": "int64",
         "type": "integer"
        },
        {
         "name": "conm",
         "rawType": "object",
         "type": "string"
        },
        {
         "name": "sic",
         "rawType": "int64",
         "type": "integer"
        },
        {
         "name": "Start Date",
         "rawType": "object",
         "type": "string"
        },
        {
         "name": "End Date",
         "rawType": "object",
         "type": "string"
        }
       ],
       "conversionMethod": "pd.DataFrame",
       "ref": "716c6a4b-dae4-4d81-ad82-66b524100f5c",
       "rows": [
        [
         "0",
         "15504",
         "ABN-AMRO HOLDINGS NV",
         "6020",
         "9/29/1998",
         "9/15/2006"
        ],
        [
         "11",
         "3243",
         "CITIGROUP INC",
         "6199",
         "5/19/1960",
         "4/17/2000"
        ],
        [
         "38",
         "7647",
         "BANK OF AMERICA CORP",
         "6020",
         "4/18/1994",
         "9/30/1997"
        ],
        [
         "79",
         "2968",
         "JPMORGAN CHASE & CO",
         "6020",
         "4/1/1999",
         "8/1/2004"
        ],
        [
         "123",
         "7647",
         "BANK OF AMERICA CORP",
         "6020",
         "11/17/1971",
         "4/15/1994"
        ],
        [
         "164",
         "7647",
         "BANK OF AMERICA CORP",
         "6020",
         "5/17/1999",
         "11/1/2010"
        ],
        [
         "205",
         "15582",
         "BANK OF NOVA SCOTIA",
         "6020",
         "10/4/2011",
         "Current"
        ],
        [
         "216",
         "2029",
         "BANKERS TRUST CORP",
         "6020",
         "5/19/1960",
         "10/22/1997"
        ],
        [
         "246",
         "12673",
         "BARCLAYS PLC",
         "6020",
         "4/1/1998",
         "Current"
        ],
        [
         "273",
         "12673",
         "BARCLAYS PLC",
         "6020",
         "12/7/1989",
         "6/30/1996"
        ],
        [
         "300",
         "7267",
         "MERRILL LYNCH & CO INC",
         "6211",
         "5/19/1960",
         "6/14/1962"
        ],
        [
         "338",
         "2968",
         "JPMORGAN CHASE & CO",
         "6020",
         "6/10/1981",
         "10/1/2008"
        ],
        [
         "382",
         "7267",
         "MERRILL LYNCH & CO INC",
         "6211",
         "4/16/1962",
         "1/14/1970"
        ],
        [
         "420",
         "8299",
         "PAINE WEBBER GROUP",
         "6211",
         "12/5/1974",
         "12/31/1979"
        ],
        [
         "448",
         "15580",
         "BANK OF MONTREAL",
         "6020",
         "10/4/2011",
         "Current"
        ],
        [
         "463",
         "15580",
         "BANK OF MONTREAL",
         "6020",
         "2/15/2000",
         "3/31/2002"
        ],
        [
         "478",
         "15580",
         "BANK OF MONTREAL",
         "6020",
         "9/15/2000",
         "Current"
        ],
        [
         "493",
         "2019",
         "BANK OF NEW YORK MELLON CORP",
         "6020",
         "8/1/1989",
         "8/9/1990"
        ],
        [
         "537",
         "15576",
         "DEUTSCHE BANK AG",
         "6020",
         "10/23/1997",
         "6/4/1999"
        ],
        [
         "549",
         "12673",
         "BARCLAYS PLC",
         "6020",
         "7/1/1996",
         "3/31/1998"
        ],
        [
         "576",
         "127377",
         "BGC GROUP INC",
         "6211",
         "8/1/2006",
         "Current"
        ],
        [
         "590",
         "2968",
         "JPMORGAN CHASE & CO",
         "6020",
         "7/15/1970",
         "4/30/2001"
        ],
        [
         "634",
         "15581",
         "CANADIAN IMPERIAL BANK",
         "6020",
         "3/27/1996",
         "2/8/2007"
        ],
        [
         "649",
         "3243",
         "CITIGROUP INC",
         "6199",
         "6/15/1961",
         "Current"
        ],
        [
         "676",
         "3463",
         "CONTINENTAL BANK CORP",
         "6020",
         "5/19/1960",
         "8/30/1991"
        ],
        [
         "697",
         "15634",
         "NATWEST GROUP PLC",
         "6020",
         "9/29/1988",
         "1/13/1989"
        ],
        [
         "703",
         "7647",
         "BANK OF AMERICA CORP",
         "6020",
         "1/15/2004",
         "7/15/2008"
        ],
        [
         "744",
         "28838",
         "CREDIT SUISSE GROUP",
         "6211",
         "10/12/1993",
         "Current"
        ],
        [
         "756",
         "28838",
         "CREDIT SUISSE GROUP",
         "6211",
         "12/22/1987",
         "7/5/1993"
        ],
        [
         "768",
         "12124",
         "MORGAN STANLEY",
         "6211",
         "11/2/1977",
         "4/30/1998"
        ],
        [
         "795",
         "15576",
         "DEUTSCHE BANK AG",
         "6020",
         "12/13/1990",
         "Current"
        ],
        [
         "807",
         "144496",
         "UBS GROUP AG",
         "6282",
         "6/24/1988",
         "9/2/1997"
        ],
        [
         "820",
         "2019",
         "BANK OF NEW YORK MELLON CORP",
         "6020",
         "5/19/1960",
         "8/10/1993"
        ],
        [
         "864",
         "28838",
         "CREDIT SUISSE GROUP",
         "6211",
         "3/6/1974",
         "1/16/1985"
        ],
        [
         "876",
         "28838",
         "CREDIT SUISSE GROUP",
         "6211",
         "10/25/1995",
         "12/31/2000"
        ],
        [
         "888",
         "15577",
         "DRESDNER BANK AG",
         "6020",
         "5/8/1997",
         "6/26/2009"
        ],
        [
         "900",
         "28838",
         "CREDIT SUISSE GROUP",
         "6211",
         "5/19/1960",
         "10/11/1993"
        ],
        [
         "912",
         "2968",
         "JPMORGAN CHASE & CO",
         "6020",
         "5/19/1960",
         "3/31/1999"
        ],
        [
         "956",
         "4710",
         "FIRST INTERSTATE BNCP",
         "6020",
         "7/31/1964",
         "6/17/1988"
        ],
        [
         "990",
         "2014",
         "BANKBOSTON CORP",
         "6020",
         "3/21/1983",
         "11/17/1985"
        ],
        [
         "1018",
         "248136",
         "MIZUHO FINANCIAL GROUP INC",
         "6020",
         "12/28/1989",
         "3/31/2002"
        ],
        [
         "1025",
         "114628",
         "GOLDMAN SACHS GROUP INC",
         "6211",
         "12/4/1974",
         "Current"
        ],
        [
         "1039",
         "13294",
         "NATL WESTMINSTER BANK",
         "6020",
         "7/31/1984",
         "4/1/2009"
        ],
        [
         "1053",
         "15509",
         "HSBC HLDGS PLC",
         "6020",
         "5/9/1994",
         "Current"
        ],
        [
         "1067",
         "5793",
         "HUTTON (E.F.) GROUP",
         "6211",
         "11/2/1977",
         "12/31/1987"
        ],
        [
         "1083",
         "6682",
         "JEFFERIES FINANCIAL GRP INC",
         "6211",
         "6/18/2009",
         "Current"
        ],
        [
         "1136",
         "2968",
         "JPMORGAN CHASE & CO",
         "6020",
         "5/19/1960",
         "Current"
        ],
        [
         "1180",
         "5047",
         "GENERAL ELECTRIC CO",
         "9997",
         "2/7/1979",
         "12/30/1994"
        ],
        [
         "1233",
         "30128",
         "LEHMAN BROTHERS HOLDINGS INC",
         "6211",
         "2/22/1973",
         "1/29/1974"
        ],
        [
         "1247",
         "30128",
         "LEHMAN BROTHERS HOLDINGS INC",
         "6211",
         "11/25/1976",
         "9/22/2008"
        ]
       ],
       "shape": {
        "columns": 5,
        "rows": 79
       }
      },
      "text/html": [
       "<div>\n",
       "<style scoped>\n",
       "    .dataframe tbody tr th:only-of-type {\n",
       "        vertical-align: middle;\n",
       "    }\n",
       "\n",
       "    .dataframe tbody tr th {\n",
       "        vertical-align: top;\n",
       "    }\n",
       "\n",
       "    .dataframe thead th {\n",
       "        text-align: right;\n",
       "    }\n",
       "</style>\n",
       "<table border=\"1\" class=\"dataframe\">\n",
       "  <thead>\n",
       "    <tr style=\"text-align: right;\">\n",
       "      <th></th>\n",
       "      <th>gvkey</th>\n",
       "      <th>conm</th>\n",
       "      <th>sic</th>\n",
       "      <th>Start Date</th>\n",
       "      <th>End Date</th>\n",
       "    </tr>\n",
       "  </thead>\n",
       "  <tbody>\n",
       "    <tr>\n",
       "      <th>0</th>\n",
       "      <td>15504</td>\n",
       "      <td>ABN-AMRO HOLDINGS NV</td>\n",
       "      <td>6020</td>\n",
       "      <td>9/29/1998</td>\n",
       "      <td>9/15/2006</td>\n",
       "    </tr>\n",
       "    <tr>\n",
       "      <th>11</th>\n",
       "      <td>3243</td>\n",
       "      <td>CITIGROUP INC</td>\n",
       "      <td>6199</td>\n",
       "      <td>5/19/1960</td>\n",
       "      <td>4/17/2000</td>\n",
       "    </tr>\n",
       "    <tr>\n",
       "      <th>38</th>\n",
       "      <td>7647</td>\n",
       "      <td>BANK OF AMERICA CORP</td>\n",
       "      <td>6020</td>\n",
       "      <td>4/18/1994</td>\n",
       "      <td>9/30/1997</td>\n",
       "    </tr>\n",
       "    <tr>\n",
       "      <th>79</th>\n",
       "      <td>2968</td>\n",
       "      <td>JPMORGAN CHASE &amp; CO</td>\n",
       "      <td>6020</td>\n",
       "      <td>4/1/1999</td>\n",
       "      <td>8/1/2004</td>\n",
       "    </tr>\n",
       "    <tr>\n",
       "      <th>123</th>\n",
       "      <td>7647</td>\n",
       "      <td>BANK OF AMERICA CORP</td>\n",
       "      <td>6020</td>\n",
       "      <td>11/17/1971</td>\n",
       "      <td>4/15/1994</td>\n",
       "    </tr>\n",
       "    <tr>\n",
       "      <th>...</th>\n",
       "      <td>...</td>\n",
       "      <td>...</td>\n",
       "      <td>...</td>\n",
       "      <td>...</td>\n",
       "      <td>...</td>\n",
       "    </tr>\n",
       "    <tr>\n",
       "      <th>1759</th>\n",
       "      <td>144496</td>\n",
       "      <td>UBS GROUP AG</td>\n",
       "      <td>6282</td>\n",
       "      <td>12/7/1989</td>\n",
       "      <td>Current</td>\n",
       "    </tr>\n",
       "    <tr>\n",
       "      <th>1772</th>\n",
       "      <td>7267</td>\n",
       "      <td>MERRILL LYNCH &amp; CO INC</td>\n",
       "      <td>6211</td>\n",
       "      <td>6/17/1976</td>\n",
       "      <td>5/15/1978</td>\n",
       "    </tr>\n",
       "    <tr>\n",
       "      <th>1810</th>\n",
       "      <td>15362</td>\n",
       "      <td>WESTPAC BANKING CORP</td>\n",
       "      <td>6020</td>\n",
       "      <td>2/4/1987</td>\n",
       "      <td>6/27/1990</td>\n",
       "    </tr>\n",
       "    <tr>\n",
       "      <th>1834</th>\n",
       "      <td>7267</td>\n",
       "      <td>MERRILL LYNCH &amp; CO INC</td>\n",
       "      <td>6211</td>\n",
       "      <td>2/26/1976</td>\n",
       "      <td>4/18/1978</td>\n",
       "    </tr>\n",
       "    <tr>\n",
       "      <th>1872</th>\n",
       "      <td>8007</td>\n",
       "      <td>WELLS FARGO &amp; CO</td>\n",
       "      <td>6020</td>\n",
       "      <td>8/11/1993</td>\n",
       "      <td>3/31/2002</td>\n",
       "    </tr>\n",
       "  </tbody>\n",
       "</table>\n",
       "<p>79 rows × 5 columns</p>\n",
       "</div>"
      ],
      "text/plain": [
       "       gvkey                    conm   sic  Start Date   End Date\n",
       "0      15504    ABN-AMRO HOLDINGS NV  6020   9/29/1998  9/15/2006\n",
       "11      3243           CITIGROUP INC  6199   5/19/1960  4/17/2000\n",
       "38      7647    BANK OF AMERICA CORP  6020   4/18/1994  9/30/1997\n",
       "79      2968     JPMORGAN CHASE & CO  6020    4/1/1999   8/1/2004\n",
       "123     7647    BANK OF AMERICA CORP  6020  11/17/1971  4/15/1994\n",
       "...      ...                     ...   ...         ...        ...\n",
       "1759  144496            UBS GROUP AG  6282   12/7/1989    Current\n",
       "1772    7267  MERRILL LYNCH & CO INC  6211   6/17/1976  5/15/1978\n",
       "1810   15362    WESTPAC BANKING CORP  6020    2/4/1987  6/27/1990\n",
       "1834    7267  MERRILL LYNCH & CO INC  6211   2/26/1976  4/18/1978\n",
       "1872    8007        WELLS FARGO & CO  6020   8/11/1993  3/31/2002\n",
       "\n",
       "[79 rows x 5 columns]"
      ]
     },
     "execution_count": 2,
     "metadata": {},
     "output_type": "execute_result"
    }
   ],
   "source": [
    "db = wrds.Connection(wrds_username=config.WRDS_USERNAME)\n",
    "merged_main, link_hist = Table02Prep.prim_deal_merge_manual_data_w_linktable()\n",
    "merged_main"
   ]
  },
  {
   "cell_type": "code",
   "execution_count": 3,
   "id": "f56485ef",
   "metadata": {},
   "outputs": [
    {
     "data": {
      "application/vnd.microsoft.datawrangler.viewer.v0+json": {
       "columns": [
        {
         "name": "index",
         "rawType": "int64",
         "type": "integer"
        },
        {
         "name": "gvkey",
         "rawType": "int64",
         "type": "integer"
        },
        {
         "name": "LPERMCO",
         "rawType": "int64",
         "type": "integer"
        },
        {
         "name": "datadate",
         "rawType": "object",
         "type": "string"
        },
        {
         "name": "fyear",
         "rawType": "float64",
         "type": "float"
        },
        {
         "name": "indfmt",
         "rawType": "object",
         "type": "string"
        },
        {
         "name": "consol",
         "rawType": "object",
         "type": "string"
        },
        {
         "name": "popsrc",
         "rawType": "object",
         "type": "string"
        },
        {
         "name": "datafmt",
         "rawType": "object",
         "type": "string"
        },
        {
         "name": "tic",
         "rawType": "object",
         "type": "string"
        },
        {
         "name": "conm",
         "rawType": "object",
         "type": "string"
        },
        {
         "name": "curcd",
         "rawType": "object",
         "type": "string"
        },
        {
         "name": "costat",
         "rawType": "object",
         "type": "string"
        },
        {
         "name": "sic",
         "rawType": "int64",
         "type": "integer"
        }
       ],
       "conversionMethod": "pd.DataFrame",
       "ref": "5904db3d-3605-4412-bc2f-da48afcb5b78",
       "rows": [
        [
         "0",
         "1000",
         "23369",
         "1970-12-31",
         "1970.0",
         "INDL",
         "C",
         "D",
         "STD",
         "AE.2",
         "A & E PLASTIK PAK INC",
         "USD",
         "I",
         "3089"
        ],
        [
         "1",
         "1000",
         "23369",
         "1971-12-31",
         "1971.0",
         "INDL",
         "C",
         "D",
         "STD",
         "AE.2",
         "A & E PLASTIK PAK INC",
         "USD",
         "I",
         "3089"
        ],
        [
         "2",
         "1000",
         "23369",
         "1972-12-31",
         "1972.0",
         "INDL",
         "C",
         "D",
         "STD",
         "AE.2",
         "A & E PLASTIK PAK INC",
         "USD",
         "I",
         "3089"
        ],
        [
         "3",
         "1000",
         "23369",
         "1973-12-31",
         "1973.0",
         "INDL",
         "C",
         "D",
         "STD",
         "AE.2",
         "A & E PLASTIK PAK INC",
         "USD",
         "I",
         "3089"
        ],
        [
         "4",
         "1000",
         "23369",
         "1974-12-31",
         "1974.0",
         "INDL",
         "C",
         "D",
         "STD",
         "AE.2",
         "A & E PLASTIK PAK INC",
         "USD",
         "I",
         "3089"
        ],
        [
         "5",
         "1000",
         "23369",
         "1975-12-31",
         "1975.0",
         "INDL",
         "C",
         "D",
         "STD",
         "AE.2",
         "A & E PLASTIK PAK INC",
         "USD",
         "I",
         "3089"
        ],
        [
         "6",
         "1000",
         "23369",
         "1976-12-31",
         "1976.0",
         "INDL",
         "C",
         "D",
         "STD",
         "AE.2",
         "A & E PLASTIK PAK INC",
         "USD",
         "I",
         "3089"
        ],
        [
         "7",
         "1000",
         "23369",
         "1977-12-31",
         "1977.0",
         "INDL",
         "C",
         "D",
         "STD",
         "AE.2",
         "A & E PLASTIK PAK INC",
         "USD",
         "I",
         "3089"
        ],
        [
         "8",
         "1001",
         "6398",
         "1983-12-31",
         "1983.0",
         "INDL",
         "C",
         "D",
         "STD",
         "AMFD.",
         "A & M FOOD SERVICES INC",
         "USD",
         "I",
         "5812"
        ],
        [
         "9",
         "1001",
         "6398",
         "1984-12-31",
         "1984.0",
         "INDL",
         "C",
         "D",
         "STD",
         "AMFD.",
         "A & M FOOD SERVICES INC",
         "USD",
         "I",
         "5812"
        ],
        [
         "10",
         "1001",
         "6398",
         "1985-12-31",
         "1985.0",
         "INDL",
         "C",
         "D",
         "STD",
         "AMFD.",
         "A & M FOOD SERVICES INC",
         "USD",
         "I",
         "5812"
        ],
        [
         "11",
         "1002",
         "22159",
         "1972-12-31",
         "1972.0",
         "INDL",
         "C",
         "D",
         "STD",
         "AAIC.1",
         "AAI CORP",
         "USD",
         "I",
         "3825"
        ],
        [
         "12",
         "1003",
         "6672",
         "1983-12-31",
         "1983.0",
         "INDL",
         "C",
         "D",
         "STD",
         "ANTQ",
         "A.A. IMPORTING CO INC",
         "USD",
         "I",
         "5712"
        ],
        [
         "13",
         "1003",
         "6672",
         "1984-12-31",
         "1984.0",
         "INDL",
         "C",
         "D",
         "STD",
         "ANTQ",
         "A.A. IMPORTING CO INC",
         "USD",
         "I",
         "5712"
        ],
        [
         "14",
         "1003",
         "6672",
         "1986-01-31",
         "1985.0",
         "INDL",
         "C",
         "D",
         "STD",
         "ANTQ",
         "A.A. IMPORTING CO INC",
         "USD",
         "I",
         "5712"
        ],
        [
         "15",
         "1003",
         "6672",
         "1987-01-31",
         "1986.0",
         "INDL",
         "C",
         "D",
         "STD",
         "ANTQ",
         "A.A. IMPORTING CO INC",
         "USD",
         "I",
         "5712"
        ],
        [
         "16",
         "1003",
         "6672",
         "1988-01-31",
         "1987.0",
         "INDL",
         "C",
         "D",
         "STD",
         "ANTQ",
         "A.A. IMPORTING CO INC",
         "USD",
         "I",
         "5712"
        ],
        [
         "17",
         "1003",
         "6672",
         "1989-01-31",
         "1988.0",
         "INDL",
         "C",
         "D",
         "STD",
         "ANTQ",
         "A.A. IMPORTING CO INC",
         "USD",
         "I",
         "5712"
        ],
        [
         "18",
         "1004",
         "20000",
         "1972-05-31",
         "1971.0",
         "INDL",
         "C",
         "D",
         "STD",
         "AIR",
         "AAR CORP",
         "USD",
         "A",
         "5080"
        ],
        [
         "19",
         "1004",
         "20000",
         "1973-05-31",
         "1972.0",
         "INDL",
         "C",
         "D",
         "STD",
         "AIR",
         "AAR CORP",
         "USD",
         "A",
         "5080"
        ],
        [
         "20",
         "1004",
         "20000",
         "1974-05-31",
         "1973.0",
         "INDL",
         "C",
         "D",
         "STD",
         "AIR",
         "AAR CORP",
         "USD",
         "A",
         "5080"
        ],
        [
         "21",
         "1004",
         "20000",
         "1975-05-31",
         "1974.0",
         "INDL",
         "C",
         "D",
         "STD",
         "AIR",
         "AAR CORP",
         "USD",
         "A",
         "5080"
        ],
        [
         "22",
         "1004",
         "20000",
         "1976-05-31",
         "1975.0",
         "INDL",
         "C",
         "D",
         "STD",
         "AIR",
         "AAR CORP",
         "USD",
         "A",
         "5080"
        ],
        [
         "23",
         "1004",
         "20000",
         "1977-05-31",
         "1976.0",
         "INDL",
         "C",
         "D",
         "STD",
         "AIR",
         "AAR CORP",
         "USD",
         "A",
         "5080"
        ],
        [
         "24",
         "1004",
         "20000",
         "1978-05-31",
         "1977.0",
         "INDL",
         "C",
         "D",
         "STD",
         "AIR",
         "AAR CORP",
         "USD",
         "A",
         "5080"
        ],
        [
         "25",
         "1004",
         "20000",
         "1979-05-31",
         "1978.0",
         "INDL",
         "C",
         "D",
         "STD",
         "AIR",
         "AAR CORP",
         "USD",
         "A",
         "5080"
        ],
        [
         "26",
         "1004",
         "20000",
         "1980-05-31",
         "1979.0",
         "INDL",
         "C",
         "D",
         "STD",
         "AIR",
         "AAR CORP",
         "USD",
         "A",
         "5080"
        ],
        [
         "27",
         "1004",
         "20000",
         "1981-05-31",
         "1980.0",
         "INDL",
         "C",
         "D",
         "STD",
         "AIR",
         "AAR CORP",
         "USD",
         "A",
         "5080"
        ],
        [
         "28",
         "1004",
         "20000",
         "1982-05-31",
         "1981.0",
         "INDL",
         "C",
         "D",
         "STD",
         "AIR",
         "AAR CORP",
         "USD",
         "A",
         "5080"
        ],
        [
         "29",
         "1004",
         "20000",
         "1983-05-31",
         "1982.0",
         "INDL",
         "C",
         "D",
         "STD",
         "AIR",
         "AAR CORP",
         "USD",
         "A",
         "5080"
        ],
        [
         "30",
         "1004",
         "20000",
         "1984-05-31",
         "1983.0",
         "INDL",
         "C",
         "D",
         "STD",
         "AIR",
         "AAR CORP",
         "USD",
         "A",
         "5080"
        ],
        [
         "31",
         "1004",
         "20000",
         "1985-05-31",
         "1984.0",
         "INDL",
         "C",
         "D",
         "STD",
         "AIR",
         "AAR CORP",
         "USD",
         "A",
         "5080"
        ],
        [
         "32",
         "1004",
         "20000",
         "1986-05-31",
         "1985.0",
         "INDL",
         "C",
         "D",
         "STD",
         "AIR",
         "AAR CORP",
         "USD",
         "A",
         "5080"
        ],
        [
         "33",
         "1004",
         "20000",
         "1987-05-31",
         "1986.0",
         "INDL",
         "C",
         "D",
         "STD",
         "AIR",
         "AAR CORP",
         "USD",
         "A",
         "5080"
        ],
        [
         "34",
         "1004",
         "20000",
         "1988-05-31",
         "1987.0",
         "INDL",
         "C",
         "D",
         "STD",
         "AIR",
         "AAR CORP",
         "USD",
         "A",
         "5080"
        ],
        [
         "35",
         "1004",
         "20000",
         "1989-05-31",
         "1988.0",
         "INDL",
         "C",
         "D",
         "STD",
         "AIR",
         "AAR CORP",
         "USD",
         "A",
         "5080"
        ],
        [
         "36",
         "1004",
         "20000",
         "1990-05-31",
         "1989.0",
         "INDL",
         "C",
         "D",
         "STD",
         "AIR",
         "AAR CORP",
         "USD",
         "A",
         "5080"
        ],
        [
         "37",
         "1004",
         "20000",
         "1991-05-31",
         "1990.0",
         "INDL",
         "C",
         "D",
         "STD",
         "AIR",
         "AAR CORP",
         "USD",
         "A",
         "5080"
        ],
        [
         "38",
         "1004",
         "20000",
         "1992-05-31",
         "1991.0",
         "INDL",
         "C",
         "D",
         "STD",
         "AIR",
         "AAR CORP",
         "USD",
         "A",
         "5080"
        ],
        [
         "39",
         "1004",
         "20000",
         "1993-05-31",
         "1992.0",
         "INDL",
         "C",
         "D",
         "STD",
         "AIR",
         "AAR CORP",
         "USD",
         "A",
         "5080"
        ],
        [
         "40",
         "1004",
         "20000",
         "1994-05-31",
         "1993.0",
         "INDL",
         "C",
         "D",
         "STD",
         "AIR",
         "AAR CORP",
         "USD",
         "A",
         "5080"
        ],
        [
         "41",
         "1004",
         "20000",
         "1995-05-31",
         "1994.0",
         "INDL",
         "C",
         "D",
         "STD",
         "AIR",
         "AAR CORP",
         "USD",
         "A",
         "5080"
        ],
        [
         "42",
         "1004",
         "20000",
         "1996-05-31",
         "1995.0",
         "INDL",
         "C",
         "D",
         "STD",
         "AIR",
         "AAR CORP",
         "USD",
         "A",
         "5080"
        ],
        [
         "43",
         "1004",
         "20000",
         "1997-05-31",
         "1996.0",
         "INDL",
         "C",
         "D",
         "STD",
         "AIR",
         "AAR CORP",
         "USD",
         "A",
         "5080"
        ],
        [
         "44",
         "1004",
         "20000",
         "1998-05-31",
         "1997.0",
         "INDL",
         "C",
         "D",
         "STD",
         "AIR",
         "AAR CORP",
         "USD",
         "A",
         "5080"
        ],
        [
         "45",
         "1004",
         "20000",
         "1999-05-31",
         "1998.0",
         "INDL",
         "C",
         "D",
         "STD",
         "AIR",
         "AAR CORP",
         "USD",
         "A",
         "5080"
        ],
        [
         "46",
         "1004",
         "20000",
         "2000-05-31",
         "1999.0",
         "INDL",
         "C",
         "D",
         "STD",
         "AIR",
         "AAR CORP",
         "USD",
         "A",
         "5080"
        ],
        [
         "47",
         "1004",
         "20000",
         "2001-05-31",
         "2000.0",
         "INDL",
         "C",
         "D",
         "STD",
         "AIR",
         "AAR CORP",
         "USD",
         "A",
         "5080"
        ],
        [
         "48",
         "1004",
         "20000",
         "2002-05-31",
         "2001.0",
         "INDL",
         "C",
         "D",
         "STD",
         "AIR",
         "AAR CORP",
         "USD",
         "A",
         "5080"
        ],
        [
         "49",
         "1004",
         "20000",
         "2003-05-31",
         "2002.0",
         "INDL",
         "C",
         "D",
         "STD",
         "AIR",
         "AAR CORP",
         "USD",
         "A",
         "5080"
        ]
       ],
       "shape": {
        "columns": 13,
        "rows": 263895
       }
      },
      "text/html": [
       "<div>\n",
       "<style scoped>\n",
       "    .dataframe tbody tr th:only-of-type {\n",
       "        vertical-align: middle;\n",
       "    }\n",
       "\n",
       "    .dataframe tbody tr th {\n",
       "        vertical-align: top;\n",
       "    }\n",
       "\n",
       "    .dataframe thead th {\n",
       "        text-align: right;\n",
       "    }\n",
       "</style>\n",
       "<table border=\"1\" class=\"dataframe\">\n",
       "  <thead>\n",
       "    <tr style=\"text-align: right;\">\n",
       "      <th></th>\n",
       "      <th>gvkey</th>\n",
       "      <th>LPERMCO</th>\n",
       "      <th>datadate</th>\n",
       "      <th>fyear</th>\n",
       "      <th>indfmt</th>\n",
       "      <th>consol</th>\n",
       "      <th>popsrc</th>\n",
       "      <th>datafmt</th>\n",
       "      <th>tic</th>\n",
       "      <th>conm</th>\n",
       "      <th>curcd</th>\n",
       "      <th>costat</th>\n",
       "      <th>sic</th>\n",
       "    </tr>\n",
       "  </thead>\n",
       "  <tbody>\n",
       "    <tr>\n",
       "      <th>0</th>\n",
       "      <td>1000</td>\n",
       "      <td>23369</td>\n",
       "      <td>1970-12-31</td>\n",
       "      <td>1970.0</td>\n",
       "      <td>INDL</td>\n",
       "      <td>C</td>\n",
       "      <td>D</td>\n",
       "      <td>STD</td>\n",
       "      <td>AE.2</td>\n",
       "      <td>A &amp; E PLASTIK PAK INC</td>\n",
       "      <td>USD</td>\n",
       "      <td>I</td>\n",
       "      <td>3089</td>\n",
       "    </tr>\n",
       "    <tr>\n",
       "      <th>1</th>\n",
       "      <td>1000</td>\n",
       "      <td>23369</td>\n",
       "      <td>1971-12-31</td>\n",
       "      <td>1971.0</td>\n",
       "      <td>INDL</td>\n",
       "      <td>C</td>\n",
       "      <td>D</td>\n",
       "      <td>STD</td>\n",
       "      <td>AE.2</td>\n",
       "      <td>A &amp; E PLASTIK PAK INC</td>\n",
       "      <td>USD</td>\n",
       "      <td>I</td>\n",
       "      <td>3089</td>\n",
       "    </tr>\n",
       "    <tr>\n",
       "      <th>2</th>\n",
       "      <td>1000</td>\n",
       "      <td>23369</td>\n",
       "      <td>1972-12-31</td>\n",
       "      <td>1972.0</td>\n",
       "      <td>INDL</td>\n",
       "      <td>C</td>\n",
       "      <td>D</td>\n",
       "      <td>STD</td>\n",
       "      <td>AE.2</td>\n",
       "      <td>A &amp; E PLASTIK PAK INC</td>\n",
       "      <td>USD</td>\n",
       "      <td>I</td>\n",
       "      <td>3089</td>\n",
       "    </tr>\n",
       "    <tr>\n",
       "      <th>3</th>\n",
       "      <td>1000</td>\n",
       "      <td>23369</td>\n",
       "      <td>1973-12-31</td>\n",
       "      <td>1973.0</td>\n",
       "      <td>INDL</td>\n",
       "      <td>C</td>\n",
       "      <td>D</td>\n",
       "      <td>STD</td>\n",
       "      <td>AE.2</td>\n",
       "      <td>A &amp; E PLASTIK PAK INC</td>\n",
       "      <td>USD</td>\n",
       "      <td>I</td>\n",
       "      <td>3089</td>\n",
       "    </tr>\n",
       "    <tr>\n",
       "      <th>4</th>\n",
       "      <td>1000</td>\n",
       "      <td>23369</td>\n",
       "      <td>1974-12-31</td>\n",
       "      <td>1974.0</td>\n",
       "      <td>INDL</td>\n",
       "      <td>C</td>\n",
       "      <td>D</td>\n",
       "      <td>STD</td>\n",
       "      <td>AE.2</td>\n",
       "      <td>A &amp; E PLASTIK PAK INC</td>\n",
       "      <td>USD</td>\n",
       "      <td>I</td>\n",
       "      <td>3089</td>\n",
       "    </tr>\n",
       "    <tr>\n",
       "      <th>...</th>\n",
       "      <td>...</td>\n",
       "      <td>...</td>\n",
       "      <td>...</td>\n",
       "      <td>...</td>\n",
       "      <td>...</td>\n",
       "      <td>...</td>\n",
       "      <td>...</td>\n",
       "      <td>...</td>\n",
       "      <td>...</td>\n",
       "      <td>...</td>\n",
       "      <td>...</td>\n",
       "      <td>...</td>\n",
       "      <td>...</td>\n",
       "    </tr>\n",
       "    <tr>\n",
       "      <th>320693</th>\n",
       "      <td>296318</td>\n",
       "      <td>53885</td>\n",
       "      <td>2012-12-31</td>\n",
       "      <td>2012.0</td>\n",
       "      <td>INDL</td>\n",
       "      <td>C</td>\n",
       "      <td>D</td>\n",
       "      <td>STD</td>\n",
       "      <td>ORIG</td>\n",
       "      <td>OCEAN RIG UDW INC</td>\n",
       "      <td>USD</td>\n",
       "      <td>I</td>\n",
       "      <td>1381</td>\n",
       "    </tr>\n",
       "    <tr>\n",
       "      <th>320711</th>\n",
       "      <td>296753</td>\n",
       "      <td>53991</td>\n",
       "      <td>2012-12-31</td>\n",
       "      <td>2012.0</td>\n",
       "      <td>INDL</td>\n",
       "      <td>C</td>\n",
       "      <td>D</td>\n",
       "      <td>STD</td>\n",
       "      <td>AVGTF</td>\n",
       "      <td>AVG TECHNOLOGIES NV</td>\n",
       "      <td>USD</td>\n",
       "      <td>I</td>\n",
       "      <td>7372</td>\n",
       "    </tr>\n",
       "    <tr>\n",
       "      <th>320724</th>\n",
       "      <td>296885</td>\n",
       "      <td>54281</td>\n",
       "      <td>2012-12-31</td>\n",
       "      <td>2012.0</td>\n",
       "      <td>INDL</td>\n",
       "      <td>C</td>\n",
       "      <td>D</td>\n",
       "      <td>STD</td>\n",
       "      <td>RDHL</td>\n",
       "      <td>REDHILL BIOPHARMA LTD</td>\n",
       "      <td>USD</td>\n",
       "      <td>A</td>\n",
       "      <td>2836</td>\n",
       "    </tr>\n",
       "    <tr>\n",
       "      <th>320747</th>\n",
       "      <td>297209</td>\n",
       "      <td>53928</td>\n",
       "      <td>2011-12-31</td>\n",
       "      <td>2011.0</td>\n",
       "      <td>INDL</td>\n",
       "      <td>C</td>\n",
       "      <td>D</td>\n",
       "      <td>STD</td>\n",
       "      <td>PACDQ</td>\n",
       "      <td>PACIFIC DRILLING SA</td>\n",
       "      <td>USD</td>\n",
       "      <td>A</td>\n",
       "      <td>1381</td>\n",
       "    </tr>\n",
       "    <tr>\n",
       "      <th>320748</th>\n",
       "      <td>297209</td>\n",
       "      <td>53928</td>\n",
       "      <td>2012-12-31</td>\n",
       "      <td>2012.0</td>\n",
       "      <td>INDL</td>\n",
       "      <td>C</td>\n",
       "      <td>D</td>\n",
       "      <td>STD</td>\n",
       "      <td>PACDQ</td>\n",
       "      <td>PACIFIC DRILLING SA</td>\n",
       "      <td>USD</td>\n",
       "      <td>A</td>\n",
       "      <td>1381</td>\n",
       "    </tr>\n",
       "  </tbody>\n",
       "</table>\n",
       "<p>263895 rows × 13 columns</p>\n",
       "</div>"
      ],
      "text/plain": [
       "         gvkey  LPERMCO    datadate   fyear indfmt consol popsrc datafmt  \\\n",
       "0         1000    23369  1970-12-31  1970.0   INDL      C      D     STD   \n",
       "1         1000    23369  1971-12-31  1971.0   INDL      C      D     STD   \n",
       "2         1000    23369  1972-12-31  1972.0   INDL      C      D     STD   \n",
       "3         1000    23369  1973-12-31  1973.0   INDL      C      D     STD   \n",
       "4         1000    23369  1974-12-31  1974.0   INDL      C      D     STD   \n",
       "...        ...      ...         ...     ...    ...    ...    ...     ...   \n",
       "320693  296318    53885  2012-12-31  2012.0   INDL      C      D     STD   \n",
       "320711  296753    53991  2012-12-31  2012.0   INDL      C      D     STD   \n",
       "320724  296885    54281  2012-12-31  2012.0   INDL      C      D     STD   \n",
       "320747  297209    53928  2011-12-31  2011.0   INDL      C      D     STD   \n",
       "320748  297209    53928  2012-12-31  2012.0   INDL      C      D     STD   \n",
       "\n",
       "          tic                   conm curcd costat   sic  \n",
       "0        AE.2  A & E PLASTIK PAK INC   USD      I  3089  \n",
       "1        AE.2  A & E PLASTIK PAK INC   USD      I  3089  \n",
       "2        AE.2  A & E PLASTIK PAK INC   USD      I  3089  \n",
       "3        AE.2  A & E PLASTIK PAK INC   USD      I  3089  \n",
       "4        AE.2  A & E PLASTIK PAK INC   USD      I  3089  \n",
       "...       ...                    ...   ...    ...   ...  \n",
       "320693   ORIG      OCEAN RIG UDW INC   USD      I  1381  \n",
       "320711  AVGTF    AVG TECHNOLOGIES NV   USD      I  7372  \n",
       "320724   RDHL  REDHILL BIOPHARMA LTD   USD      A  2836  \n",
       "320747  PACDQ    PACIFIC DRILLING SA   USD      A  1381  \n",
       "320748  PACDQ    PACIFIC DRILLING SA   USD      A  1381  \n",
       "\n",
       "[263895 rows x 13 columns]"
      ]
     },
     "execution_count": 3,
     "metadata": {},
     "output_type": "execute_result"
    }
   ],
   "source": [
    "link_hist"
   ]
  },
  {
   "cell_type": "markdown",
   "id": "151d0aa64ed934f2",
   "metadata": {
    "collapsed": false
   },
   "source": [
    "As mentioned above, the next step is now to use the linkhist table to determine what the other comparison groups are. We use SIC codes to determine broker dealers and banks, and we make sure to exclude any firms that are already in the primary dealer group so we do not have duplicates. Below is the reference table for broker dealers, which had explicit SIC codes mentioned in the paper - banks did not have explicit SIC codes mentioned and required research."
   ]
  },
  {
   "cell_type": "code",
   "execution_count": 4,
   "id": "48600227e999d933",
   "metadata": {
    "ExecuteTime": {
     "end_time": "2024-03-10T21:11:20.484485200Z",
     "start_time": "2024-03-10T21:11:20.393178400Z"
    },
    "collapsed": false
   },
   "outputs": [
    {
     "data": {
      "application/vnd.microsoft.datawrangler.viewer.v0+json": {
       "columns": [
        {
         "name": "index",
         "rawType": "int64",
         "type": "integer"
        },
        {
         "name": "gvkey",
         "rawType": "int64",
         "type": "integer"
        },
        {
         "name": "conm",
         "rawType": "object",
         "type": "string"
        },
        {
         "name": "sic",
         "rawType": "int64",
         "type": "integer"
        },
        {
         "name": "Start Date",
         "rawType": "object",
         "type": "string"
        },
        {
         "name": "End Date",
         "rawType": "object",
         "type": "string"
        }
       ],
       "conversionMethod": "pd.DataFrame",
       "ref": "06288e3a-55ba-4372-bd9d-38f43e4f0779",
       "rows": [
        [
         "0",
         "15504",
         "ABN-AMRO HOLDINGS NV",
         "6020",
         "9/29/1998",
         "9/15/2006"
        ],
        [
         "11",
         "3243",
         "CITIGROUP INC",
         "6199",
         "5/19/1960",
         "4/17/2000"
        ],
        [
         "38",
         "7647",
         "BANK OF AMERICA CORP",
         "6020",
         "4/18/1994",
         "9/30/1997"
        ],
        [
         "79",
         "2968",
         "JPMORGAN CHASE & CO",
         "6020",
         "4/1/1999",
         "8/1/2004"
        ],
        [
         "123",
         "7647",
         "BANK OF AMERICA CORP",
         "6020",
         "11/17/1971",
         "4/15/1994"
        ],
        [
         "164",
         "7647",
         "BANK OF AMERICA CORP",
         "6020",
         "5/17/1999",
         "11/1/2010"
        ],
        [
         "205",
         "15582",
         "BANK OF NOVA SCOTIA",
         "6020",
         "10/4/2011",
         "Current"
        ],
        [
         "216",
         "2029",
         "BANKERS TRUST CORP",
         "6020",
         "5/19/1960",
         "10/22/1997"
        ],
        [
         "246",
         "12673",
         "BARCLAYS PLC",
         "6020",
         "4/1/1998",
         "Current"
        ],
        [
         "273",
         "12673",
         "BARCLAYS PLC",
         "6020",
         "12/7/1989",
         "6/30/1996"
        ],
        [
         "300",
         "7267",
         "MERRILL LYNCH & CO INC",
         "6211",
         "5/19/1960",
         "6/14/1962"
        ],
        [
         "338",
         "2968",
         "JPMORGAN CHASE & CO",
         "6020",
         "6/10/1981",
         "10/1/2008"
        ],
        [
         "382",
         "7267",
         "MERRILL LYNCH & CO INC",
         "6211",
         "4/16/1962",
         "1/14/1970"
        ],
        [
         "420",
         "8299",
         "PAINE WEBBER GROUP",
         "6211",
         "12/5/1974",
         "12/31/1979"
        ],
        [
         "448",
         "15580",
         "BANK OF MONTREAL",
         "6020",
         "10/4/2011",
         "Current"
        ],
        [
         "463",
         "15580",
         "BANK OF MONTREAL",
         "6020",
         "2/15/2000",
         "3/31/2002"
        ],
        [
         "478",
         "15580",
         "BANK OF MONTREAL",
         "6020",
         "9/15/2000",
         "Current"
        ],
        [
         "493",
         "2019",
         "BANK OF NEW YORK MELLON CORP",
         "6020",
         "8/1/1989",
         "8/9/1990"
        ],
        [
         "537",
         "15576",
         "DEUTSCHE BANK AG",
         "6020",
         "10/23/1997",
         "6/4/1999"
        ],
        [
         "549",
         "12673",
         "BARCLAYS PLC",
         "6020",
         "7/1/1996",
         "3/31/1998"
        ],
        [
         "576",
         "127377",
         "BGC GROUP INC",
         "6211",
         "8/1/2006",
         "Current"
        ],
        [
         "590",
         "2968",
         "JPMORGAN CHASE & CO",
         "6020",
         "7/15/1970",
         "4/30/2001"
        ],
        [
         "634",
         "15581",
         "CANADIAN IMPERIAL BANK",
         "6020",
         "3/27/1996",
         "2/8/2007"
        ],
        [
         "649",
         "3243",
         "CITIGROUP INC",
         "6199",
         "6/15/1961",
         "Current"
        ],
        [
         "676",
         "3463",
         "CONTINENTAL BANK CORP",
         "6020",
         "5/19/1960",
         "8/30/1991"
        ],
        [
         "697",
         "15634",
         "NATWEST GROUP PLC",
         "6020",
         "9/29/1988",
         "1/13/1989"
        ],
        [
         "703",
         "7647",
         "BANK OF AMERICA CORP",
         "6020",
         "1/15/2004",
         "7/15/2008"
        ],
        [
         "744",
         "28838",
         "CREDIT SUISSE GROUP",
         "6211",
         "10/12/1993",
         "Current"
        ],
        [
         "756",
         "28838",
         "CREDIT SUISSE GROUP",
         "6211",
         "12/22/1987",
         "7/5/1993"
        ],
        [
         "768",
         "12124",
         "MORGAN STANLEY",
         "6211",
         "11/2/1977",
         "4/30/1998"
        ],
        [
         "795",
         "15576",
         "DEUTSCHE BANK AG",
         "6020",
         "12/13/1990",
         "Current"
        ],
        [
         "807",
         "144496",
         "UBS GROUP AG",
         "6282",
         "6/24/1988",
         "9/2/1997"
        ],
        [
         "820",
         "2019",
         "BANK OF NEW YORK MELLON CORP",
         "6020",
         "5/19/1960",
         "8/10/1993"
        ],
        [
         "864",
         "28838",
         "CREDIT SUISSE GROUP",
         "6211",
         "3/6/1974",
         "1/16/1985"
        ],
        [
         "876",
         "28838",
         "CREDIT SUISSE GROUP",
         "6211",
         "10/25/1995",
         "12/31/2000"
        ],
        [
         "888",
         "15577",
         "DRESDNER BANK AG",
         "6020",
         "5/8/1997",
         "6/26/2009"
        ],
        [
         "900",
         "28838",
         "CREDIT SUISSE GROUP",
         "6211",
         "5/19/1960",
         "10/11/1993"
        ],
        [
         "912",
         "2968",
         "JPMORGAN CHASE & CO",
         "6020",
         "5/19/1960",
         "3/31/1999"
        ],
        [
         "956",
         "4710",
         "FIRST INTERSTATE BNCP",
         "6020",
         "7/31/1964",
         "6/17/1988"
        ],
        [
         "990",
         "2014",
         "BANKBOSTON CORP",
         "6020",
         "3/21/1983",
         "11/17/1985"
        ],
        [
         "1018",
         "248136",
         "MIZUHO FINANCIAL GROUP INC",
         "6020",
         "12/28/1989",
         "3/31/2002"
        ],
        [
         "1025",
         "114628",
         "GOLDMAN SACHS GROUP INC",
         "6211",
         "12/4/1974",
         "Current"
        ],
        [
         "1039",
         "13294",
         "NATL WESTMINSTER BANK",
         "6020",
         "7/31/1984",
         "4/1/2009"
        ],
        [
         "1053",
         "15509",
         "HSBC HLDGS PLC",
         "6020",
         "5/9/1994",
         "Current"
        ],
        [
         "1067",
         "5793",
         "HUTTON (E.F.) GROUP",
         "6211",
         "11/2/1977",
         "12/31/1987"
        ],
        [
         "1083",
         "6682",
         "JEFFERIES FINANCIAL GRP INC",
         "6211",
         "6/18/2009",
         "Current"
        ],
        [
         "1136",
         "2968",
         "JPMORGAN CHASE & CO",
         "6020",
         "5/19/1960",
         "Current"
        ],
        [
         "1180",
         "5047",
         "GENERAL ELECTRIC CO",
         "9997",
         "2/7/1979",
         "12/30/1994"
        ],
        [
         "1233",
         "30128",
         "LEHMAN BROTHERS HOLDINGS INC",
         "6211",
         "2/22/1973",
         "1/29/1974"
        ],
        [
         "1247",
         "30128",
         "LEHMAN BROTHERS HOLDINGS INC",
         "6211",
         "11/25/1976",
         "9/22/2008"
        ]
       ],
       "shape": {
        "columns": 5,
        "rows": 79
       }
      },
      "text/html": [
       "<div>\n",
       "<style scoped>\n",
       "    .dataframe tbody tr th:only-of-type {\n",
       "        vertical-align: middle;\n",
       "    }\n",
       "\n",
       "    .dataframe tbody tr th {\n",
       "        vertical-align: top;\n",
       "    }\n",
       "\n",
       "    .dataframe thead th {\n",
       "        text-align: right;\n",
       "    }\n",
       "</style>\n",
       "<table border=\"1\" class=\"dataframe\">\n",
       "  <thead>\n",
       "    <tr style=\"text-align: right;\">\n",
       "      <th></th>\n",
       "      <th>gvkey</th>\n",
       "      <th>conm</th>\n",
       "      <th>sic</th>\n",
       "      <th>Start Date</th>\n",
       "      <th>End Date</th>\n",
       "    </tr>\n",
       "  </thead>\n",
       "  <tbody>\n",
       "    <tr>\n",
       "      <th>0</th>\n",
       "      <td>15504</td>\n",
       "      <td>ABN-AMRO HOLDINGS NV</td>\n",
       "      <td>6020</td>\n",
       "      <td>9/29/1998</td>\n",
       "      <td>9/15/2006</td>\n",
       "    </tr>\n",
       "    <tr>\n",
       "      <th>11</th>\n",
       "      <td>3243</td>\n",
       "      <td>CITIGROUP INC</td>\n",
       "      <td>6199</td>\n",
       "      <td>5/19/1960</td>\n",
       "      <td>4/17/2000</td>\n",
       "    </tr>\n",
       "    <tr>\n",
       "      <th>38</th>\n",
       "      <td>7647</td>\n",
       "      <td>BANK OF AMERICA CORP</td>\n",
       "      <td>6020</td>\n",
       "      <td>4/18/1994</td>\n",
       "      <td>9/30/1997</td>\n",
       "    </tr>\n",
       "    <tr>\n",
       "      <th>79</th>\n",
       "      <td>2968</td>\n",
       "      <td>JPMORGAN CHASE &amp; CO</td>\n",
       "      <td>6020</td>\n",
       "      <td>4/1/1999</td>\n",
       "      <td>8/1/2004</td>\n",
       "    </tr>\n",
       "    <tr>\n",
       "      <th>123</th>\n",
       "      <td>7647</td>\n",
       "      <td>BANK OF AMERICA CORP</td>\n",
       "      <td>6020</td>\n",
       "      <td>11/17/1971</td>\n",
       "      <td>4/15/1994</td>\n",
       "    </tr>\n",
       "    <tr>\n",
       "      <th>...</th>\n",
       "      <td>...</td>\n",
       "      <td>...</td>\n",
       "      <td>...</td>\n",
       "      <td>...</td>\n",
       "      <td>...</td>\n",
       "    </tr>\n",
       "    <tr>\n",
       "      <th>1759</th>\n",
       "      <td>144496</td>\n",
       "      <td>UBS GROUP AG</td>\n",
       "      <td>6282</td>\n",
       "      <td>12/7/1989</td>\n",
       "      <td>Current</td>\n",
       "    </tr>\n",
       "    <tr>\n",
       "      <th>1772</th>\n",
       "      <td>7267</td>\n",
       "      <td>MERRILL LYNCH &amp; CO INC</td>\n",
       "      <td>6211</td>\n",
       "      <td>6/17/1976</td>\n",
       "      <td>5/15/1978</td>\n",
       "    </tr>\n",
       "    <tr>\n",
       "      <th>1810</th>\n",
       "      <td>15362</td>\n",
       "      <td>WESTPAC BANKING CORP</td>\n",
       "      <td>6020</td>\n",
       "      <td>2/4/1987</td>\n",
       "      <td>6/27/1990</td>\n",
       "    </tr>\n",
       "    <tr>\n",
       "      <th>1834</th>\n",
       "      <td>7267</td>\n",
       "      <td>MERRILL LYNCH &amp; CO INC</td>\n",
       "      <td>6211</td>\n",
       "      <td>2/26/1976</td>\n",
       "      <td>4/18/1978</td>\n",
       "    </tr>\n",
       "    <tr>\n",
       "      <th>1872</th>\n",
       "      <td>8007</td>\n",
       "      <td>WELLS FARGO &amp; CO</td>\n",
       "      <td>6020</td>\n",
       "      <td>8/11/1993</td>\n",
       "      <td>3/31/2002</td>\n",
       "    </tr>\n",
       "  </tbody>\n",
       "</table>\n",
       "<p>79 rows × 5 columns</p>\n",
       "</div>"
      ],
      "text/plain": [
       "       gvkey                    conm   sic  Start Date   End Date\n",
       "0      15504    ABN-AMRO HOLDINGS NV  6020   9/29/1998  9/15/2006\n",
       "11      3243           CITIGROUP INC  6199   5/19/1960  4/17/2000\n",
       "38      7647    BANK OF AMERICA CORP  6020   4/18/1994  9/30/1997\n",
       "79      2968     JPMORGAN CHASE & CO  6020    4/1/1999   8/1/2004\n",
       "123     7647    BANK OF AMERICA CORP  6020  11/17/1971  4/15/1994\n",
       "...      ...                     ...   ...         ...        ...\n",
       "1759  144496            UBS GROUP AG  6282   12/7/1989    Current\n",
       "1772    7267  MERRILL LYNCH & CO INC  6211   6/17/1976  5/15/1978\n",
       "1810   15362    WESTPAC BANKING CORP  6020    2/4/1987  6/27/1990\n",
       "1834    7267  MERRILL LYNCH & CO INC  6211   2/26/1976  4/18/1978\n",
       "1872    8007        WELLS FARGO & CO  6020   8/11/1993  3/31/2002\n",
       "\n",
       "[79 rows x 5 columns]"
      ]
     },
     "execution_count": 4,
     "metadata": {},
     "output_type": "execute_result"
    }
   ],
   "source": [
    "comparison_group_link_dict = Table02Prep.create_comparison_group_linktables(link_hist, merged_main)\n",
    "comparison_group_link_dict['PD']"
   ]
  },
  {
   "cell_type": "code",
   "execution_count": 5,
   "id": "439adfe8",
   "metadata": {},
   "outputs": [
    {
     "data": {
      "text/plain": [
       "dict_keys(['BD', 'Banks', 'Cmpust.', 'PD'])"
      ]
     },
     "execution_count": 5,
     "metadata": {},
     "output_type": "execute_result"
    }
   ],
   "source": [
    "comparison_group_link_dict.keys()"
   ]
  },
  {
   "cell_type": "markdown",
   "id": "b77e57fb31a1ec53",
   "metadata": {
    "collapsed": false
   },
   "source": [
    "We then used each of the reference tables (primary dealers, broker dealers, banks, all firms in Compustat) and pulled data from the Compustat Fundamentals Quarterly table. The paper mentioned use of monthly data, but there was no apparent monthly table for financial statement data from Compustat. This led to some confusion about how these authors generated their ratios - I am wondering if they computed monthly ratios given what months came out of annual and then took the average."
   ]
  },
  {
   "cell_type": "markdown",
   "id": "3a63590b8ac8469c",
   "metadata": {
    "collapsed": false
   },
   "source": [
    "Below is the dataset for broker dealers. We calculate or directly pull the values we need in our query so we don't need to do it after. It was mentioned in class this was a best practice because it would run on WRDS servers."
   ]
  },
  {
   "cell_type": "code",
   "execution_count": 6,
   "id": "4876c132be618377",
   "metadata": {
    "ExecuteTime": {
     "end_time": "2024-03-10T21:13:42.162531100Z",
     "start_time": "2024-03-10T21:13:02.559601700Z"
    },
    "collapsed": false
   },
   "outputs": [
    {
     "data": {
      "application/vnd.microsoft.datawrangler.viewer.v0+json": {
       "columns": [
        {
         "name": "index",
         "rawType": "int64",
         "type": "integer"
        },
        {
         "name": "datadate",
         "rawType": "object",
         "type": "unknown"
        },
        {
         "name": "total_assets",
         "rawType": "float64",
         "type": "float"
        },
        {
         "name": "book_debt",
         "rawType": "float64",
         "type": "float"
        },
        {
         "name": "book_equity",
         "rawType": "float64",
         "type": "float"
        },
        {
         "name": "market_equity",
         "rawType": "float64",
         "type": "float"
        },
        {
         "name": "gvkey",
         "rawType": "object",
         "type": "string"
        },
        {
         "name": "conm",
         "rawType": "object",
         "type": "string"
        }
       ],
       "conversionMethod": "pd.DataFrame",
       "ref": "0bbfad25-7e70-4a43-8ce8-528931667315",
       "rows": [
        [
         "0",
         "1984-05-31",
         "592.012",
         "416.608",
         "175.404",
         "278.62287940638",
         "004230",
         "EDWARDS (A G) INC"
        ],
        [
         "1",
         "1984-08-31",
         "575.356",
         "396.56",
         "178.796",
         "360.24191655708",
         "004230",
         "EDWARDS (A G) INC"
        ],
        [
         "2",
         "1984-11-30",
         "587.4",
         "400.818",
         "186.582",
         "339.1982993796",
         "004230",
         "EDWARDS (A G) INC"
        ],
        [
         "3",
         "1985-02-28",
         "782.283",
         "590.959",
         "191.324",
         "435.34807775324",
         "004230",
         "EDWARDS (A G) INC"
        ],
        [
         "4",
         "1985-05-31",
         "593.498",
         "400.769",
         "192.729",
         "406.1992538106",
         "004230",
         "EDWARDS (A G) INC"
        ],
        [
         "5",
         "1985-08-31",
         "599.577",
         "403.9",
         "195.677",
         "398.455716035",
         "004230",
         "EDWARDS (A G) INC"
        ],
        [
         "6",
         "1985-11-30",
         "826.082",
         "621.981",
         "204.101",
         "413.94544843392",
         "004230",
         "EDWARDS (A G) INC"
        ],
        [
         "7",
         "1986-02-28",
         "917.961",
         "703.363",
         "214.598",
         "561.78868562058",
         "004230",
         "EDWARDS (A G) INC"
        ],
        [
         "8",
         "1986-05-31",
         "820.732",
         "595.618",
         "225.114",
         "568.3705632648",
         "004230",
         "EDWARDS (A G) INC"
        ],
        [
         "9",
         "1983-10-31",
         "88.534",
         "65.285",
         "23.249",
         "32.69872813855",
         "011770",
         "STIFEL FINANCIAL CORP"
        ],
        [
         "10",
         "1980-12-31",
         null,
         null,
         null,
         null,
         "001148",
         "ADVEST GROUP INC"
        ],
        [
         "11",
         "1981-03-31",
         null,
         null,
         null,
         null,
         "001148",
         "ADVEST GROUP INC"
        ],
        [
         "12",
         "1981-06-30",
         null,
         null,
         null,
         null,
         "001148",
         "ADVEST GROUP INC"
        ],
        [
         "13",
         "1981-09-30",
         "185.469",
         "165.845",
         "19.624",
         "18.84748192794",
         "001148",
         "ADVEST GROUP INC"
        ],
        [
         "14",
         "1981-12-31",
         "208.419",
         "187.814",
         "20.605",
         "25.6387362624",
         "001148",
         "ADVEST GROUP INC"
        ],
        [
         "15",
         "1982-03-31",
         "233.784",
         "212.81",
         "20.974",
         "23.2537398399",
         "001148",
         "ADVEST GROUP INC"
        ],
        [
         "16",
         "1982-06-30",
         "247.955",
         "226.517",
         "21.438",
         "25.6387362624",
         "001148",
         "ADVEST GROUP INC"
        ],
        [
         "17",
         "1982-09-30",
         "301.576",
         "277.642",
         "23.934",
         "36.3587337803",
         "001148",
         "ADVEST GROUP INC"
        ],
        [
         "18",
         "1982-12-31",
         "326.275",
         "299.595",
         "26.68",
         "49.67323268182",
         "001148",
         "ADVEST GROUP INC"
        ],
        [
         "19",
         "1983-03-31",
         "341.625",
         "313.074",
         "28.551",
         "84.34010678622",
         "001148",
         "ADVEST GROUP INC"
        ],
        [
         "20",
         "1983-06-30",
         "373.93",
         "342.947",
         "30.983",
         "91.4264010008",
         "001148",
         "ADVEST GROUP INC"
        ],
        [
         "21",
         "1983-09-30",
         "393.882",
         "361.365",
         "32.517",
         "79.97099152588",
         "001148",
         "ADVEST GROUP INC"
        ],
        [
         "22",
         "1983-12-31",
         "338.276",
         "305.588",
         "32.688",
         "64.65299122968",
         "001148",
         "ADVEST GROUP INC"
        ],
        [
         "23",
         "1984-03-31",
         "325.22",
         "292.566",
         "32.654",
         "54.8534904358",
         "001148",
         "ADVEST GROUP INC"
        ],
        [
         "24",
         "1984-06-30",
         "359.735",
         "323.883",
         "35.852",
         "54.65223910034",
         "001148",
         "ADVEST GROUP INC"
        ],
        [
         "25",
         "1984-09-30",
         "384.445",
         "348.504",
         "35.941",
         "56.19173719136",
         "001148",
         "ADVEST GROUP INC"
        ],
        [
         "26",
         "1984-12-31",
         "409.283",
         "373.153",
         "36.13",
         "46.95474156354",
         "001148",
         "ADVEST GROUP INC"
        ],
        [
         "27",
         "1985-03-31",
         "418.002",
         "360.793",
         "57.209",
         "77.8049886159",
         "001148",
         "ADVEST GROUP INC"
        ],
        [
         "28",
         "1985-06-30",
         "467.65",
         "408.799",
         "58.851",
         "69.74248925145",
         "001148",
         "ADVEST GROUP INC"
        ],
        [
         "29",
         "1985-09-30",
         "583.61",
         "522.717",
         "60.893",
         "73.99798413154",
         "001148",
         "ADVEST GROUP INC"
        ],
        [
         "30",
         "1985-12-31",
         "798.181",
         "733.953",
         "64.228",
         "116.20636389355",
         "001148",
         "ADVEST GROUP INC"
        ],
        [
         "31",
         "1986-03-31",
         "809.965",
         "741.949",
         "68.016",
         "139.0919809008",
         "001148",
         "ADVEST GROUP INC"
        ],
        [
         "32",
         "1986-06-30",
         "773.732",
         "702.988",
         "70.744",
         "148.672491241",
         "001148",
         "ADVEST GROUP INC"
        ],
        [
         "33",
         "1986-09-30",
         "789.748",
         "716.599",
         "73.149",
         "120.13298770947",
         "001148",
         "ADVEST GROUP INC"
        ],
        [
         "34",
         "1986-12-31",
         "946.043",
         "870.274",
         "75.769",
         "108.82849018228",
         "001148",
         "ADVEST GROUP INC"
        ],
        [
         "35",
         "1987-03-31",
         "979.412",
         "898.636",
         "80.776",
         "123.29123911315",
         "001148",
         "ADVEST GROUP INC"
        ],
        [
         "36",
         "1987-06-30",
         "943.056",
         "859.509",
         "83.547",
         "129.343125",
         "001148",
         "ADVEST GROUP INC"
        ],
        [
         "37",
         "1987-09-30",
         "960.778",
         "874.535",
         "86.243",
         "124.293375",
         "001148",
         "ADVEST GROUP INC"
        ],
        [
         "38",
         "1987-12-31",
         "909.407",
         "824.314",
         "85.093",
         "73.038375",
         "001148",
         "ADVEST GROUP INC"
        ],
        [
         "39",
         "1988-03-31",
         "888.589",
         "801.311",
         "87.278",
         "71.778",
         "001148",
         "ADVEST GROUP INC"
        ],
        [
         "40",
         "1988-06-30",
         "862.066",
         "774.331",
         "87.735",
         "70.49625",
         "001148",
         "ADVEST GROUP INC"
        ],
        [
         "41",
         "1988-09-30",
         "895.191",
         "807.182",
         "88.009",
         "85.87725",
         "001148",
         "ADVEST GROUP INC"
        ],
        [
         "42",
         "1988-12-31",
         "956.074",
         "867.613",
         "88.461",
         "76.905",
         "001148",
         "ADVEST GROUP INC"
        ],
        [
         "43",
         "1989-03-31",
         "916.671",
         "827.203",
         "89.468",
         "73.05975",
         "001148",
         "ADVEST GROUP INC"
        ],
        [
         "44",
         "1989-06-30",
         "901.597",
         "810.429",
         "91.168",
         "71.778",
         "001148",
         "ADVEST GROUP INC"
        ],
        [
         "45",
         "1989-09-30",
         "878.158",
         "786.124",
         "92.034",
         "91.581125",
         "001148",
         "ADVEST GROUP INC"
        ],
        [
         "46",
         "1989-12-31",
         "930.534",
         "839.093",
         "91.441",
         "73.522875",
         "001148",
         "ADVEST GROUP INC"
        ],
        [
         "47",
         "1990-03-31",
         "956.001",
         "869.63",
         "86.371",
         "58.044375",
         "001148",
         "ADVEST GROUP INC"
        ],
        [
         "48",
         "1990-06-30",
         "942.027",
         "856.548",
         "85.479",
         "43.85575",
         "001148",
         "ADVEST GROUP INC"
        ],
        [
         "49",
         "1990-09-30",
         "918.041",
         "838.041",
         "80.0",
         "23.79275",
         "001148",
         "ADVEST GROUP INC"
        ]
       ],
       "shape": {
        "columns": 7,
        "rows": 5887
       }
      },
      "text/html": [
       "<div>\n",
       "<style scoped>\n",
       "    .dataframe tbody tr th:only-of-type {\n",
       "        vertical-align: middle;\n",
       "    }\n",
       "\n",
       "    .dataframe tbody tr th {\n",
       "        vertical-align: top;\n",
       "    }\n",
       "\n",
       "    .dataframe thead th {\n",
       "        text-align: right;\n",
       "    }\n",
       "</style>\n",
       "<table border=\"1\" class=\"dataframe\">\n",
       "  <thead>\n",
       "    <tr style=\"text-align: right;\">\n",
       "      <th></th>\n",
       "      <th>datadate</th>\n",
       "      <th>total_assets</th>\n",
       "      <th>book_debt</th>\n",
       "      <th>book_equity</th>\n",
       "      <th>market_equity</th>\n",
       "      <th>gvkey</th>\n",
       "      <th>conm</th>\n",
       "    </tr>\n",
       "  </thead>\n",
       "  <tbody>\n",
       "    <tr>\n",
       "      <th>0</th>\n",
       "      <td>1984-05-31</td>\n",
       "      <td>592.012</td>\n",
       "      <td>416.608</td>\n",
       "      <td>175.404</td>\n",
       "      <td>278.622879</td>\n",
       "      <td>004230</td>\n",
       "      <td>EDWARDS (A G) INC</td>\n",
       "    </tr>\n",
       "    <tr>\n",
       "      <th>1</th>\n",
       "      <td>1984-08-31</td>\n",
       "      <td>575.356</td>\n",
       "      <td>396.560</td>\n",
       "      <td>178.796</td>\n",
       "      <td>360.241917</td>\n",
       "      <td>004230</td>\n",
       "      <td>EDWARDS (A G) INC</td>\n",
       "    </tr>\n",
       "    <tr>\n",
       "      <th>2</th>\n",
       "      <td>1984-11-30</td>\n",
       "      <td>587.400</td>\n",
       "      <td>400.818</td>\n",
       "      <td>186.582</td>\n",
       "      <td>339.198299</td>\n",
       "      <td>004230</td>\n",
       "      <td>EDWARDS (A G) INC</td>\n",
       "    </tr>\n",
       "    <tr>\n",
       "      <th>3</th>\n",
       "      <td>1985-02-28</td>\n",
       "      <td>782.283</td>\n",
       "      <td>590.959</td>\n",
       "      <td>191.324</td>\n",
       "      <td>435.348078</td>\n",
       "      <td>004230</td>\n",
       "      <td>EDWARDS (A G) INC</td>\n",
       "    </tr>\n",
       "    <tr>\n",
       "      <th>4</th>\n",
       "      <td>1985-05-31</td>\n",
       "      <td>593.498</td>\n",
       "      <td>400.769</td>\n",
       "      <td>192.729</td>\n",
       "      <td>406.199254</td>\n",
       "      <td>004230</td>\n",
       "      <td>EDWARDS (A G) INC</td>\n",
       "    </tr>\n",
       "    <tr>\n",
       "      <th>...</th>\n",
       "      <td>...</td>\n",
       "      <td>...</td>\n",
       "      <td>...</td>\n",
       "      <td>...</td>\n",
       "      <td>...</td>\n",
       "      <td>...</td>\n",
       "      <td>...</td>\n",
       "    </tr>\n",
       "    <tr>\n",
       "      <th>5886</th>\n",
       "      <td>2011-12-31</td>\n",
       "      <td>14.777</td>\n",
       "      <td>6.938</td>\n",
       "      <td>7.839</td>\n",
       "      <td>27.297800</td>\n",
       "      <td>142251</td>\n",
       "      <td>INVESTORS CAPITAL HLDGS LTD</td>\n",
       "    </tr>\n",
       "    <tr>\n",
       "      <th>5887</th>\n",
       "      <td>2012-03-31</td>\n",
       "      <td>15.491</td>\n",
       "      <td>8.235</td>\n",
       "      <td>7.256</td>\n",
       "      <td>26.673150</td>\n",
       "      <td>142251</td>\n",
       "      <td>INVESTORS CAPITAL HLDGS LTD</td>\n",
       "    </tr>\n",
       "    <tr>\n",
       "      <th>5888</th>\n",
       "      <td>2012-06-30</td>\n",
       "      <td>15.244</td>\n",
       "      <td>7.683</td>\n",
       "      <td>7.561</td>\n",
       "      <td>28.060200</td>\n",
       "      <td>142251</td>\n",
       "      <td>INVESTORS CAPITAL HLDGS LTD</td>\n",
       "    </tr>\n",
       "    <tr>\n",
       "      <th>5889</th>\n",
       "      <td>2012-09-30</td>\n",
       "      <td>15.584</td>\n",
       "      <td>7.695</td>\n",
       "      <td>7.889</td>\n",
       "      <td>26.720000</td>\n",
       "      <td>142251</td>\n",
       "      <td>INVESTORS CAPITAL HLDGS LTD</td>\n",
       "    </tr>\n",
       "    <tr>\n",
       "      <th>5890</th>\n",
       "      <td>2012-12-31</td>\n",
       "      <td>16.071</td>\n",
       "      <td>7.985</td>\n",
       "      <td>8.086</td>\n",
       "      <td>24.040800</td>\n",
       "      <td>142251</td>\n",
       "      <td>INVESTORS CAPITAL HLDGS LTD</td>\n",
       "    </tr>\n",
       "  </tbody>\n",
       "</table>\n",
       "<p>5887 rows × 7 columns</p>\n",
       "</div>"
      ],
      "text/plain": [
       "        datadate  total_assets  book_debt  book_equity  market_equity   gvkey  \\\n",
       "0     1984-05-31       592.012    416.608      175.404     278.622879  004230   \n",
       "1     1984-08-31       575.356    396.560      178.796     360.241917  004230   \n",
       "2     1984-11-30       587.400    400.818      186.582     339.198299  004230   \n",
       "3     1985-02-28       782.283    590.959      191.324     435.348078  004230   \n",
       "4     1985-05-31       593.498    400.769      192.729     406.199254  004230   \n",
       "...          ...           ...        ...          ...            ...     ...   \n",
       "5886  2011-12-31        14.777      6.938        7.839      27.297800  142251   \n",
       "5887  2012-03-31        15.491      8.235        7.256      26.673150  142251   \n",
       "5888  2012-06-30        15.244      7.683        7.561      28.060200  142251   \n",
       "5889  2012-09-30        15.584      7.695        7.889      26.720000  142251   \n",
       "5890  2012-12-31        16.071      7.985        8.086      24.040800  142251   \n",
       "\n",
       "                             conm  \n",
       "0               EDWARDS (A G) INC  \n",
       "1               EDWARDS (A G) INC  \n",
       "2               EDWARDS (A G) INC  \n",
       "3               EDWARDS (A G) INC  \n",
       "4               EDWARDS (A G) INC  \n",
       "...                           ...  \n",
       "5886  INVESTORS CAPITAL HLDGS LTD  \n",
       "5887  INVESTORS CAPITAL HLDGS LTD  \n",
       "5888  INVESTORS CAPITAL HLDGS LTD  \n",
       "5889  INVESTORS CAPITAL HLDGS LTD  \n",
       "5890  INVESTORS CAPITAL HLDGS LTD  \n",
       "\n",
       "[5887 rows x 7 columns]"
      ]
     },
     "execution_count": 6,
     "metadata": {},
     "output_type": "execute_result"
    }
   ],
   "source": [
    "datasets = Table02Prep.pull_data_for_all_comparison_groups(db, comparison_group_link_dict)\n",
    "datasets['BD']"
   ]
  },
  {
   "cell_type": "code",
   "execution_count": null,
   "id": "4d5c83e8",
   "metadata": {},
   "outputs": [],
   "source": []
  },
  {
   "cell_type": "markdown",
   "id": "ae7569cd43ed9d01",
   "metadata": {
    "collapsed": false
   },
   "source": [
    "We then prep that data further by aggregating by year and standardizing the date to the first of the year. We also convert the datadate to a datetime column that can be sliced."
   ]
  },
  {
   "cell_type": "code",
   "execution_count": 7,
   "id": "3f7f06ff4481980b",
   "metadata": {
    "ExecuteTime": {
     "end_time": "2024-03-10T21:13:48.967255Z",
     "start_time": "2024-03-10T21:13:48.517235400Z"
    },
    "collapsed": false
   },
   "outputs": [
    {
     "data": {
      "application/vnd.microsoft.datawrangler.viewer.v0+json": {
       "columns": [
        {
         "name": "index",
         "rawType": "int64",
         "type": "integer"
        },
        {
         "name": "datadate",
         "rawType": "datetime64[ns]",
         "type": "datetime"
        },
        {
         "name": "total_assets",
         "rawType": "float64",
         "type": "float"
        },
        {
         "name": "book_debt",
         "rawType": "float64",
         "type": "float"
        },
        {
         "name": "book_equity",
         "rawType": "float64",
         "type": "float"
        },
        {
         "name": "market_equity",
         "rawType": "float64",
         "type": "float"
        }
       ],
       "conversionMethod": "pd.DataFrame",
       "ref": "e8fa4694-bcde-4b95-9941-66aa1ec17ea9",
       "rows": [
        [
         "0",
         "1961-12-31 00:00:00",
         "15763.579",
         "9510.427",
         "38.218",
         "0.0"
        ],
        [
         "1",
         "1962-01-31 00:00:00",
         "15763.579",
         "9510.427",
         "38.218",
         "0.0"
        ],
        [
         "2",
         "1962-02-28 00:00:00",
         "15763.579",
         "9510.427",
         "38.218",
         "0.0"
        ],
        [
         "3",
         "1962-03-31 00:00:00",
         "52714.431",
         "17371.172",
         "4768.189",
         "9480.9143744771"
        ],
        [
         "4",
         "1962-04-30 00:00:00",
         "52714.431",
         "17371.172",
         "4768.189",
         "9480.9143744771"
        ],
        [
         "5",
         "1962-05-31 00:00:00",
         "52714.431",
         "17371.172",
         "4768.189",
         "9480.9143744771"
        ],
        [
         "6",
         "1962-06-30 00:00:00",
         "68997.249",
         "18108.476",
         "5732.284000000001",
         "7140.2143907672"
        ],
        [
         "7",
         "1962-07-31 00:00:00",
         "68997.249",
         "18108.476",
         "5732.284000000001",
         "7140.2143907672"
        ],
        [
         "8",
         "1962-08-31 00:00:00",
         "68997.249",
         "18108.476",
         "5732.284000000001",
         "7140.2143907672"
        ],
        [
         "9",
         "1962-09-30 00:00:00",
         "68978.01",
         "17884.826",
         "5777.275",
         "7888.37899369548"
        ],
        [
         "10",
         "1962-10-31 00:00:00",
         "68978.01",
         "17884.826",
         "5777.275",
         "7888.37899369548"
        ],
        [
         "11",
         "1962-11-30 00:00:00",
         "68978.01",
         "17884.826",
         "5777.275",
         "7888.37899369548"
        ],
        [
         "12",
         "1962-12-31 00:00:00",
         "81559.196",
         "20423.12",
         "6284.401",
         "9548.25834816273"
        ],
        [
         "13",
         "1963-01-31 00:00:00",
         "81559.196",
         "20423.12",
         "6284.401",
         "9548.25834816273"
        ],
        [
         "14",
         "1963-02-28 00:00:00",
         "81559.196",
         "20423.12",
         "6284.401",
         "9548.25834816273"
        ],
        [
         "15",
         "1963-03-31 00:00:00",
         "79911.57400000001",
         "20957.632999999998",
         "6455.843",
         "10209.57828560383"
        ],
        [
         "16",
         "1963-04-30 00:00:00",
         "79911.57400000001",
         "20957.632999999998",
         "6455.843",
         "10209.57828560383"
        ],
        [
         "17",
         "1963-05-31 00:00:00",
         "79911.57400000001",
         "20957.632999999998",
         "6455.843",
         "10209.57828560383"
        ],
        [
         "18",
         "1963-06-30 00:00:00",
         "82563.606",
         "22598.773",
         "6529.031",
         "10545.294152998431"
        ],
        [
         "19",
         "1963-07-31 00:00:00",
         "82563.606",
         "22598.773",
         "6529.031",
         "10545.294152998431"
        ],
        [
         "20",
         "1963-08-31 00:00:00",
         "82563.606",
         "22598.773",
         "6529.031",
         "10545.294152998431"
        ],
        [
         "21",
         "1963-09-30 00:00:00",
         "84791.811",
         "24020.405",
         "6642.219",
         "11019.58395711489"
        ],
        [
         "22",
         "1963-10-31 00:00:00",
         "84791.811",
         "24020.405",
         "6642.219",
         "11019.58395711489"
        ],
        [
         "23",
         "1963-11-30 00:00:00",
         "84791.811",
         "24020.405",
         "6642.219",
         "11019.58395711489"
        ],
        [
         "24",
         "1963-12-31 00:00:00",
         "89476.056",
         "25804.816000000003",
         "6733.901",
         "10808.21583179896"
        ],
        [
         "25",
         "1964-01-31 00:00:00",
         "89476.056",
         "25804.816000000003",
         "6733.901",
         "10808.21583179896"
        ],
        [
         "26",
         "1964-02-29 00:00:00",
         "89476.056",
         "25804.816000000003",
         "6733.901",
         "10808.21583179896"
        ],
        [
         "27",
         "1964-03-31 00:00:00",
         "88533.457",
         "25533.439000000002",
         "6858.019",
         "11823.51015349232"
        ],
        [
         "28",
         "1964-04-30 00:00:00",
         "88533.457",
         "25533.439000000002",
         "6858.019",
         "11823.51015349232"
        ],
        [
         "29",
         "1964-05-31 00:00:00",
         "88533.457",
         "25533.439000000002",
         "6858.019",
         "11823.51015349232"
        ],
        [
         "30",
         "1964-06-30 00:00:00",
         "93921.076",
         "39403.245",
         "7296.8189999999995",
         "11995.04428796516"
        ],
        [
         "31",
         "1964-07-31 00:00:00",
         "93921.076",
         "39403.245",
         "7296.8189999999995",
         "11995.04428796516"
        ],
        [
         "32",
         "1964-08-31 00:00:00",
         "93921.076",
         "39403.245",
         "7296.8189999999995",
         "11995.04428796516"
        ],
        [
         "33",
         "1964-09-30 00:00:00",
         "95361.567",
         "39881.661",
         "7367.029",
         "12586.931860117309"
        ],
        [
         "34",
         "1964-10-31 00:00:00",
         "95361.567",
         "39881.661",
         "7367.029",
         "12586.931860117309"
        ],
        [
         "35",
         "1964-11-30 00:00:00",
         "95361.567",
         "39881.661",
         "7367.029",
         "12586.931860117309"
        ],
        [
         "36",
         "1964-12-31 00:00:00",
         "101392.506",
         "51500.136",
         "7515.777",
         "11947.03781584143"
        ],
        [
         "37",
         "1965-01-31 00:00:00",
         "101392.506",
         "51500.136",
         "7515.777",
         "11947.03781584143"
        ],
        [
         "38",
         "1965-02-28 00:00:00",
         "101392.506",
         "51500.136",
         "7515.777",
         "11947.03781584143"
        ],
        [
         "39",
         "1965-03-31 00:00:00",
         "104392.43699999999",
         "54764.119999999995",
         "7811.3060000000005",
         "11598.57553283004"
        ],
        [
         "40",
         "1965-04-30 00:00:00",
         "104392.43699999999",
         "54764.119999999995",
         "7811.3060000000005",
         "11598.57553283004"
        ],
        [
         "41",
         "1965-05-31 00:00:00",
         "104392.43699999999",
         "54764.119999999995",
         "7811.3060000000005",
         "11598.57553283004"
        ],
        [
         "42",
         "1965-06-30 00:00:00",
         "108929.306",
         "57035.525",
         "7919.101",
         "11045.203030883029"
        ],
        [
         "43",
         "1965-07-31 00:00:00",
         "108929.306",
         "57035.525",
         "7919.101",
         "11045.203030883029"
        ],
        [
         "44",
         "1965-08-31 00:00:00",
         "108929.306",
         "57035.525",
         "7919.101",
         "11045.203030883029"
        ],
        [
         "45",
         "1965-09-30 00:00:00",
         "109557.925",
         "57546.699",
         "8005.792",
         "11896.69230005733"
        ],
        [
         "46",
         "1965-10-31 00:00:00",
         "109557.925",
         "57546.699",
         "8005.792",
         "11896.69230005733"
        ],
        [
         "47",
         "1965-11-30 00:00:00",
         "109557.925",
         "57546.699",
         "8005.792",
         "11896.69230005733"
        ],
        [
         "48",
         "1965-12-31 00:00:00",
         "115162.514",
         "60192.262",
         "8032.045",
         "11062.07405574962"
        ],
        [
         "49",
         "1966-01-31 00:00:00",
         "115162.514",
         "60192.262",
         "8032.045",
         "11062.07405574962"
        ]
       ],
       "shape": {
        "columns": 5,
        "rows": 613
       }
      },
      "text/html": [
       "<div>\n",
       "<style scoped>\n",
       "    .dataframe tbody tr th:only-of-type {\n",
       "        vertical-align: middle;\n",
       "    }\n",
       "\n",
       "    .dataframe tbody tr th {\n",
       "        vertical-align: top;\n",
       "    }\n",
       "\n",
       "    .dataframe thead th {\n",
       "        text-align: right;\n",
       "    }\n",
       "</style>\n",
       "<table border=\"1\" class=\"dataframe\">\n",
       "  <thead>\n",
       "    <tr style=\"text-align: right;\">\n",
       "      <th></th>\n",
       "      <th>datadate</th>\n",
       "      <th>total_assets</th>\n",
       "      <th>book_debt</th>\n",
       "      <th>book_equity</th>\n",
       "      <th>market_equity</th>\n",
       "    </tr>\n",
       "  </thead>\n",
       "  <tbody>\n",
       "    <tr>\n",
       "      <th>0</th>\n",
       "      <td>1961-12-31</td>\n",
       "      <td>1.576358e+04</td>\n",
       "      <td>9.510427e+03</td>\n",
       "      <td>38.218</td>\n",
       "      <td>0.000000e+00</td>\n",
       "    </tr>\n",
       "    <tr>\n",
       "      <th>1</th>\n",
       "      <td>1962-01-31</td>\n",
       "      <td>1.576358e+04</td>\n",
       "      <td>9.510427e+03</td>\n",
       "      <td>38.218</td>\n",
       "      <td>0.000000e+00</td>\n",
       "    </tr>\n",
       "    <tr>\n",
       "      <th>2</th>\n",
       "      <td>1962-02-28</td>\n",
       "      <td>1.576358e+04</td>\n",
       "      <td>9.510427e+03</td>\n",
       "      <td>38.218</td>\n",
       "      <td>0.000000e+00</td>\n",
       "    </tr>\n",
       "    <tr>\n",
       "      <th>3</th>\n",
       "      <td>1962-03-31</td>\n",
       "      <td>5.271443e+04</td>\n",
       "      <td>1.737117e+04</td>\n",
       "      <td>4768.189</td>\n",
       "      <td>9.480914e+03</td>\n",
       "    </tr>\n",
       "    <tr>\n",
       "      <th>4</th>\n",
       "      <td>1962-04-30</td>\n",
       "      <td>5.271443e+04</td>\n",
       "      <td>1.737117e+04</td>\n",
       "      <td>4768.189</td>\n",
       "      <td>9.480914e+03</td>\n",
       "    </tr>\n",
       "    <tr>\n",
       "      <th>...</th>\n",
       "      <td>...</td>\n",
       "      <td>...</td>\n",
       "      <td>...</td>\n",
       "      <td>...</td>\n",
       "      <td>...</td>\n",
       "    </tr>\n",
       "    <tr>\n",
       "      <th>608</th>\n",
       "      <td>2012-08-31</td>\n",
       "      <td>1.422168e+07</td>\n",
       "      <td>1.312939e+07</td>\n",
       "      <td>1059816.065</td>\n",
       "      <td>9.601542e+05</td>\n",
       "    </tr>\n",
       "    <tr>\n",
       "      <th>609</th>\n",
       "      <td>2012-09-30</td>\n",
       "      <td>1.455478e+07</td>\n",
       "      <td>1.342757e+07</td>\n",
       "      <td>1093982.278</td>\n",
       "      <td>1.017572e+06</td>\n",
       "    </tr>\n",
       "    <tr>\n",
       "      <th>610</th>\n",
       "      <td>2012-10-31</td>\n",
       "      <td>1.454541e+07</td>\n",
       "      <td>1.341925e+07</td>\n",
       "      <td>1092938.016</td>\n",
       "      <td>1.015913e+06</td>\n",
       "    </tr>\n",
       "    <tr>\n",
       "      <th>611</th>\n",
       "      <td>2012-11-30</td>\n",
       "      <td>1.454541e+07</td>\n",
       "      <td>1.341925e+07</td>\n",
       "      <td>1092938.016</td>\n",
       "      <td>1.015913e+06</td>\n",
       "    </tr>\n",
       "    <tr>\n",
       "      <th>612</th>\n",
       "      <td>2012-12-31</td>\n",
       "      <td>1.435278e+07</td>\n",
       "      <td>1.321923e+07</td>\n",
       "      <td>1098702.391</td>\n",
       "      <td>1.078840e+06</td>\n",
       "    </tr>\n",
       "  </tbody>\n",
       "</table>\n",
       "<p>613 rows × 5 columns</p>\n",
       "</div>"
      ],
      "text/plain": [
       "      datadate  total_assets     book_debt  book_equity  market_equity\n",
       "0   1961-12-31  1.576358e+04  9.510427e+03       38.218   0.000000e+00\n",
       "1   1962-01-31  1.576358e+04  9.510427e+03       38.218   0.000000e+00\n",
       "2   1962-02-28  1.576358e+04  9.510427e+03       38.218   0.000000e+00\n",
       "3   1962-03-31  5.271443e+04  1.737117e+04     4768.189   9.480914e+03\n",
       "4   1962-04-30  5.271443e+04  1.737117e+04     4768.189   9.480914e+03\n",
       "..         ...           ...           ...          ...            ...\n",
       "608 2012-08-31  1.422168e+07  1.312939e+07  1059816.065   9.601542e+05\n",
       "609 2012-09-30  1.455478e+07  1.342757e+07  1093982.278   1.017572e+06\n",
       "610 2012-10-31  1.454541e+07  1.341925e+07  1092938.016   1.015913e+06\n",
       "611 2012-11-30  1.454541e+07  1.341925e+07  1092938.016   1.015913e+06\n",
       "612 2012-12-31  1.435278e+07  1.321923e+07  1098702.391   1.078840e+06\n",
       "\n",
       "[613 rows x 5 columns]"
      ]
     },
     "execution_count": 7,
     "metadata": {},
     "output_type": "execute_result"
    }
   ],
   "source": [
    "prepped_datasets = Table02Prep.prep_datasets(datasets)\n",
    "prepped_datasets['Banks']"
   ]
  },
  {
   "cell_type": "code",
   "execution_count": 8,
   "id": "a336b4e0",
   "metadata": {},
   "outputs": [
    {
     "data": {
      "text/plain": [
       "dict_keys(['BD', 'Banks', 'Cmpust.', 'PD'])"
      ]
     },
     "execution_count": 8,
     "metadata": {},
     "output_type": "execute_result"
    }
   ],
   "source": [
    "prepped_datasets.keys()"
   ]
  },
  {
   "cell_type": "markdown",
   "id": "cb8e9b1576a4a73d",
   "metadata": {
    "collapsed": false
   },
   "source": [
    "We then weave in some of our analysis into the process, whenever the necessary dataset for the analysis is first available. Below is our main table of ratios, where we have computed the\n",
    "$$\n",
    "\\frac{\\text{Primary dealers amount}}{\\text{Comparison group amount (less PD) + Primary dealers amount}}\n",
    "$$"
   ]
  },
  {
   "cell_type": "code",
   "execution_count": 9,
   "id": "a55b31dab7162903",
   "metadata": {
    "ExecuteTime": {
     "end_time": "2024-03-10T21:13:52.592970900Z",
     "start_time": "2024-03-10T21:13:52.267408600Z"
    },
    "collapsed": false
   },
   "outputs": [
    {
     "data": {
      "application/vnd.microsoft.datawrangler.viewer.v0+json": {
       "columns": [
        {
         "name": "datadate",
         "rawType": "datetime64[ns]",
         "type": "datetime"
        },
        {
         "name": "total_assets_BD",
         "rawType": "float64",
         "type": "float"
        },
        {
         "name": "book_debt_BD",
         "rawType": "float64",
         "type": "float"
        },
        {
         "name": "book_equity_BD",
         "rawType": "float64",
         "type": "float"
        },
        {
         "name": "market_equity_BD",
         "rawType": "float64",
         "type": "float"
        },
        {
         "name": "total_assets_Banks",
         "rawType": "float64",
         "type": "float"
        },
        {
         "name": "book_debt_Banks",
         "rawType": "float64",
         "type": "float"
        },
        {
         "name": "book_equity_Banks",
         "rawType": "float64",
         "type": "float"
        },
        {
         "name": "market_equity_Banks",
         "rawType": "float64",
         "type": "float"
        },
        {
         "name": "total_assets_Cmpust.",
         "rawType": "float64",
         "type": "float"
        },
        {
         "name": "book_debt_Cmpust.",
         "rawType": "float64",
         "type": "float"
        },
        {
         "name": "book_equity_Cmpust.",
         "rawType": "float64",
         "type": "float"
        },
        {
         "name": "market_equity_Cmpust.",
         "rawType": "float64",
         "type": "float"
        },
        {
         "name": "Period",
         "rawType": "object",
         "type": "string"
        }
       ],
       "conversionMethod": "pd.DataFrame",
       "ref": "d3ec3aa1-04e5-4a95-b75e-b81127d1543e",
       "rows": [
        [
         "1962-03-31 00:00:00",
         null,
         null,
         null,
         null,
         "0.13842599591078492",
         "0.20198786708320976",
         "0.13852347547915472",
         "0.17008199900036783",
         "0.13842599591078492",
         "0.20198786708320976",
         "0.13852347547915472",
         "0.1692398234543196",
         "1960-2012"
        ],
        [
         "1962-04-30 00:00:00",
         null,
         null,
         null,
         null,
         "0.13842599591078492",
         "0.20198786708320976",
         "0.13852347547915472",
         "0.17008199900036783",
         "0.13842599591078492",
         "0.20198786708320976",
         "0.13852347547915472",
         "0.1692398234543196",
         "1960-2012"
        ],
        [
         "1962-05-31 00:00:00",
         null,
         null,
         null,
         null,
         "0.13842599591078492",
         "0.20198786708320976",
         "0.13852347547915472",
         "0.17008199900036783",
         "0.13842599591078492",
         "0.20198786708320976",
         "0.13852347547915472",
         "0.1692398234543196",
         "1960-2012"
        ],
        [
         "1962-06-30 00:00:00",
         null,
         null,
         null,
         null,
         "0.1517754938046716",
         "0.19738322250586787",
         "0.16394829629359536",
         "0.15849129862966205",
         "0.1517754938046716",
         "0.19738322250586787",
         "0.16394829629359536",
         "0.14811072357403746",
         "1960-2012"
        ],
        [
         "1962-07-31 00:00:00",
         null,
         null,
         null,
         null,
         "0.1517754938046716",
         "0.19738322250586787",
         "0.16394829629359536",
         "0.15849129862966205",
         "0.1517754938046716",
         "0.19738322250586787",
         "0.16394829629359536",
         "0.14811072357403746",
         "1960-2012"
        ],
        [
         "1962-08-31 00:00:00",
         null,
         null,
         null,
         null,
         "0.1517754938046716",
         "0.19738322250586787",
         "0.16394829629359536",
         "0.15849129862966205",
         "0.1517754938046716",
         "0.19738322250586787",
         "0.16394829629359536",
         "0.14811072357403746",
         "1960-2012"
        ],
        [
         "1962-09-30 00:00:00",
         null,
         null,
         null,
         null,
         "0.14861854807379885",
         "0.19328610849972128",
         "0.1640614464448909",
         "0.1643158721131423",
         "0.14861854807379885",
         "0.19328610849972128",
         "0.1640614464448909",
         "0.15424308066901252",
         "1960-2012"
        ],
        [
         "1962-10-31 00:00:00",
         null,
         null,
         null,
         null,
         "0.14861854807379885",
         "0.19328610849972128",
         "0.1640614464448909",
         "0.1643158721131423",
         "0.14861854807379885",
         "0.19328610849972128",
         "0.1640614464448909",
         "0.15424308066901252",
         "1960-2012"
        ],
        [
         "1962-11-30 00:00:00",
         null,
         null,
         null,
         null,
         "0.14861854807379885",
         "0.19328610849972128",
         "0.1640614464448909",
         "0.1643158721131423",
         "0.14861854807379885",
         "0.19328610849972128",
         "0.1640614464448909",
         "0.15424308066901252",
         "1960-2012"
        ],
        [
         "1962-12-31 00:00:00",
         null,
         null,
         null,
         null,
         "0.14106884778073425",
         "0.18979995757612328",
         "0.15607834595464493",
         "0.14992282998268303",
         "0.14106884778073425",
         "0.18979995757612328",
         "0.15607834595464493",
         "0.14023114799549868",
         "1960-2012"
        ],
        [
         "1963-01-31 00:00:00",
         null,
         null,
         null,
         null,
         "0.14106884778073425",
         "0.18979995757612328",
         "0.15607834595464493",
         "0.14992282998268303",
         "0.14106884778073425",
         "0.18979995757612328",
         "0.15607834595464493",
         "0.14023114799549868",
         "1960-2012"
        ],
        [
         "1963-02-28 00:00:00",
         null,
         null,
         null,
         null,
         "0.14106884778073425",
         "0.18979995757612328",
         "0.15607834595464493",
         "0.14992282998268303",
         "0.14106884778073425",
         "0.18979995757612328",
         "0.15607834595464493",
         "0.14023114799549868",
         "1960-2012"
        ],
        [
         "1963-03-31 00:00:00",
         null,
         null,
         null,
         null,
         "0.1413494031679274",
         "0.1803387921921425",
         "0.15351068869532974",
         "0.15287520391379666",
         "0.1413494031679274",
         "0.1803387921921425",
         "0.15351068869532974",
         "0.14315558981152085",
         "1960-2012"
        ],
        [
         "1963-04-30 00:00:00",
         null,
         null,
         null,
         null,
         "0.1413494031679274",
         "0.1803387921921425",
         "0.15351068869532974",
         "0.15287520391379666",
         "0.1413494031679274",
         "0.1803387921921425",
         "0.15351068869532974",
         "0.14315558981152085",
         "1960-2012"
        ],
        [
         "1963-05-31 00:00:00",
         null,
         null,
         null,
         null,
         "0.1413494031679274",
         "0.1803387921921425",
         "0.15351068869532974",
         "0.15287520391379666",
         "0.1413494031679274",
         "0.1803387921921425",
         "0.15351068869532974",
         "0.14315558981152085",
         "1960-2012"
        ],
        [
         "1963-06-30 00:00:00",
         null,
         null,
         null,
         null,
         "0.1391563560657898",
         "0.1769305659168182",
         "0.15409462123856332",
         "0.14916075466884393",
         "0.1391563560657898",
         "0.1769305659168182",
         "0.15409462123856332",
         "0.1383418481162073",
         "1960-2012"
        ],
        [
         "1963-07-31 00:00:00",
         null,
         null,
         null,
         null,
         "0.1391563560657898",
         "0.1769305659168182",
         "0.15409462123856332",
         "0.14916075466884393",
         "0.1391563560657898",
         "0.1769305659168182",
         "0.15409462123856332",
         "0.1383418481162073",
         "1960-2012"
        ],
        [
         "1963-08-31 00:00:00",
         null,
         null,
         null,
         null,
         "0.1391563560657898",
         "0.1769305659168182",
         "0.15409462123856332",
         "0.14916075466884393",
         "0.1391563560657898",
         "0.1769305659168182",
         "0.15409462123856332",
         "0.1383418481162073",
         "1960-2012"
        ],
        [
         "1963-09-30 00:00:00",
         null,
         null,
         null,
         null,
         "0.13763002665194152",
         "0.1662080656936435",
         "0.15295764507034926",
         "0.11403283408321471",
         "0.13763002665194152",
         "0.1662080656936435",
         "0.15295764507034926",
         "0.105882843132097",
         "1960-2012"
        ],
        [
         "1963-10-31 00:00:00",
         null,
         null,
         null,
         null,
         "0.13763002665194152",
         "0.1662080656936435",
         "0.15295764507034926",
         "0.11403283408321471",
         "0.13763002665194152",
         "0.1662080656936435",
         "0.15295764507034926",
         "0.105882843132097",
         "1960-2012"
        ],
        [
         "1963-11-30 00:00:00",
         null,
         null,
         null,
         null,
         "0.13763002665194152",
         "0.1662080656936435",
         "0.15295764507034926",
         "0.11403283408321471",
         "0.13763002665194152",
         "0.1662080656936435",
         "0.15295764507034926",
         "0.105882843132097",
         "1960-2012"
        ],
        [
         "1963-12-31 00:00:00",
         null,
         null,
         null,
         null,
         "0.14190041472645504",
         "0.1717394523131808",
         "0.15238255876231432",
         "0.14196588910606356",
         "0.14190041472645504",
         "0.1717394523131808",
         "0.15238255876231432",
         "0.13155377716145647",
         "1960-2012"
        ],
        [
         "1964-01-31 00:00:00",
         null,
         null,
         null,
         null,
         "0.14190041472645504",
         "0.1717394523131808",
         "0.15238255876231432",
         "0.14196588910606356",
         "0.14190041472645504",
         "0.1717394523131808",
         "0.15238255876231432",
         "0.13155377716145647",
         "1960-2012"
        ],
        [
         "1964-02-29 00:00:00",
         null,
         null,
         null,
         null,
         "0.14190041472645504",
         "0.1717394523131808",
         "0.15238255876231432",
         "0.14196588910606356",
         "0.14190041472645504",
         "0.1717394523131808",
         "0.15238255876231432",
         "0.13155377716145647",
         "1960-2012"
        ],
        [
         "1964-03-31 00:00:00",
         null,
         null,
         null,
         null,
         "0.14087912377323267",
         "0.16995883901431308",
         "0.1519818011693419",
         "0.13576687065188517",
         "0.14087912377323267",
         "0.16995883901431308",
         "0.1519818011693419",
         "0.09902805676677964",
         "1960-2012"
        ],
        [
         "1964-04-30 00:00:00",
         null,
         null,
         null,
         null,
         "0.14087912377323267",
         "0.16995883901431308",
         "0.1519818011693419",
         "0.13576687065188517",
         "0.14087912377323267",
         "0.16995883901431308",
         "0.1519818011693419",
         "0.09902805676677964",
         "1960-2012"
        ],
        [
         "1964-05-31 00:00:00",
         null,
         null,
         null,
         null,
         "0.14087912377323267",
         "0.16995883901431308",
         "0.1519818011693419",
         "0.13576687065188517",
         "0.14087912377323267",
         "0.16995883901431308",
         "0.1519818011693419",
         "0.09902805676677964",
         "1960-2012"
        ],
        [
         "1964-06-30 00:00:00",
         null,
         null,
         null,
         null,
         "0.13487224092161432",
         "0.12009914370813277",
         "0.1457694990821214",
         "0.13225524708945463",
         "0.13487224092161432",
         "0.12009914370813277",
         "0.1457694990821214",
         "0.09615166143813991",
         "1960-2012"
        ],
        [
         "1964-07-31 00:00:00",
         null,
         null,
         null,
         null,
         "0.13487224092161432",
         "0.12009914370813277",
         "0.1457694990821214",
         "0.13225524708945463",
         "0.13487224092161432",
         "0.12009914370813277",
         "0.1457694990821214",
         "0.09615166143813991",
         "1960-2012"
        ],
        [
         "1964-08-31 00:00:00",
         null,
         null,
         null,
         null,
         "0.13487224092161432",
         "0.12009914370813277",
         "0.1457694990821214",
         "0.13225524708945463",
         "0.13487224092161432",
         "0.12009914370813277",
         "0.1457694990821214",
         "0.09615166143813991",
         "1960-2012"
        ],
        [
         "1964-09-30 00:00:00",
         null,
         null,
         null,
         null,
         "0.1342276292966346",
         "0.12153958445839168",
         "0.145534988447312",
         "0.14208561061104866",
         "0.1342276292966346",
         "0.12153958445839168",
         "0.145534988447312",
         "0.10509901123314744",
         "1960-2012"
        ],
        [
         "1964-10-31 00:00:00",
         null,
         null,
         null,
         null,
         "0.1342276292966346",
         "0.12153958445839168",
         "0.145534988447312",
         "0.14208561061104866",
         "0.1342276292966346",
         "0.12153958445839168",
         "0.145534988447312",
         "0.10509901123314744",
         "1960-2012"
        ],
        [
         "1964-11-30 00:00:00",
         null,
         null,
         null,
         null,
         "0.1342276292966346",
         "0.12153958445839168",
         "0.145534988447312",
         "0.14208561061104866",
         "0.1342276292966346",
         "0.12153958445839168",
         "0.145534988447312",
         "0.10509901123314744",
         "1960-2012"
        ],
        [
         "1964-12-31 00:00:00",
         null,
         null,
         null,
         null,
         "0.18188584956831685",
         "0.09920959261240475",
         "0.18234391400387473",
         "0.18412925301336383",
         "0.18188584956831685",
         "0.09920959261240475",
         "0.18234391400387473",
         "0.13581423756603445",
         "1960-2012"
        ],
        [
         "1965-01-31 00:00:00",
         null,
         null,
         null,
         null,
         "0.18188584956831685",
         "0.09920959261240475",
         "0.18234391400387473",
         "0.18412925301336383",
         "0.18188584956831685",
         "0.09920959261240475",
         "0.18234391400387473",
         "0.13581423756603445",
         "1960-2012"
        ],
        [
         "1965-02-28 00:00:00",
         null,
         null,
         null,
         null,
         "0.18188584956831685",
         "0.09920959261240475",
         "0.18234391400387473",
         "0.18412925301336383",
         "0.18188584956831685",
         "0.09920959261240475",
         "0.18234391400387473",
         "0.13581423756603445",
         "1960-2012"
        ],
        [
         "1965-03-31 00:00:00",
         null,
         null,
         null,
         null,
         "0.17869910863987581",
         "0.09506681956176902",
         "0.1776481933393271",
         "0.18809772200715866",
         "0.17869910863987581",
         "0.09506681956176902",
         "0.1776481933393271",
         "0.12868886088368425",
         "1960-2012"
        ],
        [
         "1965-04-30 00:00:00",
         null,
         null,
         null,
         null,
         "0.17869910863987581",
         "0.09506681956176902",
         "0.1776481933393271",
         "0.18809772200715866",
         "0.17869910863987581",
         "0.09506681956176902",
         "0.1776481933393271",
         "0.12868886088368425",
         "1960-2012"
        ],
        [
         "1965-05-31 00:00:00",
         null,
         null,
         null,
         null,
         "0.17869910863987581",
         "0.09506681956176902",
         "0.1776481933393271",
         "0.18809772200715866",
         "0.17869910863987581",
         "0.09506681956176902",
         "0.1776481933393271",
         "0.12868886088368425",
         "1960-2012"
        ],
        [
         "1965-06-30 00:00:00",
         null,
         null,
         null,
         null,
         "0.17812757572407134",
         "0.09601759594626544",
         "0.17812917436090472",
         "0.18748974218091233",
         "0.17812757572407134",
         "0.09601759594626544",
         "0.17812917436090472",
         "0.1267515460958066",
         "1960-2012"
        ],
        [
         "1965-07-31 00:00:00",
         null,
         null,
         null,
         null,
         "0.17812757572407134",
         "0.09601759594626544",
         "0.17812917436090472",
         "0.18748974218091233",
         "0.17812757572407134",
         "0.09601759594626544",
         "0.17812917436090472",
         "0.1267515460958066",
         "1960-2012"
        ],
        [
         "1965-08-31 00:00:00",
         null,
         null,
         null,
         null,
         "0.17812757572407134",
         "0.09601759594626544",
         "0.17812917436090472",
         "0.18748974218091233",
         "0.17812757572407134",
         "0.09601759594626544",
         "0.17812917436090472",
         "0.1267515460958066",
         "1960-2012"
        ],
        [
         "1965-09-30 00:00:00",
         null,
         null,
         null,
         null,
         "0.17840845780169748",
         "0.09715449446584361",
         "0.17742058450070514",
         "0.18744036028059083",
         "0.17840845780169748",
         "0.09715449446584361",
         "0.17742058450070514",
         "0.12425102160858514",
         "1960-2012"
        ],
        [
         "1965-10-31 00:00:00",
         null,
         null,
         null,
         null,
         "0.17840845780169748",
         "0.09715449446584361",
         "0.17742058450070514",
         "0.18744036028059083",
         "0.17840845780169748",
         "0.09715449446584361",
         "0.17742058450070514",
         "0.12425102160858514",
         "1960-2012"
        ],
        [
         "1965-11-30 00:00:00",
         null,
         null,
         null,
         null,
         "0.17840845780169748",
         "0.09715449446584361",
         "0.17742058450070514",
         "0.18744036028059083",
         "0.17840845780169748",
         "0.09715449446584361",
         "0.17742058450070514",
         "0.12425102160858514",
         "1960-2012"
        ],
        [
         "1965-12-31 00:00:00",
         null,
         null,
         null,
         null,
         "0.177003213240623",
         "0.09670718095606748",
         "0.17719336615868136",
         "0.18643211262772139",
         "0.177003213240623",
         "0.09670718095606748",
         "0.176238995124318",
         "0.10838818632940947",
         "1960-2012"
        ],
        [
         "1966-01-31 00:00:00",
         null,
         null,
         null,
         null,
         "0.177003213240623",
         "0.09670718095606748",
         "0.17719336615868136",
         "0.18643211262772139",
         "0.177003213240623",
         "0.09670718095606748",
         "0.176238995124318",
         "0.10827361592699224",
         "1960-2012"
        ],
        [
         "1966-02-28 00:00:00",
         null,
         null,
         null,
         null,
         "0.177003213240623",
         "0.09670718095606748",
         "0.17719336615868136",
         "0.18643211262772139",
         "0.177003213240623",
         "0.09670718095606748",
         "0.176238995124318",
         "0.10748612901174052",
         "1960-2012"
        ],
        [
         "1966-03-31 00:00:00",
         "1.0",
         "1.0",
         "1.0",
         "1.0",
         "0.15883877004087235",
         "0.17632712980616252",
         "0.15559582624038182",
         "0.1658045719769445",
         "0.15883877004087235",
         "0.17632712980616252",
         "0.15002677782262283",
         "0.0789687479064813",
         "1960-2012"
        ],
        [
         "1966-04-30 00:00:00",
         "1.0",
         "1.0",
         "1.0",
         "1.0",
         "0.15883877004087235",
         "0.17632712980616252",
         "0.15559582624038182",
         "0.1658045719769445",
         "0.15883877004087235",
         "0.17632712980616252",
         "0.15002677782262283",
         "0.07889555549497951",
         "1960-2012"
        ]
       ],
       "shape": {
        "columns": 13,
        "rows": 1232
       }
      },
      "text/html": [
       "<div>\n",
       "<style scoped>\n",
       "    .dataframe tbody tr th:only-of-type {\n",
       "        vertical-align: middle;\n",
       "    }\n",
       "\n",
       "    .dataframe tbody tr th {\n",
       "        vertical-align: top;\n",
       "    }\n",
       "\n",
       "    .dataframe thead th {\n",
       "        text-align: right;\n",
       "    }\n",
       "</style>\n",
       "<table border=\"1\" class=\"dataframe\">\n",
       "  <thead>\n",
       "    <tr style=\"text-align: right;\">\n",
       "      <th></th>\n",
       "      <th>total_assets_BD</th>\n",
       "      <th>book_debt_BD</th>\n",
       "      <th>book_equity_BD</th>\n",
       "      <th>market_equity_BD</th>\n",
       "      <th>total_assets_Banks</th>\n",
       "      <th>book_debt_Banks</th>\n",
       "      <th>book_equity_Banks</th>\n",
       "      <th>market_equity_Banks</th>\n",
       "      <th>total_assets_Cmpust.</th>\n",
       "      <th>book_debt_Cmpust.</th>\n",
       "      <th>book_equity_Cmpust.</th>\n",
       "      <th>market_equity_Cmpust.</th>\n",
       "      <th>Period</th>\n",
       "    </tr>\n",
       "    <tr>\n",
       "      <th>datadate</th>\n",
       "      <th></th>\n",
       "      <th></th>\n",
       "      <th></th>\n",
       "      <th></th>\n",
       "      <th></th>\n",
       "      <th></th>\n",
       "      <th></th>\n",
       "      <th></th>\n",
       "      <th></th>\n",
       "      <th></th>\n",
       "      <th></th>\n",
       "      <th></th>\n",
       "      <th></th>\n",
       "    </tr>\n",
       "  </thead>\n",
       "  <tbody>\n",
       "    <tr>\n",
       "      <th>1962-03-31</th>\n",
       "      <td>NaN</td>\n",
       "      <td>NaN</td>\n",
       "      <td>NaN</td>\n",
       "      <td>NaN</td>\n",
       "      <td>0.138426</td>\n",
       "      <td>0.201988</td>\n",
       "      <td>0.138523</td>\n",
       "      <td>0.170082</td>\n",
       "      <td>0.138426</td>\n",
       "      <td>0.201988</td>\n",
       "      <td>0.138523</td>\n",
       "      <td>0.169240</td>\n",
       "      <td>1960-2012</td>\n",
       "    </tr>\n",
       "    <tr>\n",
       "      <th>1962-04-30</th>\n",
       "      <td>NaN</td>\n",
       "      <td>NaN</td>\n",
       "      <td>NaN</td>\n",
       "      <td>NaN</td>\n",
       "      <td>0.138426</td>\n",
       "      <td>0.201988</td>\n",
       "      <td>0.138523</td>\n",
       "      <td>0.170082</td>\n",
       "      <td>0.138426</td>\n",
       "      <td>0.201988</td>\n",
       "      <td>0.138523</td>\n",
       "      <td>0.169240</td>\n",
       "      <td>1960-2012</td>\n",
       "    </tr>\n",
       "    <tr>\n",
       "      <th>1962-05-31</th>\n",
       "      <td>NaN</td>\n",
       "      <td>NaN</td>\n",
       "      <td>NaN</td>\n",
       "      <td>NaN</td>\n",
       "      <td>0.138426</td>\n",
       "      <td>0.201988</td>\n",
       "      <td>0.138523</td>\n",
       "      <td>0.170082</td>\n",
       "      <td>0.138426</td>\n",
       "      <td>0.201988</td>\n",
       "      <td>0.138523</td>\n",
       "      <td>0.169240</td>\n",
       "      <td>1960-2012</td>\n",
       "    </tr>\n",
       "    <tr>\n",
       "      <th>1962-06-30</th>\n",
       "      <td>NaN</td>\n",
       "      <td>NaN</td>\n",
       "      <td>NaN</td>\n",
       "      <td>NaN</td>\n",
       "      <td>0.151775</td>\n",
       "      <td>0.197383</td>\n",
       "      <td>0.163948</td>\n",
       "      <td>0.158491</td>\n",
       "      <td>0.151775</td>\n",
       "      <td>0.197383</td>\n",
       "      <td>0.163948</td>\n",
       "      <td>0.148111</td>\n",
       "      <td>1960-2012</td>\n",
       "    </tr>\n",
       "    <tr>\n",
       "      <th>1962-07-31</th>\n",
       "      <td>NaN</td>\n",
       "      <td>NaN</td>\n",
       "      <td>NaN</td>\n",
       "      <td>NaN</td>\n",
       "      <td>0.151775</td>\n",
       "      <td>0.197383</td>\n",
       "      <td>0.163948</td>\n",
       "      <td>0.158491</td>\n",
       "      <td>0.151775</td>\n",
       "      <td>0.197383</td>\n",
       "      <td>0.163948</td>\n",
       "      <td>0.148111</td>\n",
       "      <td>1960-2012</td>\n",
       "    </tr>\n",
       "    <tr>\n",
       "      <th>...</th>\n",
       "      <td>...</td>\n",
       "      <td>...</td>\n",
       "      <td>...</td>\n",
       "      <td>...</td>\n",
       "      <td>...</td>\n",
       "      <td>...</td>\n",
       "      <td>...</td>\n",
       "      <td>...</td>\n",
       "      <td>...</td>\n",
       "      <td>...</td>\n",
       "      <td>...</td>\n",
       "      <td>...</td>\n",
       "      <td>...</td>\n",
       "    </tr>\n",
       "    <tr>\n",
       "      <th>2012-08-31</th>\n",
       "      <td>0.985992</td>\n",
       "      <td>0.986878</td>\n",
       "      <td>0.972138</td>\n",
       "      <td>0.956211</td>\n",
       "      <td>0.620576</td>\n",
       "      <td>0.624304</td>\n",
       "      <td>0.568425</td>\n",
       "      <td>0.484757</td>\n",
       "      <td>0.280738</td>\n",
       "      <td>0.321994</td>\n",
       "      <td>0.094162</td>\n",
       "      <td>0.035569</td>\n",
       "      <td>1990-2012</td>\n",
       "    </tr>\n",
       "    <tr>\n",
       "      <th>2012-09-30</th>\n",
       "      <td>0.985891</td>\n",
       "      <td>0.986773</td>\n",
       "      <td>0.972104</td>\n",
       "      <td>0.960382</td>\n",
       "      <td>0.616681</td>\n",
       "      <td>0.620392</td>\n",
       "      <td>0.564025</td>\n",
       "      <td>0.491356</td>\n",
       "      <td>0.278086</td>\n",
       "      <td>0.319294</td>\n",
       "      <td>0.093274</td>\n",
       "      <td>0.036879</td>\n",
       "      <td>1990-2012</td>\n",
       "    </tr>\n",
       "    <tr>\n",
       "      <th>2012-10-31</th>\n",
       "      <td>0.985901</td>\n",
       "      <td>0.986764</td>\n",
       "      <td>0.972450</td>\n",
       "      <td>0.961366</td>\n",
       "      <td>0.616651</td>\n",
       "      <td>0.620295</td>\n",
       "      <td>0.565073</td>\n",
       "      <td>0.495202</td>\n",
       "      <td>0.278123</td>\n",
       "      <td>0.319176</td>\n",
       "      <td>0.093770</td>\n",
       "      <td>0.037376</td>\n",
       "      <td>1990-2012</td>\n",
       "    </tr>\n",
       "    <tr>\n",
       "      <th>2012-11-30</th>\n",
       "      <td>0.984504</td>\n",
       "      <td>0.985438</td>\n",
       "      <td>0.969984</td>\n",
       "      <td>0.952454</td>\n",
       "      <td>0.595110</td>\n",
       "      <td>0.598708</td>\n",
       "      <td>0.543740</td>\n",
       "      <td>0.444106</td>\n",
       "      <td>0.264374</td>\n",
       "      <td>0.303354</td>\n",
       "      <td>0.089399</td>\n",
       "      <td>0.032297</td>\n",
       "      <td>1990-2012</td>\n",
       "    </tr>\n",
       "    <tr>\n",
       "      <th>2012-12-31</th>\n",
       "      <td>0.985890</td>\n",
       "      <td>0.986722</td>\n",
       "      <td>0.973183</td>\n",
       "      <td>0.960735</td>\n",
       "      <td>0.591042</td>\n",
       "      <td>0.594626</td>\n",
       "      <td>0.542682</td>\n",
       "      <td>0.471773</td>\n",
       "      <td>0.259767</td>\n",
       "      <td>0.296973</td>\n",
       "      <td>0.091031</td>\n",
       "      <td>0.038884</td>\n",
       "      <td>1990-2012</td>\n",
       "    </tr>\n",
       "  </tbody>\n",
       "</table>\n",
       "<p>1232 rows × 13 columns</p>\n",
       "</div>"
      ],
      "text/plain": [
       "            total_assets_BD  book_debt_BD  book_equity_BD  market_equity_BD  \\\n",
       "datadate                                                                      \n",
       "1962-03-31              NaN           NaN             NaN               NaN   \n",
       "1962-04-30              NaN           NaN             NaN               NaN   \n",
       "1962-05-31              NaN           NaN             NaN               NaN   \n",
       "1962-06-30              NaN           NaN             NaN               NaN   \n",
       "1962-07-31              NaN           NaN             NaN               NaN   \n",
       "...                     ...           ...             ...               ...   \n",
       "2012-08-31         0.985992      0.986878        0.972138          0.956211   \n",
       "2012-09-30         0.985891      0.986773        0.972104          0.960382   \n",
       "2012-10-31         0.985901      0.986764        0.972450          0.961366   \n",
       "2012-11-30         0.984504      0.985438        0.969984          0.952454   \n",
       "2012-12-31         0.985890      0.986722        0.973183          0.960735   \n",
       "\n",
       "            total_assets_Banks  book_debt_Banks  book_equity_Banks  \\\n",
       "datadate                                                             \n",
       "1962-03-31            0.138426         0.201988           0.138523   \n",
       "1962-04-30            0.138426         0.201988           0.138523   \n",
       "1962-05-31            0.138426         0.201988           0.138523   \n",
       "1962-06-30            0.151775         0.197383           0.163948   \n",
       "1962-07-31            0.151775         0.197383           0.163948   \n",
       "...                        ...              ...                ...   \n",
       "2012-08-31            0.620576         0.624304           0.568425   \n",
       "2012-09-30            0.616681         0.620392           0.564025   \n",
       "2012-10-31            0.616651         0.620295           0.565073   \n",
       "2012-11-30            0.595110         0.598708           0.543740   \n",
       "2012-12-31            0.591042         0.594626           0.542682   \n",
       "\n",
       "            market_equity_Banks  total_assets_Cmpust.  book_debt_Cmpust.  \\\n",
       "datadate                                                                   \n",
       "1962-03-31             0.170082              0.138426           0.201988   \n",
       "1962-04-30             0.170082              0.138426           0.201988   \n",
       "1962-05-31             0.170082              0.138426           0.201988   \n",
       "1962-06-30             0.158491              0.151775           0.197383   \n",
       "1962-07-31             0.158491              0.151775           0.197383   \n",
       "...                         ...                   ...                ...   \n",
       "2012-08-31             0.484757              0.280738           0.321994   \n",
       "2012-09-30             0.491356              0.278086           0.319294   \n",
       "2012-10-31             0.495202              0.278123           0.319176   \n",
       "2012-11-30             0.444106              0.264374           0.303354   \n",
       "2012-12-31             0.471773              0.259767           0.296973   \n",
       "\n",
       "            book_equity_Cmpust.  market_equity_Cmpust.     Period  \n",
       "datadate                                                           \n",
       "1962-03-31             0.138523               0.169240  1960-2012  \n",
       "1962-04-30             0.138523               0.169240  1960-2012  \n",
       "1962-05-31             0.138523               0.169240  1960-2012  \n",
       "1962-06-30             0.163948               0.148111  1960-2012  \n",
       "1962-07-31             0.163948               0.148111  1960-2012  \n",
       "...                         ...                    ...        ...  \n",
       "2012-08-31             0.094162               0.035569  1990-2012  \n",
       "2012-09-30             0.093274               0.036879  1990-2012  \n",
       "2012-10-31             0.093770               0.037376  1990-2012  \n",
       "2012-11-30             0.089399               0.032297  1990-2012  \n",
       "2012-12-31             0.091031               0.038884  1990-2012  \n",
       "\n",
       "[1232 rows x 13 columns]"
      ]
     },
     "execution_count": 9,
     "metadata": {},
     "output_type": "execute_result"
    }
   ],
   "source": [
    "Table02Analysis.create_summary_stat_table_for_data(datasets)\n",
    "table = Table02Prep.create_ratios_for_table(prepped_datasets)\n",
    "table"
   ]
  },
  {
   "cell_type": "markdown",
   "id": "7a755a36fa811cb3",
   "metadata": {
    "collapsed": false
   },
   "source": [
    "We create a figure that can give the reader insight into how the ratios have shifted over time for each category and comparison group. We had to clean some of the data and fill null values to have the graph look reasonable but without changing the overall shape of it too dramatically.\n",
    "Lastly, we get our final table which was what we were trying to replicate from the paper. This table is then converted to LaTeX and outputted to a .tex file."
   ]
  },
  {
   "cell_type": "code",
   "execution_count": 10,
   "id": "43ea207f26d305f5",
   "metadata": {
    "ExecuteTime": {
     "end_time": "2024-03-10T21:14:14.186976Z",
     "start_time": "2024-03-10T21:14:14.143871200Z"
    },
    "collapsed": false
   },
   "outputs": [
    {
     "data": {
      "application/vnd.microsoft.datawrangler.viewer.v0+json": {
       "columns": [
        {
         "name": "Period",
         "rawType": "object",
         "type": "string"
        },
        {
         "name": "('Total assets', 'BD')",
         "rawType": "float64",
         "type": "float"
        },
        {
         "name": "('Total assets', 'Banks')",
         "rawType": "float64",
         "type": "float"
        },
        {
         "name": "('Total assets', 'Cmpust.')",
         "rawType": "float64",
         "type": "float"
        },
        {
         "name": "('Book debt', 'BD')",
         "rawType": "float64",
         "type": "float"
        },
        {
         "name": "('Book debt', 'Banks')",
         "rawType": "float64",
         "type": "float"
        },
        {
         "name": "('Book debt', 'Cmpust.')",
         "rawType": "float64",
         "type": "float"
        },
        {
         "name": "('Book equity', 'BD')",
         "rawType": "float64",
         "type": "float"
        },
        {
         "name": "('Book equity', 'Banks')",
         "rawType": "float64",
         "type": "float"
        },
        {
         "name": "('Book equity', 'Cmpust.')",
         "rawType": "float64",
         "type": "float"
        },
        {
         "name": "('Market equity', 'BD')",
         "rawType": "float64",
         "type": "float"
        },
        {
         "name": "('Market equity', 'Banks')",
         "rawType": "float64",
         "type": "float"
        },
        {
         "name": "('Market equity', 'Cmpust.')",
         "rawType": "float64",
         "type": "float"
        }
       ],
       "conversionMethod": "pd.DataFrame",
       "ref": "de7e00f7-3793-43b7-9ea5-749e32336c7d",
       "rows": [
        [
         "1960-2012",
         "0.907413346136616",
         "0.335217631018053",
         "0.1441357147317268",
         "0.9071261711839484",
         "0.33607105403506876",
         "0.16788480233608472",
         "0.9027878124269817",
         "0.3230401393652161",
         "0.05247088555179127",
         "0.896336377513349",
         "0.3321040442507084",
         "0.03707020233639792"
        ],
        [
         "1960-1990",
         "0.907818049778191",
         "0.194376326786163",
         "0.0932477914133008",
         "0.9080210124682951",
         "0.19244520880470786",
         "0.10899806933571043",
         "0.8872605301918591",
         "0.226258115191441",
         "0.04661416738111993",
         "0.8568308509858643",
         "0.2441023659469299",
         "0.03444831313496684"
        ],
        [
         "1990-2012",
         "0.9041602225998205",
         "0.5115726581189528",
         "0.2062567574600709",
         "0.9031513875535123",
         "0.5157751090596839",
         "0.23990187840025912",
         "0.9200303410763454",
         "0.4461642600808084",
         "0.058998398897771184",
         "0.940735144536921",
         "0.4443639063960734",
         "0.03986843792145815"
        ]
       ],
       "shape": {
        "columns": 12,
        "rows": 3
       }
      },
      "text/html": [
       "<div>\n",
       "<style scoped>\n",
       "    .dataframe tbody tr th:only-of-type {\n",
       "        vertical-align: middle;\n",
       "    }\n",
       "\n",
       "    .dataframe tbody tr th {\n",
       "        vertical-align: top;\n",
       "    }\n",
       "\n",
       "    .dataframe thead tr th {\n",
       "        text-align: left;\n",
       "    }\n",
       "\n",
       "    .dataframe thead tr:last-of-type th {\n",
       "        text-align: right;\n",
       "    }\n",
       "</style>\n",
       "<table border=\"1\" class=\"dataframe\">\n",
       "  <thead>\n",
       "    <tr>\n",
       "      <th>Metric</th>\n",
       "      <th colspan=\"3\" halign=\"left\">Total assets</th>\n",
       "      <th colspan=\"3\" halign=\"left\">Book debt</th>\n",
       "      <th colspan=\"3\" halign=\"left\">Book equity</th>\n",
       "      <th colspan=\"3\" halign=\"left\">Market equity</th>\n",
       "    </tr>\n",
       "    <tr>\n",
       "      <th>Source</th>\n",
       "      <th>BD</th>\n",
       "      <th>Banks</th>\n",
       "      <th>Cmpust.</th>\n",
       "      <th>BD</th>\n",
       "      <th>Banks</th>\n",
       "      <th>Cmpust.</th>\n",
       "      <th>BD</th>\n",
       "      <th>Banks</th>\n",
       "      <th>Cmpust.</th>\n",
       "      <th>BD</th>\n",
       "      <th>Banks</th>\n",
       "      <th>Cmpust.</th>\n",
       "    </tr>\n",
       "    <tr>\n",
       "      <th>Period</th>\n",
       "      <th></th>\n",
       "      <th></th>\n",
       "      <th></th>\n",
       "      <th></th>\n",
       "      <th></th>\n",
       "      <th></th>\n",
       "      <th></th>\n",
       "      <th></th>\n",
       "      <th></th>\n",
       "      <th></th>\n",
       "      <th></th>\n",
       "      <th></th>\n",
       "    </tr>\n",
       "  </thead>\n",
       "  <tbody>\n",
       "    <tr>\n",
       "      <th>1960-2012</th>\n",
       "      <td>0.907413</td>\n",
       "      <td>0.335218</td>\n",
       "      <td>0.144136</td>\n",
       "      <td>0.907126</td>\n",
       "      <td>0.336071</td>\n",
       "      <td>0.167885</td>\n",
       "      <td>0.902788</td>\n",
       "      <td>0.323040</td>\n",
       "      <td>0.052471</td>\n",
       "      <td>0.896336</td>\n",
       "      <td>0.332104</td>\n",
       "      <td>0.037070</td>\n",
       "    </tr>\n",
       "    <tr>\n",
       "      <th>1960-1990</th>\n",
       "      <td>0.907818</td>\n",
       "      <td>0.194376</td>\n",
       "      <td>0.093248</td>\n",
       "      <td>0.908021</td>\n",
       "      <td>0.192445</td>\n",
       "      <td>0.108998</td>\n",
       "      <td>0.887261</td>\n",
       "      <td>0.226258</td>\n",
       "      <td>0.046614</td>\n",
       "      <td>0.856831</td>\n",
       "      <td>0.244102</td>\n",
       "      <td>0.034448</td>\n",
       "    </tr>\n",
       "    <tr>\n",
       "      <th>1990-2012</th>\n",
       "      <td>0.904160</td>\n",
       "      <td>0.511573</td>\n",
       "      <td>0.206257</td>\n",
       "      <td>0.903151</td>\n",
       "      <td>0.515775</td>\n",
       "      <td>0.239902</td>\n",
       "      <td>0.920030</td>\n",
       "      <td>0.446164</td>\n",
       "      <td>0.058998</td>\n",
       "      <td>0.940735</td>\n",
       "      <td>0.444364</td>\n",
       "      <td>0.039868</td>\n",
       "    </tr>\n",
       "  </tbody>\n",
       "</table>\n",
       "</div>"
      ],
      "text/plain": [
       "Metric    Total assets                     Book debt                      \\\n",
       "Source              BD     Banks   Cmpust.        BD     Banks   Cmpust.   \n",
       "Period                                                                     \n",
       "1960-2012     0.907413  0.335218  0.144136  0.907126  0.336071  0.167885   \n",
       "1960-1990     0.907818  0.194376  0.093248  0.908021  0.192445  0.108998   \n",
       "1990-2012     0.904160  0.511573  0.206257  0.903151  0.515775  0.239902   \n",
       "\n",
       "Metric    Book equity                     Market equity                      \n",
       "Source             BD     Banks   Cmpust.            BD     Banks   Cmpust.  \n",
       "Period                                                                       \n",
       "1960-2012    0.902788  0.323040  0.052471      0.896336  0.332104  0.037070  \n",
       "1960-1990    0.887261  0.226258  0.046614      0.856831  0.244102  0.034448  \n",
       "1990-2012    0.920030  0.446164  0.058998      0.940735  0.444364  0.039868  "
      ]
     },
     "execution_count": 10,
     "metadata": {},
     "output_type": "execute_result"
    }
   ],
   "source": [
    "formatted_table = Table02Prep.format_final_table(table)\n",
    "formatted_table"
   ]
  },
  {
   "cell_type": "code",
   "execution_count": 11,
   "id": "94520d1ea272da69",
   "metadata": {
    "ExecuteTime": {
     "end_time": "2024-03-10T21:15:29.278858Z",
     "start_time": "2024-03-10T21:14:34.002861600Z"
    },
    "collapsed": false
   },
   "outputs": [
    {
     "name": "stdout",
     "output_type": "stream",
     "text": [
      "Loading library list...\n",
      "Done\n"
     ]
    },
    {
     "data": {
      "application/vnd.microsoft.datawrangler.viewer.v0+json": {
       "columns": [
        {
         "name": "Period",
         "rawType": "object",
         "type": "string"
        },
        {
         "name": "('Total assets', 'BD')",
         "rawType": "float64",
         "type": "float"
        },
        {
         "name": "('Total assets', 'Banks')",
         "rawType": "float64",
         "type": "float"
        },
        {
         "name": "('Total assets', 'Cmpust.')",
         "rawType": "float64",
         "type": "float"
        },
        {
         "name": "('Book debt', 'BD')",
         "rawType": "float64",
         "type": "float"
        },
        {
         "name": "('Book debt', 'Banks')",
         "rawType": "float64",
         "type": "float"
        },
        {
         "name": "('Book debt', 'Cmpust.')",
         "rawType": "float64",
         "type": "float"
        },
        {
         "name": "('Book equity', 'BD')",
         "rawType": "float64",
         "type": "float"
        },
        {
         "name": "('Book equity', 'Banks')",
         "rawType": "float64",
         "type": "float"
        },
        {
         "name": "('Book equity', 'Cmpust.')",
         "rawType": "float64",
         "type": "float"
        },
        {
         "name": "('Market equity', 'BD')",
         "rawType": "float64",
         "type": "float"
        },
        {
         "name": "('Market equity', 'Banks')",
         "rawType": "float64",
         "type": "float"
        },
        {
         "name": "('Market equity', 'Cmpust.')",
         "rawType": "float64",
         "type": "float"
        }
       ],
       "conversionMethod": "pd.DataFrame",
       "ref": "ad444aad-bf38-4f66-8254-ab70a3b3b2d5",
       "rows": [
        [
         "1960-2012",
         "0.907413346136616",
         "0.335217631018053",
         "0.1441357147317268",
         "0.9071261711839484",
         "0.33607105403506876",
         "0.16788480233608472",
         "0.9027878124269817",
         "0.3230401393652161",
         "0.05247088555179127",
         "0.896336377513349",
         "0.3321040442507084",
         "0.03707020233639792"
        ],
        [
         "1960-1990",
         "0.907818049778191",
         "0.194376326786163",
         "0.0932477914133008",
         "0.9080210124682951",
         "0.19244520880470786",
         "0.10899806933571043",
         "0.8872605301918591",
         "0.226258115191441",
         "0.04661416738111993",
         "0.8568308509858643",
         "0.2441023659469299",
         "0.03444831313496684"
        ],
        [
         "1990-2012",
         "0.9041602225998205",
         "0.5115726581189528",
         "0.2062567574600709",
         "0.9031513875535123",
         "0.5157751090596839",
         "0.23990187840025912",
         "0.9200303410763454",
         "0.4461642600808084",
         "0.058998398897771184",
         "0.940735144536921",
         "0.4443639063960734",
         "0.03986843792145815"
        ]
       ],
       "shape": {
        "columns": 12,
        "rows": 3
       }
      },
      "text/html": [
       "<div>\n",
       "<style scoped>\n",
       "    .dataframe tbody tr th:only-of-type {\n",
       "        vertical-align: middle;\n",
       "    }\n",
       "\n",
       "    .dataframe tbody tr th {\n",
       "        vertical-align: top;\n",
       "    }\n",
       "\n",
       "    .dataframe thead tr th {\n",
       "        text-align: left;\n",
       "    }\n",
       "\n",
       "    .dataframe thead tr:last-of-type th {\n",
       "        text-align: right;\n",
       "    }\n",
       "</style>\n",
       "<table border=\"1\" class=\"dataframe\">\n",
       "  <thead>\n",
       "    <tr>\n",
       "      <th>Metric</th>\n",
       "      <th colspan=\"3\" halign=\"left\">Total assets</th>\n",
       "      <th colspan=\"3\" halign=\"left\">Book debt</th>\n",
       "      <th colspan=\"3\" halign=\"left\">Book equity</th>\n",
       "      <th colspan=\"3\" halign=\"left\">Market equity</th>\n",
       "    </tr>\n",
       "    <tr>\n",
       "      <th>Source</th>\n",
       "      <th>BD</th>\n",
       "      <th>Banks</th>\n",
       "      <th>Cmpust.</th>\n",
       "      <th>BD</th>\n",
       "      <th>Banks</th>\n",
       "      <th>Cmpust.</th>\n",
       "      <th>BD</th>\n",
       "      <th>Banks</th>\n",
       "      <th>Cmpust.</th>\n",
       "      <th>BD</th>\n",
       "      <th>Banks</th>\n",
       "      <th>Cmpust.</th>\n",
       "    </tr>\n",
       "    <tr>\n",
       "      <th>Period</th>\n",
       "      <th></th>\n",
       "      <th></th>\n",
       "      <th></th>\n",
       "      <th></th>\n",
       "      <th></th>\n",
       "      <th></th>\n",
       "      <th></th>\n",
       "      <th></th>\n",
       "      <th></th>\n",
       "      <th></th>\n",
       "      <th></th>\n",
       "      <th></th>\n",
       "    </tr>\n",
       "  </thead>\n",
       "  <tbody>\n",
       "    <tr>\n",
       "      <th>1960-2012</th>\n",
       "      <td>0.907413</td>\n",
       "      <td>0.335218</td>\n",
       "      <td>0.144136</td>\n",
       "      <td>0.907126</td>\n",
       "      <td>0.336071</td>\n",
       "      <td>0.167885</td>\n",
       "      <td>0.902788</td>\n",
       "      <td>0.323040</td>\n",
       "      <td>0.052471</td>\n",
       "      <td>0.896336</td>\n",
       "      <td>0.332104</td>\n",
       "      <td>0.037070</td>\n",
       "    </tr>\n",
       "    <tr>\n",
       "      <th>1960-1990</th>\n",
       "      <td>0.907818</td>\n",
       "      <td>0.194376</td>\n",
       "      <td>0.093248</td>\n",
       "      <td>0.908021</td>\n",
       "      <td>0.192445</td>\n",
       "      <td>0.108998</td>\n",
       "      <td>0.887261</td>\n",
       "      <td>0.226258</td>\n",
       "      <td>0.046614</td>\n",
       "      <td>0.856831</td>\n",
       "      <td>0.244102</td>\n",
       "      <td>0.034448</td>\n",
       "    </tr>\n",
       "    <tr>\n",
       "      <th>1990-2012</th>\n",
       "      <td>0.904160</td>\n",
       "      <td>0.511573</td>\n",
       "      <td>0.206257</td>\n",
       "      <td>0.903151</td>\n",
       "      <td>0.515775</td>\n",
       "      <td>0.239902</td>\n",
       "      <td>0.920030</td>\n",
       "      <td>0.446164</td>\n",
       "      <td>0.058998</td>\n",
       "      <td>0.940735</td>\n",
       "      <td>0.444364</td>\n",
       "      <td>0.039868</td>\n",
       "    </tr>\n",
       "  </tbody>\n",
       "</table>\n",
       "</div>"
      ],
      "text/plain": [
       "Metric    Total assets                     Book debt                      \\\n",
       "Source              BD     Banks   Cmpust.        BD     Banks   Cmpust.   \n",
       "Period                                                                     \n",
       "1960-2012     0.907413  0.335218  0.144136  0.907126  0.336071  0.167885   \n",
       "1960-1990     0.907818  0.194376  0.093248  0.908021  0.192445  0.108998   \n",
       "1990-2012     0.904160  0.511573  0.206257  0.903151  0.515775  0.239902   \n",
       "\n",
       "Metric    Book equity                     Market equity                      \n",
       "Source             BD     Banks   Cmpust.            BD     Banks   Cmpust.  \n",
       "Period                                                                       \n",
       "1960-2012    0.902788  0.323040  0.052471      0.896336  0.332104  0.037070  \n",
       "1960-1990    0.887261  0.226258  0.046614      0.856831  0.244102  0.034448  \n",
       "1990-2012    0.920030  0.446164  0.058998      0.940735  0.444364  0.039868  "
      ]
     },
     "execution_count": 11,
     "metadata": {},
     "output_type": "execute_result"
    },
    {
     "data": {
      "image/png": "[encoded data removed]",
      "text/plain": [
       "<Figure size 1200x800 with 4 Axes>"
      ]
     },
     "metadata": {},
     "output_type": "display_data"
    }
   ],
   "source": [
    "updated_table = Table02Prep.main(UPDATED=False)\n",
    "updated_table"
   ]
  }
 ],
 "metadata": {
  "kernelspec": {
   "display_name": "finm",
   "language": "python",
   "name": "python3"
  },
  "language_info": {
   "codemirror_mode": {
    "name": "ipython",
    "version": 3
   },
   "file_extension": ".py",
   "mimetype": "text/x-python",
   "name": "python",
   "nbconvert_exporter": "python",
   "pygments_lexer": "ipython3",
   "version": "3.12.5"
  }
 },
 "nbformat": 4,
 "nbformat_minor": 5
}
