{
 "cells": [
  {
   "cell_type": "markdown",
   "id": "7167e03417849a45",
   "metadata": {
    "collapsed": false
   },
   "source": [
    "# Replicating _Intermediary asset pricing: New evidence from many asset classes_"
   ]
  },
  {
   "cell_type": "markdown",
   "id": "9a5f901eac7685d7",
   "metadata": {
    "collapsed": false
   },
   "source": [
    "### James, Young Jin Song, Jaehwa Youm, Monica Panigrahy, and Jacob Simeral"
   ]
  },
  {
   "cell_type": "code",
   "execution_count": 1,
   "id": "32e9813b1c239835",
   "metadata": {
    "ExecuteTime": {
     "end_time": "2024-03-10T21:10:49.789477200Z",
     "start_time": "2024-03-10T21:10:49.177208200Z"
    },
    "collapsed": false
   },
   "outputs": [
    {
     "name": "stdout",
     "output_type": "stream",
     "text": [
      "Downloading from https://www.newyorkfed.org/medialibrary/media/markets/Dealer_Lists_1960_to_2014.xls\n",
      "File saved to cache at data/pulled/nyfed_primary_dealers_list.xls.\n"
     ]
    }
   ],
   "source": [
    "import load_nyfed\n",
    "load_nyfed.pull_nyfed_primary_dealers_list(load_nyfed.url)\n",
    "# import Table_01\n",
    "# import Table_A1\n",
    "# import Table_A1_to_latex\n",
    "# import Table_01_to_latex\n",
    "\n",
    "import pandas as pd\n",
    "import wrds\n",
    "import config\n",
    "from datetime import datetime\n",
    "import unittest\n",
    "import matplotlib.pyplot as plt\n",
    "import numpy as np\n",
    "import Table02Analysis\n",
    "import Table02Prep\n",
    "\n",
    "import Table03Load\n",
    "import Table03Analysis\n",
    "import Table03\n",
    "\n",
    "import warnings\n",
    "warnings.filterwarnings(\"ignore\", category=FutureWarning)"
   ]
  },
  {
   "cell_type": "markdown",
   "id": "2b300ce92f0decea",
   "metadata": {
    "collapsed": false
   },
   "source": [
    "### 1. Table 01"
   ]
  },
  {
   "cell_type": "markdown",
   "id": "eed6fa8722dfdee5",
   "metadata": {
    "collapsed": false
   },
   "source": [
    "#### 1-1 Pull the NY Fed primary dealers list from the NY Fed website"
   ]
  },
  {
   "cell_type": "markdown",
   "id": "2dccfd089d9f7e2",
   "metadata": {
    "collapsed": false
   },
   "source": [
    "* Utilize the pull_nyfed_primary_dealers_list function, as defined in the 'load_nyfed.py' file, to download the 'nyfed_primary_dealers_list.xls' Excel file. This function saves the downloaded file into the 'data/pulled' directory.\n",
    "* This process is managed by the task_pull_nyfed() function in the 'dodo.py' file. It handles downloading the 'nyfed_primary_dealers_list.xls' Excel file and saving it in the 'data/pulled' directory."
   ]
  },
  {
   "cell_type": "markdown",
   "id": "157638729748376d",
   "metadata": {
    "collapsed": false
   },
   "source": [
    "#### 1-2 Load the NY Fed primary dealers list from the cached files in the 'data/pulled' directory"
   ]
  },
  {
   "cell_type": "markdown",
   "id": "894a768cfd61f51d",
   "metadata": {
    "collapsed": false
   },
   "source": [
    "* Use the 'load_nyfed_primary_dealers_list' function to access the NY Fed primary dealers list from the cached data in the 'data/pulled' directory. Focus on the '2000s' and 'Dealer Alpha' worksheets to extract the list of primary dealers as of February 2014, aiming to replicate Table 1."
   ]
  },
  {
   "cell_type": "markdown",
   "id": "a84cd9ed2be86153",
   "metadata": {
    "collapsed": false
   },
   "source": [
    "#### 1-3 Replicate Table 1 using data from the 'nyfed_primary_dealers_list.xls' Excel file"
   ]
  },
  {
   "cell_type": "markdown",
   "id": "ae0e290bf22b2c49",
   "metadata": {
    "collapsed": false
   },
   "source": [
    "* The '2000s' worksheet provides annual listings of primary dealers from 2000 to 2014; refine this data to isolate dealers active as of February 2014."
   ]
  },
  {
   "cell_type": "markdown",
   "id": "4c1959c432412cd",
   "metadata": {
    "collapsed": false
   },
   "source": [
    "* The 'Dealer Alpha' worksheet covers all primary dealers from 1960 to 2014, including their start and end dates. Clean this data to facilitate matching with the primary dealer listings found in the '2000s' worksheet.\""
   ]
  },
  {
   "cell_type": "markdown",
   "id": "65987b8c32ba888d",
   "metadata": {
    "collapsed": false
   },
   "source": [
    "* Match the 2014 primary dealer list with their start dates, taking care to handle name discrepancies across two Excel sheets, such as extra spaces or differences in punctuation.\n",
    "* Also, for dealers who were active, paused, and then resumed, use their latest start date. The code should adjust for these variations to correctly align with the table in the paper. Lastly, arrange the start dates from earliest to most recent."
   ]
  },
  {
   "cell_type": "markdown",
   "id": "a9fbe0375153563",
   "metadata": {
    "collapsed": false
   },
   "source": [
    "* The author manually matched dealers with their publicly-traded holding companies. For the replication, a 'ticks.csv' file was created and placed in the 'data/manual' directory, containing the mapping information between primary dealers and their holding companies. Subsequently, an additional column was introduced to the 'merged_df' table to display the corresponding holding company for each dealer, utilizing the information from the 'ticks.csv' file."
   ]
  },
  {
   "cell_type": "markdown",
   "id": "d281cada6b513d09",
   "metadata": {
    "collapsed": false
   },
   "source": [
    "#### 1-4 Convert the table to LaTeX format using the to_latex() function"
   ]
  },
  {
   "cell_type": "markdown",
   "id": "f993718a524e79ac",
   "metadata": {
    "collapsed": false
   },
   "source": [
    "* The to_latex function, located in the 'Table_01_to_latex.py' file, is utilized to convert the 'merged_df_final' table into LaTeX format. The resulting LaTeX code is then saved into the 'Table_01_to_latex.tex' file within the output directory.\n",
    "* Before converting the table to LaTeX format, replace '&' with '\\\\&' in company names. Since LaTeX uses '&' to recognize table columns, an unescaped '&' in company names can cause errors when generating the table in LaTeX format."
   ]
  },
  {
   "cell_type": "markdown",
   "id": "d874e3019546d2cb",
   "metadata": {
    "collapsed": false
   },
   "source": [
    "#### 1-5 Complete the LaTeX setup to replicate Table 1, incorporating the formatted table"
   ]
  },
  {
   "cell_type": "markdown",
   "id": "ac3a0c621e1d96a2",
   "metadata": {
    "collapsed": false
   },
   "source": [
    "* Use the 'Table_01_to_latex.tex' file from the 'output' directory, which contains the table in LaTeX format, to create a 'Report_Table_01.tex' file in the 'reports' directory. This action replicates the entire table. The table is inserted into 'Report_Table_01.tex' by employing the '\\input{\\PathToOutput/Table_01_to_latex.tex}' command."
   ]
  },
  {
   "cell_type": "markdown",
   "id": "1a9c8709784902fb",
   "metadata": {
    "collapsed": false
   },
   "source": [
    "### 2. Table A.1"
   ]
  },
  {
   "cell_type": "markdown",
   "id": "38cb927c451fb8b4",
   "metadata": {
    "collapsed": false
   },
   "source": [
    "#### 2-1 Load the NY Fed primary dealers list from the cached files in the 'data/pulled' directory"
   ]
  },
  {
   "cell_type": "markdown",
   "id": "ffe514123a26b43c",
   "metadata": {
    "collapsed": false
   },
   "source": [
    "* Use the 'load_nyfed_primary_dealers_list' function to access the NY Fed primary dealers list from the cached data in the 'data/pulled' directory. This time, focus on the 'Dealer Alpha' worksheets to extract the list of primary dealers from 1960 to 2014, including their start and end dates, with the aim of replicating Table A.1."
   ]
  },
  {
   "cell_type": "markdown",
   "id": "f81c6c0e16be30c1",
   "metadata": {
    "collapsed": false
   },
   "source": [
    "#### 2-2 Replicate Table A.1 using data from the 'nyfed_primary_dealers_list.xls' Excel file"
   ]
  },
  {
   "cell_type": "markdown",
   "id": "21a060f3dcf77563",
   "metadata": {
    "collapsed": false
   },
   "source": [
    "* Clean the data from the 'Dealer Alpha' worksheet to replicate Table A.1, including formatting dates and marking companies still active as primary dealers with 'Current' in the end date column, etc."
   ]
  },
  {
   "cell_type": "markdown",
   "id": "d623fd03c4c60f7e",
   "metadata": {
    "collapsed": false
   },
   "source": [
    "#### 2-3 Convert the table to LaTeX format using the to_latex() function"
   ]
  },
  {
   "cell_type": "markdown",
   "id": "4e08ece6574e9220",
   "metadata": {
    "collapsed": false
   },
   "source": [
    "* The to_latex function, found in the 'Table_A1_to_latex.py' file, is used to convert the 'df_dealer_alpha' table into LaTeX format. The resulting LaTeX code is then saved in the 'Table_A1_to_latex.tex' file within the output directory."
   ]
  },
  {
   "cell_type": "markdown",
   "id": "9edbe5f11c62e69f",
   "metadata": {
    "collapsed": false
   },
   "source": [
    "* As described in the Table 01 replication process, before converting the table to LaTeX format, replace '&' with '\\\\&' in company names. This is necessary because LaTeX uses '&' to recognize table columns, and an unescaped '&' in company names can cause errors when generating the table in LaTeX format.\n",
    "* To match the format presented in Table A.1, separate the primary dealer list at the midpoint, adding a separator column for visual division"
   ]
  },
  {
   "cell_type": "markdown",
   "id": "e752c083f3f2a430",
   "metadata": {
    "collapsed": false
   },
   "source": [
    "#### 2-4 Complete the LaTeX setup to replicate Table A.1, incorporating the formatted table"
   ]
  },
  {
   "cell_type": "markdown",
   "id": "16cc3aa9bd1a878c",
   "metadata": {
    "collapsed": false
   },
   "source": [
    "* To replicate the entire table in a report, use the 'Table_A1_to_latex.tex' file from the 'output' directory. Create a 'Report_Table_A1.tex' file in the 'reports' directory and insert the table by using the command '\\input{\\PathToOutput/Table_A1_to_latex.tex}'."
   ]
  },
  {
   "cell_type": "markdown",
   "id": "be137e36375663da",
   "metadata": {
    "collapsed": false
   },
   "source": [
    "#### 2-5 Limitations on Replicating Table A.1"
   ]
  },
  {
   "cell_type": "markdown",
   "id": "6bda93ba7d39d95",
   "metadata": {
    "collapsed": false
   },
   "source": [
    "* While the replication closely mirrors Table A.1 in format, the list of primary dealers, and data accuracy including start and end dates, a perfect match with the original Table A.1 in the paper is not achieved for several reasons: "
   ]
  },
  {
   "cell_type": "markdown",
   "id": "29029f0e96e8280f",
   "metadata": {
    "collapsed": false
   },
   "source": [
    "* The author used abbreviated company names, shortened manually, whereas the Excel file from the NY Fed features the complete names. \n",
    "* The author consolidated the list by combining entries that, despite name changes, continued as primary dealers. In contrast, the Excel file from the NY Fed presents a more extensive list by including all dealers, accounting for their names before and after changes, resulting in a higher number of entries.\n",
    "* Due to the differences in abbreviation usage and the consolidation approach by the author, conducting precise unit testing was challenging, as the subjectivity in primary dealer name abbreviation and entry combination affected the direct comparison."
   ]
  },
  {
   "cell_type": "markdown",
   "id": "f895e85da21adc86",
   "metadata": {
    "collapsed": false
   },
   "source": [
    "### Table 02"
   ]
  },
  {
   "cell_type": "markdown",
   "id": "dafffb6c5a4c0476",
   "metadata": {
    "collapsed": false
   },
   "source": [
    "The following code reads in a manual data file that contains necessary information on primary dealers from 1960-2012 and then merges it with the CRSP Compustat Merge Linkhist table to get additional information on each, such as the SIC codes. The linkhist table is also used as the main reference table to pull the other comparison groups for the table."
   ]
  },
  {
   "cell_type": "code",
   "execution_count": 2,
   "id": "335bdf5021b86bb7",
   "metadata": {
    "ExecuteTime": {
     "end_time": "2024-03-10T21:11:18.231695600Z",
     "start_time": "2024-03-10T21:11:15.409036700Z"
    },
    "collapsed": false
   },
   "outputs": [
    {
     "name": "stdout",
     "output_type": "stream",
     "text": [
      "Loading library list...\n",
      "Done\n"
     ]
    },
    {
     "data": {
      "application/vnd.microsoft.datawrangler.viewer.v0+json": {
       "columns": [
        {
         "name": "index",
         "rawType": "int64",
         "type": "integer"
        },
        {
         "name": "gvkey",
         "rawType": "int64",
         "type": "integer"
        },
        {
         "name": "conm",
         "rawType": "object",
         "type": "string"
        },
        {
         "name": "sic",
         "rawType": "int64",
         "type": "integer"
        },
        {
         "name": "Start Date",
         "rawType": "object",
         "type": "string"
        },
        {
         "name": "End Date",
         "rawType": "object",
         "type": "string"
        }
       ],
       "conversionMethod": "pd.DataFrame",
       "ref": "65adfdee-2c22-419e-808a-5e43f6ba0ca1",
       "rows": [
        [
         "0",
         "11687",
         "ZIONS BANCORPORATION NA",
         "6020",
         "1960-05-19",
         "2000-04-17 00:00:00.000000"
        ],
        [
         "39",
         "2968",
         "JPMORGAN CHASE & CO",
         "6020",
         "1960-05-19",
         "1989-03-31 00:00:00.000000"
        ],
        [
         "127",
         "144496",
         "UBS GROUP AG",
         "6282",
         "1960-05-19",
         "1990-03-28 00:00:00.000000"
        ],
        [
         "140",
         "144496",
         "UBS GROUP AG",
         "6282",
         "1960-05-19",
         "1990-01-01 00:00:00.000000"
        ],
        [
         "153",
         "144496",
         "UBS GROUP AG",
         "6282",
         "1960-05-19",
         "1989-07-31 00:00:00.000000"
        ],
        [
         "166",
         "144496",
         "UBS GROUP AG",
         "6282",
         "1960-05-19",
         "2001-04-30 00:00:00.000000"
        ],
        [
         "179",
         "15706",
         "TORONTO DOMINION BANK",
         "6020",
         "1960-05-19",
         "1983-06-05 00:00:00.000000"
        ],
        [
         "196",
         "2612",
         "CALIFORNIA FED BANCORP INC",
         "6035",
         "1960-05-19",
         "1993-10-11 00:00:00.000000"
        ],
        [
         "209",
         "9577",
         "SECURITY PACIFIC CORP",
         "6020",
         "1968-12-12",
         "1973-07-18 00:00:00.000000"
        ],
        [
         "229",
         "114628",
         "GOLDMAN SACHS GROUP INC",
         "6211",
         "1974-12-04",
         "2025-03-10 18:23:01.663441"
        ],
        [
         "243",
         "15633",
         "ROYAL BANK OF CANADA",
         "6020",
         "1976-02-26",
         "1978-04-18 00:00:00.000000"
        ],
        [
         "261",
         "15633",
         "ROYAL BANK OF CANADA",
         "6020",
         "1976-06-17",
         "1978-05-15 00:00:00.000000"
        ],
        [
         "279",
         "143356",
         "PRUDENTIAL FINANCIAL INC",
         "6311",
         "1976-09-29",
         "1994-05-06 00:00:00.000000"
        ],
        [
         "291",
         "143356",
         "PRUDENTIAL FINANCIAL INC",
         "6311",
         "1976-11-25",
         "1987-12-31 00:00:00.000000"
        ],
        [
         "303",
         "8299",
         "PAINE WEBBER GROUP",
         "6211",
         "1977-11-02",
         "1998-04-30 00:00:00.000000"
        ],
        [
         "331",
         "8299",
         "PAINE WEBBER GROUP",
         "6211",
         "1977-11-02",
         "1987-12-31 00:00:00.000000"
        ],
        [
         "359",
         "12124",
         "MORGAN STANLEY",
         "6211",
         "1978-02-01",
         "2011-05-31 00:00:00.000000"
        ],
        [
         "386",
         "7982",
         "NORTHERN TRUST CORP",
         "6020",
         "1979-02-07",
         "1994-12-30 00:00:00.000000"
        ],
        [
         "427",
         "15613",
         "NOMURA HOLDINGS INC",
         "6211",
         "1979-08-22",
         "1993-08-01 00:00:00.000000"
        ],
        [
         "439",
         "15613",
         "NOMURA HOLDINGS INC",
         "6211",
         "1980-02-13",
         "1989-12-27 00:00:00.000000"
        ],
        [
         "451",
         "15580",
         "BANK OF MONTREAL",
         "6020",
         "1980-11-19",
         "1987-05-07 00:00:00.000000"
        ],
        [
         "466",
         "2968",
         "JPMORGAN CHASE & CO",
         "6020",
         "1981-06-10",
         "2008-10-01 00:00:00.000000"
        ],
        [
         "554",
         "12124",
         "MORGAN STANLEY",
         "6211",
         "1984-07-31",
         "2009-04-01 00:00:00.000000"
        ],
        [
         "581",
         "12124",
         "MORGAN STANLEY",
         "6211",
         "1986-11-03",
         "1988-06-17 00:00:00.000000"
        ],
        [
         "608",
         "248136",
         "MIZUHO FINANCIAL GROUP INC",
         "6020",
         "1986-12-11",
         "2010-04-01 00:00:00.000000"
        ],
        [
         "615",
         "7032",
         "MARINE MIDLAND BANKS",
         "6020",
         "1986-12-11",
         "1987-05-15 00:00:00.000000"
        ],
        [
         "642",
         "177745",
         "MF GLOBAL HOLDINGS LTD",
         "6200",
         "1986-12-11",
         "2007-11-30 00:00:00.000000"
        ],
        [
         "646",
         "9577",
         "SECURITY PACIFIC CORP",
         "6020",
         "1986-12-11",
         "1991-01-17 00:00:00.000000"
        ],
        [
         "666",
         "7267",
         "MERRILL LYNCH & CO INC",
         "6211",
         "1986-12-11",
         "1989-07-07 00:00:00.000000"
        ],
        [
         "704",
         "7003",
         "MANUFACTURERS HANOVER CORP",
         "6020",
         "1987-02-04",
         "1990-06-27 00:00:00.000000"
        ],
        [
         "726",
         "7003",
         "MANUFACTURERS HANOVER CORP",
         "6020",
         "1987-05-08",
         "1988-06-19 00:00:00.000000"
        ],
        [
         "748",
         "2943",
         "CHASE MANHATTAN CORP  -OLD",
         "6020",
         "1987-07-01",
         "1988-12-19 00:00:00.000000"
        ],
        [
         "778",
         "30128",
         "LEHMAN BROTHERS HOLDINGS INC",
         "6211",
         "1987-12-22",
         "1993-07-05 00:00:00.000000"
        ],
        [
         "792",
         "30128",
         "LEHMAN BROTHERS HOLDINGS INC",
         "6211",
         "1987-12-22",
         "1989-04-28 00:00:00.000000"
        ],
        [
         "806",
         "30128",
         "LEHMAN BROTHERS HOLDINGS INC",
         "6211",
         "1988-01-01",
         "1990-07-31 00:00:00.000000"
        ],
        [
         "820",
         "12223",
         "ROTHSCHILD (LF) HOLDINGS INC",
         "6211",
         "1988-06-24",
         "1997-09-02 00:00:00.000000"
        ],
        [
         "823",
         "7003",
         "MANUFACTURERS HANOVER CORP",
         "6020",
         "1988-08-01",
         "1991-12-31 00:00:00.000000"
        ],
        [
         "845",
         "6239",
         "JEFFERIES GROUP LLC",
         "6211",
         "1988-09-01",
         "1992-12-30 00:00:00.000000"
        ],
        [
         "875",
         "2968",
         "JPMORGAN CHASE & CO",
         "6020",
         "1988-09-29",
         "1989-01-13 00:00:00.000000"
        ],
        [
         "919",
         "2968",
         "JPMORGAN CHASE & CO",
         "6020",
         "1988-09-29",
         "1997-12-04 00:00:00.000000"
        ],
        [
         "963",
         "3463",
         "CONTINENTAL BANK CORP",
         "6020",
         "1988-12-15",
         "1991-08-30 00:00:00.000000"
        ],
        [
         "984",
         "2968",
         "JPMORGAN CHASE & CO",
         "6020",
         "1988-12-20",
         "1996-03-31 00:00:00.000000"
        ],
        [
         "1072",
         "2968",
         "JPMORGAN CHASE & CO",
         "6020",
         "1989-04-01",
         "1991-12-31 00:00:00.000000"
        ],
        [
         "1160",
         "3066",
         "CITICORP",
         "6020",
         "1989-04-14",
         "1993-07-14 00:00:00.000000"
        ],
        [
         "1190",
         "2029",
         "BANKERS TRUST CORP",
         "6020",
         "1989-07-10",
         "1997-10-22 00:00:00.000000"
        ],
        [
         "1220",
         "5491",
         "HARRIS BANKCORP INC",
         "6020",
         "1989-08-01",
         "1990-08-09 00:00:00.000000"
        ],
        [
         "1232",
         "5491",
         "HARRIS BANKCORP INC",
         "6020",
         "1989-12-07",
         "1990-03-01 00:00:00.000000"
        ],
        [
         "1244",
         "5491",
         "HARRIS BANKCORP INC",
         "6020",
         "1989-12-07",
         "1996-02-29 00:00:00.000000"
        ],
        [
         "1256",
         "5491",
         "HARRIS BANKCORP INC",
         "6020",
         "1989-12-28",
         "2002-03-31 00:00:00.000000"
        ],
        [
         "1268",
         "16951",
         "GREENWICH FINANCIAL CORP",
         "6035",
         "1990-01-02",
         "1999-03-31 00:00:00.000000"
        ]
       ],
       "shape": {
        "columns": 5,
        "rows": 114
       }
      },
      "text/html": [
       "<div>\n",
       "<style scoped>\n",
       "    .dataframe tbody tr th:only-of-type {\n",
       "        vertical-align: middle;\n",
       "    }\n",
       "\n",
       "    .dataframe tbody tr th {\n",
       "        vertical-align: top;\n",
       "    }\n",
       "\n",
       "    .dataframe thead th {\n",
       "        text-align: right;\n",
       "    }\n",
       "</style>\n",
       "<table border=\"1\" class=\"dataframe\">\n",
       "  <thead>\n",
       "    <tr style=\"text-align: right;\">\n",
       "      <th></th>\n",
       "      <th>gvkey</th>\n",
       "      <th>conm</th>\n",
       "      <th>sic</th>\n",
       "      <th>Start Date</th>\n",
       "      <th>End Date</th>\n",
       "    </tr>\n",
       "  </thead>\n",
       "  <tbody>\n",
       "    <tr>\n",
       "      <th>0</th>\n",
       "      <td>11687</td>\n",
       "      <td>ZIONS BANCORPORATION NA</td>\n",
       "      <td>6020</td>\n",
       "      <td>1960-05-19</td>\n",
       "      <td>2000-04-17 00:00:00.000000</td>\n",
       "    </tr>\n",
       "    <tr>\n",
       "      <th>39</th>\n",
       "      <td>2968</td>\n",
       "      <td>JPMORGAN CHASE &amp; CO</td>\n",
       "      <td>6020</td>\n",
       "      <td>1960-05-19</td>\n",
       "      <td>1989-03-31 00:00:00.000000</td>\n",
       "    </tr>\n",
       "    <tr>\n",
       "      <th>127</th>\n",
       "      <td>144496</td>\n",
       "      <td>UBS GROUP AG</td>\n",
       "      <td>6282</td>\n",
       "      <td>1960-05-19</td>\n",
       "      <td>1990-03-28 00:00:00.000000</td>\n",
       "    </tr>\n",
       "    <tr>\n",
       "      <th>140</th>\n",
       "      <td>144496</td>\n",
       "      <td>UBS GROUP AG</td>\n",
       "      <td>6282</td>\n",
       "      <td>1960-05-19</td>\n",
       "      <td>1990-01-01 00:00:00.000000</td>\n",
       "    </tr>\n",
       "    <tr>\n",
       "      <th>153</th>\n",
       "      <td>144496</td>\n",
       "      <td>UBS GROUP AG</td>\n",
       "      <td>6282</td>\n",
       "      <td>1960-05-19</td>\n",
       "      <td>1989-07-31 00:00:00.000000</td>\n",
       "    </tr>\n",
       "    <tr>\n",
       "      <th>...</th>\n",
       "      <td>...</td>\n",
       "      <td>...</td>\n",
       "      <td>...</td>\n",
       "      <td>...</td>\n",
       "      <td>...</td>\n",
       "    </tr>\n",
       "    <tr>\n",
       "      <th>2607</th>\n",
       "      <td>2014</td>\n",
       "      <td>BANKBOSTON CORP</td>\n",
       "      <td>6020</td>\n",
       "      <td>2010-11-01</td>\n",
       "      <td>2025-03-10 18:23:01.663441</td>\n",
       "    </tr>\n",
       "    <tr>\n",
       "      <th>2635</th>\n",
       "      <td>2014</td>\n",
       "      <td>BANKBOSTON CORP</td>\n",
       "      <td>6020</td>\n",
       "      <td>2011-02-02</td>\n",
       "      <td>2011-10-31 00:00:00.000000</td>\n",
       "    </tr>\n",
       "    <tr>\n",
       "      <th>2663</th>\n",
       "      <td>2968</td>\n",
       "      <td>JPMORGAN CHASE &amp; CO</td>\n",
       "      <td>6020</td>\n",
       "      <td>2011-02-02</td>\n",
       "      <td>2025-03-10 18:23:01.663441</td>\n",
       "    </tr>\n",
       "    <tr>\n",
       "      <th>2707</th>\n",
       "      <td>1494</td>\n",
       "      <td>CRUISE AMERICA INC</td>\n",
       "      <td>7510</td>\n",
       "      <td>2011-05-31</td>\n",
       "      <td>2025-03-10 18:23:01.663441</td>\n",
       "    </tr>\n",
       "    <tr>\n",
       "      <th>2720</th>\n",
       "      <td>7647</td>\n",
       "      <td>BANK OF AMERICA CORP</td>\n",
       "      <td>6020</td>\n",
       "      <td>2011-10-04</td>\n",
       "      <td>2025-03-10 18:23:01.663441</td>\n",
       "    </tr>\n",
       "  </tbody>\n",
       "</table>\n",
       "<p>114 rows × 5 columns</p>\n",
       "</div>"
      ],
      "text/plain": [
       "       gvkey                     conm   sic  Start Date  \\\n",
       "0      11687  ZIONS BANCORPORATION NA  6020  1960-05-19   \n",
       "39      2968      JPMORGAN CHASE & CO  6020  1960-05-19   \n",
       "127   144496             UBS GROUP AG  6282  1960-05-19   \n",
       "140   144496             UBS GROUP AG  6282  1960-05-19   \n",
       "153   144496             UBS GROUP AG  6282  1960-05-19   \n",
       "...      ...                      ...   ...         ...   \n",
       "2607    2014          BANKBOSTON CORP  6020  2010-11-01   \n",
       "2635    2014          BANKBOSTON CORP  6020  2011-02-02   \n",
       "2663    2968      JPMORGAN CHASE & CO  6020  2011-02-02   \n",
       "2707    1494       CRUISE AMERICA INC  7510  2011-05-31   \n",
       "2720    7647     BANK OF AMERICA CORP  6020  2011-10-04   \n",
       "\n",
       "                        End Date  \n",
       "0     2000-04-17 00:00:00.000000  \n",
       "39    1989-03-31 00:00:00.000000  \n",
       "127   1990-03-28 00:00:00.000000  \n",
       "140   1990-01-01 00:00:00.000000  \n",
       "153   1989-07-31 00:00:00.000000  \n",
       "...                          ...  \n",
       "2607  2025-03-10 18:23:01.663441  \n",
       "2635  2011-10-31 00:00:00.000000  \n",
       "2663  2025-03-10 18:23:01.663441  \n",
       "2707  2025-03-10 18:23:01.663441  \n",
       "2720  2025-03-10 18:23:01.663441  \n",
       "\n",
       "[114 rows x 5 columns]"
      ]
     },
     "execution_count": 2,
     "metadata": {},
     "output_type": "execute_result"
    }
   ],
   "source": [
    "db = wrds.Connection(wrds_username=config.WRDS_USERNAME)\n",
    "merged_main, link_hist = Table02Prep.prim_deal_merge_manual_data_w_linktable()\n",
    "merged_main"
   ]
  },
  {
   "cell_type": "code",
   "execution_count": 3,
   "id": "f56485ef",
   "metadata": {},
   "outputs": [
    {
     "data": {
      "application/vnd.microsoft.datawrangler.viewer.v0+json": {
       "columns": [
        {
         "name": "index",
         "rawType": "int64",
         "type": "integer"
        },
        {
         "name": "gvkey",
         "rawType": "int64",
         "type": "integer"
        },
        {
         "name": "LPERMCO",
         "rawType": "int64",
         "type": "integer"
        },
        {
         "name": "datadate",
         "rawType": "object",
         "type": "string"
        },
        {
         "name": "fyear",
         "rawType": "float64",
         "type": "float"
        },
        {
         "name": "indfmt",
         "rawType": "object",
         "type": "string"
        },
        {
         "name": "consol",
         "rawType": "object",
         "type": "string"
        },
        {
         "name": "popsrc",
         "rawType": "object",
         "type": "string"
        },
        {
         "name": "datafmt",
         "rawType": "object",
         "type": "string"
        },
        {
         "name": "tic",
         "rawType": "object",
         "type": "string"
        },
        {
         "name": "conm",
         "rawType": "object",
         "type": "string"
        },
        {
         "name": "curcd",
         "rawType": "object",
         "type": "string"
        },
        {
         "name": "costat",
         "rawType": "object",
         "type": "string"
        },
        {
         "name": "sic",
         "rawType": "int64",
         "type": "integer"
        }
       ],
       "conversionMethod": "pd.DataFrame",
       "ref": "e48b87eb-4b82-4467-864a-2a19c7fc5799",
       "rows": [
        [
         "0",
         "1000",
         "23369",
         "1970-12-31",
         "1970.0",
         "INDL",
         "C",
         "D",
         "STD",
         "AE.2",
         "A & E PLASTIK PAK INC",
         "USD",
         "I",
         "3089"
        ],
        [
         "1",
         "1000",
         "23369",
         "1971-12-31",
         "1971.0",
         "INDL",
         "C",
         "D",
         "STD",
         "AE.2",
         "A & E PLASTIK PAK INC",
         "USD",
         "I",
         "3089"
        ],
        [
         "2",
         "1000",
         "23369",
         "1972-12-31",
         "1972.0",
         "INDL",
         "C",
         "D",
         "STD",
         "AE.2",
         "A & E PLASTIK PAK INC",
         "USD",
         "I",
         "3089"
        ],
        [
         "3",
         "1000",
         "23369",
         "1973-12-31",
         "1973.0",
         "INDL",
         "C",
         "D",
         "STD",
         "AE.2",
         "A & E PLASTIK PAK INC",
         "USD",
         "I",
         "3089"
        ],
        [
         "4",
         "1000",
         "23369",
         "1974-12-31",
         "1974.0",
         "INDL",
         "C",
         "D",
         "STD",
         "AE.2",
         "A & E PLASTIK PAK INC",
         "USD",
         "I",
         "3089"
        ],
        [
         "5",
         "1000",
         "23369",
         "1975-12-31",
         "1975.0",
         "INDL",
         "C",
         "D",
         "STD",
         "AE.2",
         "A & E PLASTIK PAK INC",
         "USD",
         "I",
         "3089"
        ],
        [
         "6",
         "1000",
         "23369",
         "1976-12-31",
         "1976.0",
         "INDL",
         "C",
         "D",
         "STD",
         "AE.2",
         "A & E PLASTIK PAK INC",
         "USD",
         "I",
         "3089"
        ],
        [
         "7",
         "1000",
         "23369",
         "1977-12-31",
         "1977.0",
         "INDL",
         "C",
         "D",
         "STD",
         "AE.2",
         "A & E PLASTIK PAK INC",
         "USD",
         "I",
         "3089"
        ],
        [
         "8",
         "1001",
         "6398",
         "1983-12-31",
         "1983.0",
         "INDL",
         "C",
         "D",
         "STD",
         "AMFD.",
         "A & M FOOD SERVICES INC",
         "USD",
         "I",
         "5812"
        ],
        [
         "9",
         "1001",
         "6398",
         "1984-12-31",
         "1984.0",
         "INDL",
         "C",
         "D",
         "STD",
         "AMFD.",
         "A & M FOOD SERVICES INC",
         "USD",
         "I",
         "5812"
        ],
        [
         "10",
         "1001",
         "6398",
         "1985-12-31",
         "1985.0",
         "INDL",
         "C",
         "D",
         "STD",
         "AMFD.",
         "A & M FOOD SERVICES INC",
         "USD",
         "I",
         "5812"
        ],
        [
         "11",
         "1002",
         "22159",
         "1972-12-31",
         "1972.0",
         "INDL",
         "C",
         "D",
         "STD",
         "AAIC.1",
         "AAI CORP",
         "USD",
         "I",
         "3825"
        ],
        [
         "12",
         "1003",
         "6672",
         "1983-12-31",
         "1983.0",
         "INDL",
         "C",
         "D",
         "STD",
         "ANTQ",
         "A.A. IMPORTING CO INC",
         "USD",
         "I",
         "5712"
        ],
        [
         "13",
         "1003",
         "6672",
         "1984-12-31",
         "1984.0",
         "INDL",
         "C",
         "D",
         "STD",
         "ANTQ",
         "A.A. IMPORTING CO INC",
         "USD",
         "I",
         "5712"
        ],
        [
         "14",
         "1003",
         "6672",
         "1986-01-31",
         "1985.0",
         "INDL",
         "C",
         "D",
         "STD",
         "ANTQ",
         "A.A. IMPORTING CO INC",
         "USD",
         "I",
         "5712"
        ],
        [
         "15",
         "1003",
         "6672",
         "1987-01-31",
         "1986.0",
         "INDL",
         "C",
         "D",
         "STD",
         "ANTQ",
         "A.A. IMPORTING CO INC",
         "USD",
         "I",
         "5712"
        ],
        [
         "16",
         "1003",
         "6672",
         "1988-01-31",
         "1987.0",
         "INDL",
         "C",
         "D",
         "STD",
         "ANTQ",
         "A.A. IMPORTING CO INC",
         "USD",
         "I",
         "5712"
        ],
        [
         "17",
         "1003",
         "6672",
         "1989-01-31",
         "1988.0",
         "INDL",
         "C",
         "D",
         "STD",
         "ANTQ",
         "A.A. IMPORTING CO INC",
         "USD",
         "I",
         "5712"
        ],
        [
         "18",
         "1004",
         "20000",
         "1972-05-31",
         "1971.0",
         "INDL",
         "C",
         "D",
         "STD",
         "AIR",
         "AAR CORP",
         "USD",
         "A",
         "5080"
        ],
        [
         "19",
         "1004",
         "20000",
         "1973-05-31",
         "1972.0",
         "INDL",
         "C",
         "D",
         "STD",
         "AIR",
         "AAR CORP",
         "USD",
         "A",
         "5080"
        ],
        [
         "20",
         "1004",
         "20000",
         "1974-05-31",
         "1973.0",
         "INDL",
         "C",
         "D",
         "STD",
         "AIR",
         "AAR CORP",
         "USD",
         "A",
         "5080"
        ],
        [
         "21",
         "1004",
         "20000",
         "1975-05-31",
         "1974.0",
         "INDL",
         "C",
         "D",
         "STD",
         "AIR",
         "AAR CORP",
         "USD",
         "A",
         "5080"
        ],
        [
         "22",
         "1004",
         "20000",
         "1976-05-31",
         "1975.0",
         "INDL",
         "C",
         "D",
         "STD",
         "AIR",
         "AAR CORP",
         "USD",
         "A",
         "5080"
        ],
        [
         "23",
         "1004",
         "20000",
         "1977-05-31",
         "1976.0",
         "INDL",
         "C",
         "D",
         "STD",
         "AIR",
         "AAR CORP",
         "USD",
         "A",
         "5080"
        ],
        [
         "24",
         "1004",
         "20000",
         "1978-05-31",
         "1977.0",
         "INDL",
         "C",
         "D",
         "STD",
         "AIR",
         "AAR CORP",
         "USD",
         "A",
         "5080"
        ],
        [
         "25",
         "1004",
         "20000",
         "1979-05-31",
         "1978.0",
         "INDL",
         "C",
         "D",
         "STD",
         "AIR",
         "AAR CORP",
         "USD",
         "A",
         "5080"
        ],
        [
         "26",
         "1004",
         "20000",
         "1980-05-31",
         "1979.0",
         "INDL",
         "C",
         "D",
         "STD",
         "AIR",
         "AAR CORP",
         "USD",
         "A",
         "5080"
        ],
        [
         "27",
         "1004",
         "20000",
         "1981-05-31",
         "1980.0",
         "INDL",
         "C",
         "D",
         "STD",
         "AIR",
         "AAR CORP",
         "USD",
         "A",
         "5080"
        ],
        [
         "28",
         "1004",
         "20000",
         "1982-05-31",
         "1981.0",
         "INDL",
         "C",
         "D",
         "STD",
         "AIR",
         "AAR CORP",
         "USD",
         "A",
         "5080"
        ],
        [
         "29",
         "1004",
         "20000",
         "1983-05-31",
         "1982.0",
         "INDL",
         "C",
         "D",
         "STD",
         "AIR",
         "AAR CORP",
         "USD",
         "A",
         "5080"
        ],
        [
         "30",
         "1004",
         "20000",
         "1984-05-31",
         "1983.0",
         "INDL",
         "C",
         "D",
         "STD",
         "AIR",
         "AAR CORP",
         "USD",
         "A",
         "5080"
        ],
        [
         "31",
         "1004",
         "20000",
         "1985-05-31",
         "1984.0",
         "INDL",
         "C",
         "D",
         "STD",
         "AIR",
         "AAR CORP",
         "USD",
         "A",
         "5080"
        ],
        [
         "32",
         "1004",
         "20000",
         "1986-05-31",
         "1985.0",
         "INDL",
         "C",
         "D",
         "STD",
         "AIR",
         "AAR CORP",
         "USD",
         "A",
         "5080"
        ],
        [
         "33",
         "1004",
         "20000",
         "1987-05-31",
         "1986.0",
         "INDL",
         "C",
         "D",
         "STD",
         "AIR",
         "AAR CORP",
         "USD",
         "A",
         "5080"
        ],
        [
         "34",
         "1004",
         "20000",
         "1988-05-31",
         "1987.0",
         "INDL",
         "C",
         "D",
         "STD",
         "AIR",
         "AAR CORP",
         "USD",
         "A",
         "5080"
        ],
        [
         "35",
         "1004",
         "20000",
         "1989-05-31",
         "1988.0",
         "INDL",
         "C",
         "D",
         "STD",
         "AIR",
         "AAR CORP",
         "USD",
         "A",
         "5080"
        ],
        [
         "36",
         "1004",
         "20000",
         "1990-05-31",
         "1989.0",
         "INDL",
         "C",
         "D",
         "STD",
         "AIR",
         "AAR CORP",
         "USD",
         "A",
         "5080"
        ],
        [
         "37",
         "1004",
         "20000",
         "1991-05-31",
         "1990.0",
         "INDL",
         "C",
         "D",
         "STD",
         "AIR",
         "AAR CORP",
         "USD",
         "A",
         "5080"
        ],
        [
         "38",
         "1004",
         "20000",
         "1992-05-31",
         "1991.0",
         "INDL",
         "C",
         "D",
         "STD",
         "AIR",
         "AAR CORP",
         "USD",
         "A",
         "5080"
        ],
        [
         "39",
         "1004",
         "20000",
         "1993-05-31",
         "1992.0",
         "INDL",
         "C",
         "D",
         "STD",
         "AIR",
         "AAR CORP",
         "USD",
         "A",
         "5080"
        ],
        [
         "40",
         "1004",
         "20000",
         "1994-05-31",
         "1993.0",
         "INDL",
         "C",
         "D",
         "STD",
         "AIR",
         "AAR CORP",
         "USD",
         "A",
         "5080"
        ],
        [
         "41",
         "1004",
         "20000",
         "1995-05-31",
         "1994.0",
         "INDL",
         "C",
         "D",
         "STD",
         "AIR",
         "AAR CORP",
         "USD",
         "A",
         "5080"
        ],
        [
         "42",
         "1004",
         "20000",
         "1996-05-31",
         "1995.0",
         "INDL",
         "C",
         "D",
         "STD",
         "AIR",
         "AAR CORP",
         "USD",
         "A",
         "5080"
        ],
        [
         "43",
         "1004",
         "20000",
         "1997-05-31",
         "1996.0",
         "INDL",
         "C",
         "D",
         "STD",
         "AIR",
         "AAR CORP",
         "USD",
         "A",
         "5080"
        ],
        [
         "44",
         "1004",
         "20000",
         "1998-05-31",
         "1997.0",
         "INDL",
         "C",
         "D",
         "STD",
         "AIR",
         "AAR CORP",
         "USD",
         "A",
         "5080"
        ],
        [
         "45",
         "1004",
         "20000",
         "1999-05-31",
         "1998.0",
         "INDL",
         "C",
         "D",
         "STD",
         "AIR",
         "AAR CORP",
         "USD",
         "A",
         "5080"
        ],
        [
         "46",
         "1004",
         "20000",
         "2000-05-31",
         "1999.0",
         "INDL",
         "C",
         "D",
         "STD",
         "AIR",
         "AAR CORP",
         "USD",
         "A",
         "5080"
        ],
        [
         "47",
         "1004",
         "20000",
         "2001-05-31",
         "2000.0",
         "INDL",
         "C",
         "D",
         "STD",
         "AIR",
         "AAR CORP",
         "USD",
         "A",
         "5080"
        ],
        [
         "48",
         "1004",
         "20000",
         "2002-05-31",
         "2001.0",
         "INDL",
         "C",
         "D",
         "STD",
         "AIR",
         "AAR CORP",
         "USD",
         "A",
         "5080"
        ],
        [
         "49",
         "1004",
         "20000",
         "2003-05-31",
         "2002.0",
         "INDL",
         "C",
         "D",
         "STD",
         "AIR",
         "AAR CORP",
         "USD",
         "A",
         "5080"
        ]
       ],
       "shape": {
        "columns": 13,
        "rows": 263895
       }
      },
      "text/html": [
       "<div>\n",
       "<style scoped>\n",
       "    .dataframe tbody tr th:only-of-type {\n",
       "        vertical-align: middle;\n",
       "    }\n",
       "\n",
       "    .dataframe tbody tr th {\n",
       "        vertical-align: top;\n",
       "    }\n",
       "\n",
       "    .dataframe thead th {\n",
       "        text-align: right;\n",
       "    }\n",
       "</style>\n",
       "<table border=\"1\" class=\"dataframe\">\n",
       "  <thead>\n",
       "    <tr style=\"text-align: right;\">\n",
       "      <th></th>\n",
       "      <th>gvkey</th>\n",
       "      <th>LPERMCO</th>\n",
       "      <th>datadate</th>\n",
       "      <th>fyear</th>\n",
       "      <th>indfmt</th>\n",
       "      <th>consol</th>\n",
       "      <th>popsrc</th>\n",
       "      <th>datafmt</th>\n",
       "      <th>tic</th>\n",
       "      <th>conm</th>\n",
       "      <th>curcd</th>\n",
       "      <th>costat</th>\n",
       "      <th>sic</th>\n",
       "    </tr>\n",
       "  </thead>\n",
       "  <tbody>\n",
       "    <tr>\n",
       "      <th>0</th>\n",
       "      <td>1000</td>\n",
       "      <td>23369</td>\n",
       "      <td>1970-12-31</td>\n",
       "      <td>1970.0</td>\n",
       "      <td>INDL</td>\n",
       "      <td>C</td>\n",
       "      <td>D</td>\n",
       "      <td>STD</td>\n",
       "      <td>AE.2</td>\n",
       "      <td>A &amp; E PLASTIK PAK INC</td>\n",
       "      <td>USD</td>\n",
       "      <td>I</td>\n",
       "      <td>3089</td>\n",
       "    </tr>\n",
       "    <tr>\n",
       "      <th>1</th>\n",
       "      <td>1000</td>\n",
       "      <td>23369</td>\n",
       "      <td>1971-12-31</td>\n",
       "      <td>1971.0</td>\n",
       "      <td>INDL</td>\n",
       "      <td>C</td>\n",
       "      <td>D</td>\n",
       "      <td>STD</td>\n",
       "      <td>AE.2</td>\n",
       "      <td>A &amp; E PLASTIK PAK INC</td>\n",
       "      <td>USD</td>\n",
       "      <td>I</td>\n",
       "      <td>3089</td>\n",
       "    </tr>\n",
       "    <tr>\n",
       "      <th>2</th>\n",
       "      <td>1000</td>\n",
       "      <td>23369</td>\n",
       "      <td>1972-12-31</td>\n",
       "      <td>1972.0</td>\n",
       "      <td>INDL</td>\n",
       "      <td>C</td>\n",
       "      <td>D</td>\n",
       "      <td>STD</td>\n",
       "      <td>AE.2</td>\n",
       "      <td>A &amp; E PLASTIK PAK INC</td>\n",
       "      <td>USD</td>\n",
       "      <td>I</td>\n",
       "      <td>3089</td>\n",
       "    </tr>\n",
       "    <tr>\n",
       "      <th>3</th>\n",
       "      <td>1000</td>\n",
       "      <td>23369</td>\n",
       "      <td>1973-12-31</td>\n",
       "      <td>1973.0</td>\n",
       "      <td>INDL</td>\n",
       "      <td>C</td>\n",
       "      <td>D</td>\n",
       "      <td>STD</td>\n",
       "      <td>AE.2</td>\n",
       "      <td>A &amp; E PLASTIK PAK INC</td>\n",
       "      <td>USD</td>\n",
       "      <td>I</td>\n",
       "      <td>3089</td>\n",
       "    </tr>\n",
       "    <tr>\n",
       "      <th>4</th>\n",
       "      <td>1000</td>\n",
       "      <td>23369</td>\n",
       "      <td>1974-12-31</td>\n",
       "      <td>1974.0</td>\n",
       "      <td>INDL</td>\n",
       "      <td>C</td>\n",
       "      <td>D</td>\n",
       "      <td>STD</td>\n",
       "      <td>AE.2</td>\n",
       "      <td>A &amp; E PLASTIK PAK INC</td>\n",
       "      <td>USD</td>\n",
       "      <td>I</td>\n",
       "      <td>3089</td>\n",
       "    </tr>\n",
       "    <tr>\n",
       "      <th>...</th>\n",
       "      <td>...</td>\n",
       "      <td>...</td>\n",
       "      <td>...</td>\n",
       "      <td>...</td>\n",
       "      <td>...</td>\n",
       "      <td>...</td>\n",
       "      <td>...</td>\n",
       "      <td>...</td>\n",
       "      <td>...</td>\n",
       "      <td>...</td>\n",
       "      <td>...</td>\n",
       "      <td>...</td>\n",
       "      <td>...</td>\n",
       "    </tr>\n",
       "    <tr>\n",
       "      <th>320693</th>\n",
       "      <td>296318</td>\n",
       "      <td>53885</td>\n",
       "      <td>2012-12-31</td>\n",
       "      <td>2012.0</td>\n",
       "      <td>INDL</td>\n",
       "      <td>C</td>\n",
       "      <td>D</td>\n",
       "      <td>STD</td>\n",
       "      <td>ORIG</td>\n",
       "      <td>OCEAN RIG UDW INC</td>\n",
       "      <td>USD</td>\n",
       "      <td>I</td>\n",
       "      <td>1381</td>\n",
       "    </tr>\n",
       "    <tr>\n",
       "      <th>320711</th>\n",
       "      <td>296753</td>\n",
       "      <td>53991</td>\n",
       "      <td>2012-12-31</td>\n",
       "      <td>2012.0</td>\n",
       "      <td>INDL</td>\n",
       "      <td>C</td>\n",
       "      <td>D</td>\n",
       "      <td>STD</td>\n",
       "      <td>AVGTF</td>\n",
       "      <td>AVG TECHNOLOGIES NV</td>\n",
       "      <td>USD</td>\n",
       "      <td>I</td>\n",
       "      <td>7372</td>\n",
       "    </tr>\n",
       "    <tr>\n",
       "      <th>320724</th>\n",
       "      <td>296885</td>\n",
       "      <td>54281</td>\n",
       "      <td>2012-12-31</td>\n",
       "      <td>2012.0</td>\n",
       "      <td>INDL</td>\n",
       "      <td>C</td>\n",
       "      <td>D</td>\n",
       "      <td>STD</td>\n",
       "      <td>RDHL</td>\n",
       "      <td>REDHILL BIOPHARMA LTD</td>\n",
       "      <td>USD</td>\n",
       "      <td>A</td>\n",
       "      <td>2836</td>\n",
       "    </tr>\n",
       "    <tr>\n",
       "      <th>320747</th>\n",
       "      <td>297209</td>\n",
       "      <td>53928</td>\n",
       "      <td>2011-12-31</td>\n",
       "      <td>2011.0</td>\n",
       "      <td>INDL</td>\n",
       "      <td>C</td>\n",
       "      <td>D</td>\n",
       "      <td>STD</td>\n",
       "      <td>PACDQ</td>\n",
       "      <td>PACIFIC DRILLING SA</td>\n",
       "      <td>USD</td>\n",
       "      <td>A</td>\n",
       "      <td>1381</td>\n",
       "    </tr>\n",
       "    <tr>\n",
       "      <th>320748</th>\n",
       "      <td>297209</td>\n",
       "      <td>53928</td>\n",
       "      <td>2012-12-31</td>\n",
       "      <td>2012.0</td>\n",
       "      <td>INDL</td>\n",
       "      <td>C</td>\n",
       "      <td>D</td>\n",
       "      <td>STD</td>\n",
       "      <td>PACDQ</td>\n",
       "      <td>PACIFIC DRILLING SA</td>\n",
       "      <td>USD</td>\n",
       "      <td>A</td>\n",
       "      <td>1381</td>\n",
       "    </tr>\n",
       "  </tbody>\n",
       "</table>\n",
       "<p>263895 rows × 13 columns</p>\n",
       "</div>"
      ],
      "text/plain": [
       "         gvkey  LPERMCO    datadate   fyear indfmt consol popsrc datafmt  \\\n",
       "0         1000    23369  1970-12-31  1970.0   INDL      C      D     STD   \n",
       "1         1000    23369  1971-12-31  1971.0   INDL      C      D     STD   \n",
       "2         1000    23369  1972-12-31  1972.0   INDL      C      D     STD   \n",
       "3         1000    23369  1973-12-31  1973.0   INDL      C      D     STD   \n",
       "4         1000    23369  1974-12-31  1974.0   INDL      C      D     STD   \n",
       "...        ...      ...         ...     ...    ...    ...    ...     ...   \n",
       "320693  296318    53885  2012-12-31  2012.0   INDL      C      D     STD   \n",
       "320711  296753    53991  2012-12-31  2012.0   INDL      C      D     STD   \n",
       "320724  296885    54281  2012-12-31  2012.0   INDL      C      D     STD   \n",
       "320747  297209    53928  2011-12-31  2011.0   INDL      C      D     STD   \n",
       "320748  297209    53928  2012-12-31  2012.0   INDL      C      D     STD   \n",
       "\n",
       "          tic                   conm curcd costat   sic  \n",
       "0        AE.2  A & E PLASTIK PAK INC   USD      I  3089  \n",
       "1        AE.2  A & E PLASTIK PAK INC   USD      I  3089  \n",
       "2        AE.2  A & E PLASTIK PAK INC   USD      I  3089  \n",
       "3        AE.2  A & E PLASTIK PAK INC   USD      I  3089  \n",
       "4        AE.2  A & E PLASTIK PAK INC   USD      I  3089  \n",
       "...       ...                    ...   ...    ...   ...  \n",
       "320693   ORIG      OCEAN RIG UDW INC   USD      I  1381  \n",
       "320711  AVGTF    AVG TECHNOLOGIES NV   USD      I  7372  \n",
       "320724   RDHL  REDHILL BIOPHARMA LTD   USD      A  2836  \n",
       "320747  PACDQ    PACIFIC DRILLING SA   USD      A  1381  \n",
       "320748  PACDQ    PACIFIC DRILLING SA   USD      A  1381  \n",
       "\n",
       "[263895 rows x 13 columns]"
      ]
     },
     "execution_count": 3,
     "metadata": {},
     "output_type": "execute_result"
    }
   ],
   "source": [
    "link_hist"
   ]
  },
  {
   "cell_type": "markdown",
   "id": "151d0aa64ed934f2",
   "metadata": {
    "collapsed": false
   },
   "source": [
    "As mentioned above, the next step is now to use the linkhist table to determine what the other comparison groups are. We use SIC codes to determine broker dealers and banks, and we make sure to exclude any firms that are already in the primary dealer group so we do not have duplicates. Below is the reference table for broker dealers, which had explicit SIC codes mentioned in the paper - banks did not have explicit SIC codes mentioned and required research."
   ]
  },
  {
   "cell_type": "code",
   "execution_count": 4,
   "id": "48600227e999d933",
   "metadata": {
    "ExecuteTime": {
     "end_time": "2024-03-10T21:11:20.484485200Z",
     "start_time": "2024-03-10T21:11:20.393178400Z"
    },
    "collapsed": false
   },
   "outputs": [
    {
     "data": {
      "application/vnd.microsoft.datawrangler.viewer.v0+json": {
       "columns": [
        {
         "name": "index",
         "rawType": "int64",
         "type": "integer"
        },
        {
         "name": "gvkey",
         "rawType": "int64",
         "type": "integer"
        },
        {
         "name": "conm",
         "rawType": "object",
         "type": "string"
        },
        {
         "name": "sic",
         "rawType": "int64",
         "type": "integer"
        },
        {
         "name": "Start Date",
         "rawType": "object",
         "type": "string"
        },
        {
         "name": "End Date",
         "rawType": "object",
         "type": "string"
        }
       ],
       "conversionMethod": "pd.DataFrame",
       "ref": "572ec879-fbba-4fe8-bc8e-ef7ade567ef0",
       "rows": [
        [
         "0",
         "11687",
         "ZIONS BANCORPORATION NA",
         "6020",
         "1960-05-19",
         "2000-04-17 00:00:00.000000"
        ],
        [
         "39",
         "2968",
         "JPMORGAN CHASE & CO",
         "6020",
         "1960-05-19",
         "1989-03-31 00:00:00.000000"
        ],
        [
         "127",
         "144496",
         "UBS GROUP AG",
         "6282",
         "1960-05-19",
         "1990-03-28 00:00:00.000000"
        ],
        [
         "140",
         "144496",
         "UBS GROUP AG",
         "6282",
         "1960-05-19",
         "1990-01-01 00:00:00.000000"
        ],
        [
         "153",
         "144496",
         "UBS GROUP AG",
         "6282",
         "1960-05-19",
         "1989-07-31 00:00:00.000000"
        ],
        [
         "166",
         "144496",
         "UBS GROUP AG",
         "6282",
         "1960-05-19",
         "2001-04-30 00:00:00.000000"
        ],
        [
         "179",
         "15706",
         "TORONTO DOMINION BANK",
         "6020",
         "1960-05-19",
         "1983-06-05 00:00:00.000000"
        ],
        [
         "196",
         "2612",
         "CALIFORNIA FED BANCORP INC",
         "6035",
         "1960-05-19",
         "1993-10-11 00:00:00.000000"
        ],
        [
         "209",
         "9577",
         "SECURITY PACIFIC CORP",
         "6020",
         "1968-12-12",
         "1973-07-18 00:00:00.000000"
        ],
        [
         "229",
         "114628",
         "GOLDMAN SACHS GROUP INC",
         "6211",
         "1974-12-04",
         "2025-03-10 18:23:01.663441"
        ],
        [
         "243",
         "15633",
         "ROYAL BANK OF CANADA",
         "6020",
         "1976-02-26",
         "1978-04-18 00:00:00.000000"
        ],
        [
         "261",
         "15633",
         "ROYAL BANK OF CANADA",
         "6020",
         "1976-06-17",
         "1978-05-15 00:00:00.000000"
        ],
        [
         "279",
         "143356",
         "PRUDENTIAL FINANCIAL INC",
         "6311",
         "1976-09-29",
         "1994-05-06 00:00:00.000000"
        ],
        [
         "291",
         "143356",
         "PRUDENTIAL FINANCIAL INC",
         "6311",
         "1976-11-25",
         "1987-12-31 00:00:00.000000"
        ],
        [
         "303",
         "8299",
         "PAINE WEBBER GROUP",
         "6211",
         "1977-11-02",
         "1998-04-30 00:00:00.000000"
        ],
        [
         "331",
         "8299",
         "PAINE WEBBER GROUP",
         "6211",
         "1977-11-02",
         "1987-12-31 00:00:00.000000"
        ],
        [
         "359",
         "12124",
         "MORGAN STANLEY",
         "6211",
         "1978-02-01",
         "2011-05-31 00:00:00.000000"
        ],
        [
         "386",
         "7982",
         "NORTHERN TRUST CORP",
         "6020",
         "1979-02-07",
         "1994-12-30 00:00:00.000000"
        ],
        [
         "427",
         "15613",
         "NOMURA HOLDINGS INC",
         "6211",
         "1979-08-22",
         "1993-08-01 00:00:00.000000"
        ],
        [
         "439",
         "15613",
         "NOMURA HOLDINGS INC",
         "6211",
         "1980-02-13",
         "1989-12-27 00:00:00.000000"
        ],
        [
         "451",
         "15580",
         "BANK OF MONTREAL",
         "6020",
         "1980-11-19",
         "1987-05-07 00:00:00.000000"
        ],
        [
         "466",
         "2968",
         "JPMORGAN CHASE & CO",
         "6020",
         "1981-06-10",
         "2008-10-01 00:00:00.000000"
        ],
        [
         "554",
         "12124",
         "MORGAN STANLEY",
         "6211",
         "1984-07-31",
         "2009-04-01 00:00:00.000000"
        ],
        [
         "581",
         "12124",
         "MORGAN STANLEY",
         "6211",
         "1986-11-03",
         "1988-06-17 00:00:00.000000"
        ],
        [
         "608",
         "248136",
         "MIZUHO FINANCIAL GROUP INC",
         "6020",
         "1986-12-11",
         "2010-04-01 00:00:00.000000"
        ],
        [
         "615",
         "7032",
         "MARINE MIDLAND BANKS",
         "6020",
         "1986-12-11",
         "1987-05-15 00:00:00.000000"
        ],
        [
         "642",
         "177745",
         "MF GLOBAL HOLDINGS LTD",
         "6200",
         "1986-12-11",
         "2007-11-30 00:00:00.000000"
        ],
        [
         "646",
         "9577",
         "SECURITY PACIFIC CORP",
         "6020",
         "1986-12-11",
         "1991-01-17 00:00:00.000000"
        ],
        [
         "666",
         "7267",
         "MERRILL LYNCH & CO INC",
         "6211",
         "1986-12-11",
         "1989-07-07 00:00:00.000000"
        ],
        [
         "704",
         "7003",
         "MANUFACTURERS HANOVER CORP",
         "6020",
         "1987-02-04",
         "1990-06-27 00:00:00.000000"
        ],
        [
         "726",
         "7003",
         "MANUFACTURERS HANOVER CORP",
         "6020",
         "1987-05-08",
         "1988-06-19 00:00:00.000000"
        ],
        [
         "748",
         "2943",
         "CHASE MANHATTAN CORP  -OLD",
         "6020",
         "1987-07-01",
         "1988-12-19 00:00:00.000000"
        ],
        [
         "778",
         "30128",
         "LEHMAN BROTHERS HOLDINGS INC",
         "6211",
         "1987-12-22",
         "1993-07-05 00:00:00.000000"
        ],
        [
         "792",
         "30128",
         "LEHMAN BROTHERS HOLDINGS INC",
         "6211",
         "1987-12-22",
         "1989-04-28 00:00:00.000000"
        ],
        [
         "806",
         "30128",
         "LEHMAN BROTHERS HOLDINGS INC",
         "6211",
         "1988-01-01",
         "1990-07-31 00:00:00.000000"
        ],
        [
         "820",
         "12223",
         "ROTHSCHILD (LF) HOLDINGS INC",
         "6211",
         "1988-06-24",
         "1997-09-02 00:00:00.000000"
        ],
        [
         "823",
         "7003",
         "MANUFACTURERS HANOVER CORP",
         "6020",
         "1988-08-01",
         "1991-12-31 00:00:00.000000"
        ],
        [
         "845",
         "6239",
         "JEFFERIES GROUP LLC",
         "6211",
         "1988-09-01",
         "1992-12-30 00:00:00.000000"
        ],
        [
         "875",
         "2968",
         "JPMORGAN CHASE & CO",
         "6020",
         "1988-09-29",
         "1989-01-13 00:00:00.000000"
        ],
        [
         "919",
         "2968",
         "JPMORGAN CHASE & CO",
         "6020",
         "1988-09-29",
         "1997-12-04 00:00:00.000000"
        ],
        [
         "963",
         "3463",
         "CONTINENTAL BANK CORP",
         "6020",
         "1988-12-15",
         "1991-08-30 00:00:00.000000"
        ],
        [
         "984",
         "2968",
         "JPMORGAN CHASE & CO",
         "6020",
         "1988-12-20",
         "1996-03-31 00:00:00.000000"
        ],
        [
         "1072",
         "2968",
         "JPMORGAN CHASE & CO",
         "6020",
         "1989-04-01",
         "1991-12-31 00:00:00.000000"
        ],
        [
         "1160",
         "3066",
         "CITICORP",
         "6020",
         "1989-04-14",
         "1993-07-14 00:00:00.000000"
        ],
        [
         "1190",
         "2029",
         "BANKERS TRUST CORP",
         "6020",
         "1989-07-10",
         "1997-10-22 00:00:00.000000"
        ],
        [
         "1220",
         "5491",
         "HARRIS BANKCORP INC",
         "6020",
         "1989-08-01",
         "1990-08-09 00:00:00.000000"
        ],
        [
         "1232",
         "5491",
         "HARRIS BANKCORP INC",
         "6020",
         "1989-12-07",
         "1990-03-01 00:00:00.000000"
        ],
        [
         "1244",
         "5491",
         "HARRIS BANKCORP INC",
         "6020",
         "1989-12-07",
         "1996-02-29 00:00:00.000000"
        ],
        [
         "1256",
         "5491",
         "HARRIS BANKCORP INC",
         "6020",
         "1989-12-28",
         "2002-03-31 00:00:00.000000"
        ],
        [
         "1268",
         "16951",
         "GREENWICH FINANCIAL CORP",
         "6035",
         "1990-01-02",
         "1999-03-31 00:00:00.000000"
        ]
       ],
       "shape": {
        "columns": 5,
        "rows": 114
       }
      },
      "text/html": [
       "<div>\n",
       "<style scoped>\n",
       "    .dataframe tbody tr th:only-of-type {\n",
       "        vertical-align: middle;\n",
       "    }\n",
       "\n",
       "    .dataframe tbody tr th {\n",
       "        vertical-align: top;\n",
       "    }\n",
       "\n",
       "    .dataframe thead th {\n",
       "        text-align: right;\n",
       "    }\n",
       "</style>\n",
       "<table border=\"1\" class=\"dataframe\">\n",
       "  <thead>\n",
       "    <tr style=\"text-align: right;\">\n",
       "      <th></th>\n",
       "      <th>gvkey</th>\n",
       "      <th>conm</th>\n",
       "      <th>sic</th>\n",
       "      <th>Start Date</th>\n",
       "      <th>End Date</th>\n",
       "    </tr>\n",
       "  </thead>\n",
       "  <tbody>\n",
       "    <tr>\n",
       "      <th>0</th>\n",
       "      <td>11687</td>\n",
       "      <td>ZIONS BANCORPORATION NA</td>\n",
       "      <td>6020</td>\n",
       "      <td>1960-05-19</td>\n",
       "      <td>2000-04-17 00:00:00.000000</td>\n",
       "    </tr>\n",
       "    <tr>\n",
       "      <th>39</th>\n",
       "      <td>2968</td>\n",
       "      <td>JPMORGAN CHASE &amp; CO</td>\n",
       "      <td>6020</td>\n",
       "      <td>1960-05-19</td>\n",
       "      <td>1989-03-31 00:00:00.000000</td>\n",
       "    </tr>\n",
       "    <tr>\n",
       "      <th>127</th>\n",
       "      <td>144496</td>\n",
       "      <td>UBS GROUP AG</td>\n",
       "      <td>6282</td>\n",
       "      <td>1960-05-19</td>\n",
       "      <td>1990-03-28 00:00:00.000000</td>\n",
       "    </tr>\n",
       "    <tr>\n",
       "      <th>140</th>\n",
       "      <td>144496</td>\n",
       "      <td>UBS GROUP AG</td>\n",
       "      <td>6282</td>\n",
       "      <td>1960-05-19</td>\n",
       "      <td>1990-01-01 00:00:00.000000</td>\n",
       "    </tr>\n",
       "    <tr>\n",
       "      <th>153</th>\n",
       "      <td>144496</td>\n",
       "      <td>UBS GROUP AG</td>\n",
       "      <td>6282</td>\n",
       "      <td>1960-05-19</td>\n",
       "      <td>1989-07-31 00:00:00.000000</td>\n",
       "    </tr>\n",
       "    <tr>\n",
       "      <th>...</th>\n",
       "      <td>...</td>\n",
       "      <td>...</td>\n",
       "      <td>...</td>\n",
       "      <td>...</td>\n",
       "      <td>...</td>\n",
       "    </tr>\n",
       "    <tr>\n",
       "      <th>2607</th>\n",
       "      <td>2014</td>\n",
       "      <td>BANKBOSTON CORP</td>\n",
       "      <td>6020</td>\n",
       "      <td>2010-11-01</td>\n",
       "      <td>2025-03-10 18:23:01.663441</td>\n",
       "    </tr>\n",
       "    <tr>\n",
       "      <th>2635</th>\n",
       "      <td>2014</td>\n",
       "      <td>BANKBOSTON CORP</td>\n",
       "      <td>6020</td>\n",
       "      <td>2011-02-02</td>\n",
       "      <td>2011-10-31 00:00:00.000000</td>\n",
       "    </tr>\n",
       "    <tr>\n",
       "      <th>2663</th>\n",
       "      <td>2968</td>\n",
       "      <td>JPMORGAN CHASE &amp; CO</td>\n",
       "      <td>6020</td>\n",
       "      <td>2011-02-02</td>\n",
       "      <td>2025-03-10 18:23:01.663441</td>\n",
       "    </tr>\n",
       "    <tr>\n",
       "      <th>2707</th>\n",
       "      <td>1494</td>\n",
       "      <td>CRUISE AMERICA INC</td>\n",
       "      <td>7510</td>\n",
       "      <td>2011-05-31</td>\n",
       "      <td>2025-03-10 18:23:01.663441</td>\n",
       "    </tr>\n",
       "    <tr>\n",
       "      <th>2720</th>\n",
       "      <td>7647</td>\n",
       "      <td>BANK OF AMERICA CORP</td>\n",
       "      <td>6020</td>\n",
       "      <td>2011-10-04</td>\n",
       "      <td>2025-03-10 18:23:01.663441</td>\n",
       "    </tr>\n",
       "  </tbody>\n",
       "</table>\n",
       "<p>114 rows × 5 columns</p>\n",
       "</div>"
      ],
      "text/plain": [
       "       gvkey                     conm   sic  Start Date  \\\n",
       "0      11687  ZIONS BANCORPORATION NA  6020  1960-05-19   \n",
       "39      2968      JPMORGAN CHASE & CO  6020  1960-05-19   \n",
       "127   144496             UBS GROUP AG  6282  1960-05-19   \n",
       "140   144496             UBS GROUP AG  6282  1960-05-19   \n",
       "153   144496             UBS GROUP AG  6282  1960-05-19   \n",
       "...      ...                      ...   ...         ...   \n",
       "2607    2014          BANKBOSTON CORP  6020  2010-11-01   \n",
       "2635    2014          BANKBOSTON CORP  6020  2011-02-02   \n",
       "2663    2968      JPMORGAN CHASE & CO  6020  2011-02-02   \n",
       "2707    1494       CRUISE AMERICA INC  7510  2011-05-31   \n",
       "2720    7647     BANK OF AMERICA CORP  6020  2011-10-04   \n",
       "\n",
       "                        End Date  \n",
       "0     2000-04-17 00:00:00.000000  \n",
       "39    1989-03-31 00:00:00.000000  \n",
       "127   1990-03-28 00:00:00.000000  \n",
       "140   1990-01-01 00:00:00.000000  \n",
       "153   1989-07-31 00:00:00.000000  \n",
       "...                          ...  \n",
       "2607  2025-03-10 18:23:01.663441  \n",
       "2635  2011-10-31 00:00:00.000000  \n",
       "2663  2025-03-10 18:23:01.663441  \n",
       "2707  2025-03-10 18:23:01.663441  \n",
       "2720  2025-03-10 18:23:01.663441  \n",
       "\n",
       "[114 rows x 5 columns]"
      ]
     },
     "execution_count": 4,
     "metadata": {},
     "output_type": "execute_result"
    }
   ],
   "source": [
    "comparison_group_link_dict = Table02Prep.create_comparison_group_linktables(link_hist, merged_main)\n",
    "comparison_group_link_dict['PD']"
   ]
  },
  {
   "cell_type": "code",
   "execution_count": 5,
   "id": "439adfe8",
   "metadata": {},
   "outputs": [
    {
     "data": {
      "text/plain": [
       "dict_keys(['BD', 'Banks', 'Cmpust.', 'PD'])"
      ]
     },
     "execution_count": 5,
     "metadata": {},
     "output_type": "execute_result"
    }
   ],
   "source": [
    "comparison_group_link_dict.keys()"
   ]
  },
  {
   "cell_type": "markdown",
   "id": "b77e57fb31a1ec53",
   "metadata": {
    "collapsed": false
   },
   "source": [
    "We then used each of the reference tables (primary dealers, broker dealers, banks, all firms in Compustat) and pulled data from the Compustat Fundamentals Quarterly table. The paper mentioned use of monthly data, but there was no apparent monthly table for financial statement data from Compustat. This led to some confusion about how these authors generated their ratios - I am wondering if they computed monthly ratios given what months came out of annual and then took the average."
   ]
  },
  {
   "cell_type": "markdown",
   "id": "3a63590b8ac8469c",
   "metadata": {
    "collapsed": false
   },
   "source": [
    "Below is the dataset for broker dealers. We calculate or directly pull the values we need in our query so we don't need to do it after. It was mentioned in class this was a best practice because it would run on WRDS servers."
   ]
  },
  {
   "cell_type": "code",
   "execution_count": 6,
   "id": "4876c132be618377",
   "metadata": {
    "ExecuteTime": {
     "end_time": "2024-03-10T21:13:42.162531100Z",
     "start_time": "2024-03-10T21:13:02.559601700Z"
    },
    "collapsed": false
   },
   "outputs": [
    {
     "name": "stderr",
     "output_type": "stream",
     "text": [
      "/Users/wenlan/python-github/finm-32900-final-project/src/Table02Prep.py:403: SyntaxWarning: invalid escape sequence '\\l'\n",
      "  \\caption{\"\"\" + caption + \"\"\"}\n"
     ]
    },
    {
     "ename": "ValueError",
     "evalue": "time data '1960-05-19' does not match format '%m/%d/%y'",
     "output_type": "error",
     "traceback": [
      "\u001b[0;31m---------------------------------------------------------------------------\u001b[0m",
      "\u001b[0;31mValueError\u001b[0m                                Traceback (most recent call last)",
      "Cell \u001b[0;32mIn[6], line 1\u001b[0m\n\u001b[0;32m----> 1\u001b[0m datasets \u001b[38;5;241m=\u001b[39m \u001b[43mTable02Prep\u001b[49m\u001b[38;5;241;43m.\u001b[39;49m\u001b[43mpull_data_for_all_comparison_groups\u001b[49m\u001b[43m(\u001b[49m\u001b[43mdb\u001b[49m\u001b[43m,\u001b[49m\u001b[43m \u001b[49m\u001b[43mcomparison_group_link_dict\u001b[49m\u001b[43m)\u001b[49m\n\u001b[1;32m      2\u001b[0m datasets[\u001b[38;5;124m'\u001b[39m\u001b[38;5;124mBD\u001b[39m\u001b[38;5;124m'\u001b[39m]\n",
      "File \u001b[0;32m~/python-github/finm-32900-final-project/src/Table02Prep.py:200\u001b[0m, in \u001b[0;36mpull_data_for_all_comparison_groups\u001b[0;34m(db, comparison_group_dict, UPDATED)\u001b[0m\n\u001b[1;32m    198\u001b[0m     ITERATE \u001b[38;5;241m=\u001b[39m \u001b[38;5;28;01mFalse\u001b[39;00m\n\u001b[1;32m    199\u001b[0m \u001b[38;5;28;01mif\u001b[39;00m \u001b[38;5;129;01mnot\u001b[39;00m UPDATED:\n\u001b[0;32m--> 200\u001b[0m     datasets[key] \u001b[38;5;241m=\u001b[39m \u001b[43mget_comparison_group_data\u001b[49m\u001b[43m(\u001b[49m\u001b[43mdb\u001b[49m\u001b[43m,\u001b[49m\u001b[43m \u001b[49m\u001b[43mlinktable\u001b[49m\u001b[43m,\u001b[49m\u001b[43m \u001b[49m\u001b[43mconfig\u001b[49m\u001b[38;5;241;43m.\u001b[39;49m\u001b[43mSTART_DATE\u001b[49m\u001b[43m,\u001b[49m\u001b[43m \u001b[49m\u001b[43mconfig\u001b[49m\u001b[38;5;241;43m.\u001b[39;49m\u001b[43mEND_DATE\u001b[49m\u001b[43m,\u001b[49m\u001b[43m \u001b[49m\u001b[43mITERATE\u001b[49m\u001b[38;5;241;43m=\u001b[39;49m\u001b[43mITERATE\u001b[49m\u001b[43m)\u001b[49m\u001b[38;5;241m.\u001b[39mdrop_duplicates()\n\u001b[1;32m    201\u001b[0m \u001b[38;5;28;01melse\u001b[39;00m:\n\u001b[1;32m    202\u001b[0m     \u001b[38;5;28;01mif\u001b[39;00m pd\u001b[38;5;241m.\u001b[39mto_datetime(config\u001b[38;5;241m.\u001b[39mUPDATED_END_DATE) \u001b[38;5;241m>\u001b[39m datetime\u001b[38;5;241m.\u001b[39mnow():\n",
      "File \u001b[0;32m~/python-github/finm-32900-final-project/src/Table02Prep.py:92\u001b[0m, in \u001b[0;36mget_comparison_group_data\u001b[0;34m(db, linktable_df, start_date, end_date, ITERATE)\u001b[0m\n\u001b[1;32m     76\u001b[0m \u001b[38;5;28;01mdef\u001b[39;00m\u001b[38;5;250m \u001b[39m\u001b[38;5;21mget_comparison_group_data\u001b[39m(db, linktable_df, start_date, end_date, ITERATE\u001b[38;5;241m=\u001b[39m\u001b[38;5;28;01mFalse\u001b[39;00m):\n\u001b[1;32m     77\u001b[0m \u001b[38;5;250m    \u001b[39m\u001b[38;5;124;03m\"\"\"\u001b[39;00m\n\u001b[1;32m     78\u001b[0m \u001b[38;5;124;03m    Reads in manual datasets containing tickers and link table information.\u001b[39;00m\n\u001b[1;32m     79\u001b[0m \n\u001b[0;32m   (...)\u001b[0m\n\u001b[1;32m     90\u001b[0m \u001b[38;5;124;03m    - ticks_df, linktable_df = read_in_manual_datasets()\u001b[39;00m\n\u001b[1;32m     91\u001b[0m \u001b[38;5;124;03m    \"\"\"\u001b[39;00m\n\u001b[0;32m---> 92\u001b[0m     \u001b[38;5;28;01mreturn\u001b[39;00m \u001b[43mfetch_financial_data\u001b[49m\u001b[43m(\u001b[49m\u001b[43mdb\u001b[49m\u001b[43m,\u001b[49m\u001b[43m \u001b[49m\u001b[43mlinktable_df\u001b[49m\u001b[43m,\u001b[49m\u001b[43m \u001b[49m\u001b[43mstart_date\u001b[49m\u001b[43m,\u001b[49m\u001b[43m \u001b[49m\u001b[43mend_date\u001b[49m\u001b[43m,\u001b[49m\u001b[43m \u001b[49m\u001b[43mITERATE\u001b[49m\u001b[38;5;241;43m=\u001b[39;49m\u001b[43mITERATE\u001b[49m\u001b[43m)\u001b[49m\n",
      "File \u001b[0;32m~/python-github/finm-32900-final-project/src/Table02Prep.py:39\u001b[0m, in \u001b[0;36mfetch_financial_data\u001b[0;34m(db, linktable, start_date, end_date, ITERATE)\u001b[0m\n\u001b[1;32m     36\u001b[0m \u001b[38;5;66;03m# Convert 'Current' to actual end date and parse dates\u001b[39;00m\n\u001b[1;32m     37\u001b[0m end_dates \u001b[38;5;241m=\u001b[39m [end_date \u001b[38;5;28;01mif\u001b[39;00m date \u001b[38;5;241m==\u001b[39m \u001b[38;5;124m'\u001b[39m\u001b[38;5;124mCurrent\u001b[39m\u001b[38;5;124m'\u001b[39m \u001b[38;5;28;01melse\u001b[39;00m date \u001b[38;5;28;01mfor\u001b[39;00m date \u001b[38;5;129;01min\u001b[39;00m end_dates]\n\u001b[1;32m     38\u001b[0m start_dates \u001b[38;5;241m=\u001b[39m [datetime\u001b[38;5;241m.\u001b[39mstrptime(date, \u001b[38;5;124m'\u001b[39m\u001b[38;5;124m%\u001b[39m\u001b[38;5;124mm/\u001b[39m\u001b[38;5;132;01m%d\u001b[39;00m\u001b[38;5;124m/\u001b[39m\u001b[38;5;124m%\u001b[39m\u001b[38;5;124mY\u001b[39m\u001b[38;5;124m'\u001b[39m) \u001b[38;5;28;01mif\u001b[39;00m \u001b[38;5;28mlen\u001b[39m(date\u001b[38;5;241m.\u001b[39msplit(\u001b[38;5;124m'\u001b[39m\u001b[38;5;124m/\u001b[39m\u001b[38;5;124m'\u001b[39m)[\u001b[38;5;241m-\u001b[39m\u001b[38;5;241m1\u001b[39m]) \u001b[38;5;241m==\u001b[39m \u001b[38;5;241m4\u001b[39m\n\u001b[0;32m---> 39\u001b[0m                \u001b[38;5;28;01melse\u001b[39;00m \u001b[43mdatetime\u001b[49m\u001b[38;5;241;43m.\u001b[39;49m\u001b[43mstrptime\u001b[49m\u001b[43m(\u001b[49m\u001b[43mdate\u001b[49m\u001b[43m,\u001b[49m\u001b[43m \u001b[49m\u001b[38;5;124;43m'\u001b[39;49m\u001b[38;5;124;43m%\u001b[39;49m\u001b[38;5;124;43mm/\u001b[39;49m\u001b[38;5;132;43;01m%d\u001b[39;49;00m\u001b[38;5;124;43m/\u001b[39;49m\u001b[38;5;124;43m%\u001b[39;49m\u001b[38;5;124;43my\u001b[39;49m\u001b[38;5;124;43m'\u001b[39;49m\u001b[43m)\u001b[49m \u001b[38;5;28;01mfor\u001b[39;00m date \u001b[38;5;129;01min\u001b[39;00m start_dates]\n\u001b[1;32m     41\u001b[0m end_dates \u001b[38;5;241m=\u001b[39m [datetime\u001b[38;5;241m.\u001b[39mstrptime(date, \u001b[38;5;124m'\u001b[39m\u001b[38;5;124m%\u001b[39m\u001b[38;5;124mm/\u001b[39m\u001b[38;5;132;01m%d\u001b[39;00m\u001b[38;5;124m/\u001b[39m\u001b[38;5;124m%\u001b[39m\u001b[38;5;124mY\u001b[39m\u001b[38;5;124m'\u001b[39m) \u001b[38;5;28;01mif\u001b[39;00m \u001b[38;5;28mlen\u001b[39m(date\u001b[38;5;241m.\u001b[39msplit(\u001b[38;5;124m'\u001b[39m\u001b[38;5;124m/\u001b[39m\u001b[38;5;124m'\u001b[39m)[\u001b[38;5;241m-\u001b[39m\u001b[38;5;241m1\u001b[39m]) \u001b[38;5;241m==\u001b[39m \u001b[38;5;241m4\u001b[39m\n\u001b[1;32m     42\u001b[0m              \u001b[38;5;28;01melse\u001b[39;00m datetime\u001b[38;5;241m.\u001b[39mstrptime(date, \u001b[38;5;124m'\u001b[39m\u001b[38;5;124m%\u001b[39m\u001b[38;5;124mm/\u001b[39m\u001b[38;5;132;01m%d\u001b[39;00m\u001b[38;5;124m/\u001b[39m\u001b[38;5;124m%\u001b[39m\u001b[38;5;124my\u001b[39m\u001b[38;5;124m'\u001b[39m) \u001b[38;5;28;01mfor\u001b[39;00m date \u001b[38;5;129;01min\u001b[39;00m end_dates]\n\u001b[1;32m     44\u001b[0m \u001b[38;5;28;01mfor\u001b[39;00m i, gvkey \u001b[38;5;129;01min\u001b[39;00m \u001b[38;5;28menumerate\u001b[39m(pgvkeys):\n",
      "File \u001b[0;32m~/miniforge3/envs/finm/lib/python3.12/_strptime.py:554\u001b[0m, in \u001b[0;36m_strptime_datetime\u001b[0;34m(cls, data_string, format)\u001b[0m\n\u001b[1;32m    551\u001b[0m \u001b[38;5;28;01mdef\u001b[39;00m\u001b[38;5;250m \u001b[39m\u001b[38;5;21m_strptime_datetime\u001b[39m(\u001b[38;5;28mcls\u001b[39m, data_string, \u001b[38;5;28mformat\u001b[39m\u001b[38;5;241m=\u001b[39m\u001b[38;5;124m\"\u001b[39m\u001b[38;5;132;01m%a\u001b[39;00m\u001b[38;5;124m \u001b[39m\u001b[38;5;124m%\u001b[39m\u001b[38;5;124mb \u001b[39m\u001b[38;5;132;01m%d\u001b[39;00m\u001b[38;5;124m \u001b[39m\u001b[38;5;124m%\u001b[39m\u001b[38;5;124mH:\u001b[39m\u001b[38;5;124m%\u001b[39m\u001b[38;5;124mM:\u001b[39m\u001b[38;5;124m%\u001b[39m\u001b[38;5;124mS \u001b[39m\u001b[38;5;124m%\u001b[39m\u001b[38;5;124mY\u001b[39m\u001b[38;5;124m\"\u001b[39m):\n\u001b[1;32m    552\u001b[0m \u001b[38;5;250m    \u001b[39m\u001b[38;5;124;03m\"\"\"Return a class cls instance based on the input string and the\u001b[39;00m\n\u001b[1;32m    553\u001b[0m \u001b[38;5;124;03m    format string.\"\"\"\u001b[39;00m\n\u001b[0;32m--> 554\u001b[0m     tt, fraction, gmtoff_fraction \u001b[38;5;241m=\u001b[39m \u001b[43m_strptime\u001b[49m\u001b[43m(\u001b[49m\u001b[43mdata_string\u001b[49m\u001b[43m,\u001b[49m\u001b[43m \u001b[49m\u001b[38;5;28;43mformat\u001b[39;49m\u001b[43m)\u001b[49m\n\u001b[1;32m    555\u001b[0m     tzname, gmtoff \u001b[38;5;241m=\u001b[39m tt[\u001b[38;5;241m-\u001b[39m\u001b[38;5;241m2\u001b[39m:]\n\u001b[1;32m    556\u001b[0m     args \u001b[38;5;241m=\u001b[39m tt[:\u001b[38;5;241m6\u001b[39m] \u001b[38;5;241m+\u001b[39m (fraction,)\n",
      "File \u001b[0;32m~/miniforge3/envs/finm/lib/python3.12/_strptime.py:333\u001b[0m, in \u001b[0;36m_strptime\u001b[0;34m(data_string, format)\u001b[0m\n\u001b[1;32m    331\u001b[0m found \u001b[38;5;241m=\u001b[39m format_regex\u001b[38;5;241m.\u001b[39mmatch(data_string)\n\u001b[1;32m    332\u001b[0m \u001b[38;5;28;01mif\u001b[39;00m \u001b[38;5;129;01mnot\u001b[39;00m found:\n\u001b[0;32m--> 333\u001b[0m     \u001b[38;5;28;01mraise\u001b[39;00m \u001b[38;5;167;01mValueError\u001b[39;00m(\u001b[38;5;124m\"\u001b[39m\u001b[38;5;124mtime data \u001b[39m\u001b[38;5;132;01m%r\u001b[39;00m\u001b[38;5;124m does not match format \u001b[39m\u001b[38;5;132;01m%r\u001b[39;00m\u001b[38;5;124m\"\u001b[39m \u001b[38;5;241m%\u001b[39m\n\u001b[1;32m    334\u001b[0m                      (data_string, \u001b[38;5;28mformat\u001b[39m))\n\u001b[1;32m    335\u001b[0m \u001b[38;5;28;01mif\u001b[39;00m \u001b[38;5;28mlen\u001b[39m(data_string) \u001b[38;5;241m!=\u001b[39m found\u001b[38;5;241m.\u001b[39mend():\n\u001b[1;32m    336\u001b[0m     \u001b[38;5;28;01mraise\u001b[39;00m \u001b[38;5;167;01mValueError\u001b[39;00m(\u001b[38;5;124m\"\u001b[39m\u001b[38;5;124munconverted data remains: \u001b[39m\u001b[38;5;132;01m%s\u001b[39;00m\u001b[38;5;124m\"\u001b[39m \u001b[38;5;241m%\u001b[39m\n\u001b[1;32m    337\u001b[0m                       data_string[found\u001b[38;5;241m.\u001b[39mend():])\n",
      "\u001b[0;31mValueError\u001b[0m: time data '1960-05-19' does not match format '%m/%d/%y'"
     ]
    }
   ],
   "source": [
    "datasets = Table02Prep.pull_data_for_all_comparison_groups(db, comparison_group_link_dict)\n",
    "datasets['BD']"
   ]
  },
  {
   "cell_type": "code",
   "execution_count": null,
   "id": "4d5c83e8",
   "metadata": {},
   "outputs": [],
   "source": []
  },
  {
   "cell_type": "markdown",
   "id": "ae7569cd43ed9d01",
   "metadata": {
    "collapsed": false
   },
   "source": [
    "We then prep that data further by aggregating by year and standardizing the date to the first of the year. We also convert the datadate to a datetime column that can be sliced."
   ]
  },
  {
   "cell_type": "code",
   "execution_count": null,
   "id": "3f7f06ff4481980b",
   "metadata": {
    "ExecuteTime": {
     "end_time": "2024-03-10T21:13:48.967255Z",
     "start_time": "2024-03-10T21:13:48.517235400Z"
    },
    "collapsed": false
   },
   "outputs": [],
   "source": [
    "prepped_datasets = Table02Prep.prep_datasets(datasets)\n",
    "prepped_datasets['Banks']"
   ]
  },
  {
   "cell_type": "code",
   "execution_count": null,
   "id": "a336b4e0",
   "metadata": {},
   "outputs": [],
   "source": [
    "prepped_datasets.keys()"
   ]
  },
  {
   "cell_type": "markdown",
   "id": "cb8e9b1576a4a73d",
   "metadata": {
    "collapsed": false
   },
   "source": [
    "We then weave in some of our analysis into the process, whenever the necessary dataset for the analysis is first available. Below is our main table of ratios, where we have computed the\n",
    "$$\n",
    "\\frac{\\text{Primary dealers amount}}{\\text{Comparison group amount (less PD) + Primary dealers amount}}\n",
    "$$"
   ]
  },
  {
   "cell_type": "code",
   "execution_count": null,
   "id": "a55b31dab7162903",
   "metadata": {
    "ExecuteTime": {
     "end_time": "2024-03-10T21:13:52.592970900Z",
     "start_time": "2024-03-10T21:13:52.267408600Z"
    },
    "collapsed": false
   },
   "outputs": [],
   "source": [
    "Table02Analysis.create_summary_stat_table_for_data(datasets)\n",
    "table = Table02Prep.create_ratios_for_table(prepped_datasets)\n",
    "table"
   ]
  },
  {
   "cell_type": "markdown",
   "id": "7a755a36fa811cb3",
   "metadata": {
    "collapsed": false
   },
   "source": [
    "We create a figure that can give the reader insight into how the ratios have shifted over time for each category and comparison group. We had to clean some of the data and fill null values to have the graph look reasonable but without changing the overall shape of it too dramatically.\n",
    "Lastly, we get our final table which was what we were trying to replicate from the paper. This table is then converted to LaTeX and outputted to a .tex file."
   ]
  },
  {
   "cell_type": "code",
   "execution_count": null,
   "id": "43ea207f26d305f5",
   "metadata": {
    "ExecuteTime": {
     "end_time": "2024-03-10T21:14:14.186976Z",
     "start_time": "2024-03-10T21:14:14.143871200Z"
    },
    "collapsed": false
   },
   "outputs": [],
   "source": [
    "formatted_table = Table02Prep.format_final_table(table)\n",
    "formatted_table"
   ]
  },
  {
   "cell_type": "code",
   "execution_count": null,
   "id": "94520d1ea272da69",
   "metadata": {
    "ExecuteTime": {
     "end_time": "2024-03-10T21:15:29.278858Z",
     "start_time": "2024-03-10T21:14:34.002861600Z"
    },
    "collapsed": false
   },
   "outputs": [],
   "source": [
    "updated_table = Table02Prep.main(UPDATED=False)\n",
    "updated_table"
   ]
  }
 ],
 "metadata": {
  "kernelspec": {
   "display_name": "finm",
   "language": "python",
   "name": "python3"
  },
  "language_info": {
   "codemirror_mode": {
    "name": "ipython",
    "version": 3
   },
   "file_extension": ".py",
   "mimetype": "text/x-python",
   "name": "python",
   "nbconvert_exporter": "python",
   "pygments_lexer": "ipython3",
   "version": "3.12.5"
  }
 },
 "nbformat": 4,
 "nbformat_minor": 5
}
