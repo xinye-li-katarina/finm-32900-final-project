{
 "cells": [
  {
   "cell_type": "markdown",
   "id": "7167e03417849a45",
   "metadata": {
    "collapsed": false
   },
   "source": [
    "# Replicating _Intermediary asset pricing: New evidence from many asset classes_"
   ]
  },
  {
   "cell_type": "markdown",
   "id": "9a5f901eac7685d7",
   "metadata": {
    "collapsed": false
   },
   "source": [
    "### James, Young Jin Song, Jaehwa Youm, Monica Panigrahy, and Jacob Simeral"
   ]
  },
  {
   "cell_type": "code",
   "execution_count": 1,
   "id": "32e9813b1c239835",
   "metadata": {
    "ExecuteTime": {
     "end_time": "2024-03-10T21:10:49.789477200Z",
     "start_time": "2024-03-10T21:10:49.177208200Z"
    },
    "collapsed": false
   },
   "outputs": [
    {
     "name": "stdout",
     "output_type": "stream",
     "text": [
      "Downloading from https://www.newyorkfed.org/medialibrary/media/markets/Dealer_Lists_1960_to_2014.xls\n",
      "File saved to cache at data/pulled/nyfed_primary_dealers_list.xls.\n"
     ]
    },
    {
     "name": "stderr",
     "output_type": "stream",
     "text": [
      "/Users/wenlan/python-github/finm-32900-final-project/src/Table02Prep.py:443: SyntaxWarning: invalid escape sequence '\\l'\n",
      "  \\caption{\"\"\" + caption + \"\"\"}\n"
     ]
    }
   ],
   "source": [
    "import load_nyfed\n",
    "load_nyfed.pull_nyfed_primary_dealers_list(load_nyfed.url)\n",
    "# import Table_01\n",
    "# import Table_A1\n",
    "# import Table_A1_to_latex\n",
    "# import Table_01_to_latex\n",
    "\n",
    "import pandas as pd\n",
    "import wrds\n",
    "import config\n",
    "from datetime import datetime\n",
    "import unittest\n",
    "import matplotlib.pyplot as plt\n",
    "import numpy as np\n",
    "import Table02Analysis\n",
    "import Table02Prep\n",
    "\n",
    "import Table03Load\n",
    "import Table03Analysis\n",
    "import Table03\n",
    "\n",
    "import warnings\n",
    "warnings.filterwarnings(\"ignore\", category=FutureWarning)"
   ]
  },
  {
   "cell_type": "markdown",
   "id": "2b300ce92f0decea",
   "metadata": {
    "collapsed": false
   },
   "source": [
    "### 1. Table 01"
   ]
  },
  {
   "cell_type": "markdown",
   "id": "eed6fa8722dfdee5",
   "metadata": {
    "collapsed": false
   },
   "source": [
    "#### 1-1 Pull the NY Fed primary dealers list from the NY Fed website"
   ]
  },
  {
   "cell_type": "markdown",
   "id": "2dccfd089d9f7e2",
   "metadata": {
    "collapsed": false
   },
   "source": [
    "* Utilize the pull_nyfed_primary_dealers_list function, as defined in the 'load_nyfed.py' file, to download the 'nyfed_primary_dealers_list.xls' Excel file. This function saves the downloaded file into the 'data/pulled' directory.\n",
    "* This process is managed by the task_pull_nyfed() function in the 'dodo.py' file. It handles downloading the 'nyfed_primary_dealers_list.xls' Excel file and saving it in the 'data/pulled' directory."
   ]
  },
  {
   "cell_type": "markdown",
   "id": "157638729748376d",
   "metadata": {
    "collapsed": false
   },
   "source": [
    "#### 1-2 Load the NY Fed primary dealers list from the cached files in the 'data/pulled' directory"
   ]
  },
  {
   "cell_type": "markdown",
   "id": "894a768cfd61f51d",
   "metadata": {
    "collapsed": false
   },
   "source": [
    "* Use the 'load_nyfed_primary_dealers_list' function to access the NY Fed primary dealers list from the cached data in the 'data/pulled' directory. Focus on the '2000s' and 'Dealer Alpha' worksheets to extract the list of primary dealers as of February 2014, aiming to replicate Table 1."
   ]
  },
  {
   "cell_type": "markdown",
   "id": "a84cd9ed2be86153",
   "metadata": {
    "collapsed": false
   },
   "source": [
    "#### 1-3 Replicate Table 1 using data from the 'nyfed_primary_dealers_list.xls' Excel file"
   ]
  },
  {
   "cell_type": "markdown",
   "id": "ae0e290bf22b2c49",
   "metadata": {
    "collapsed": false
   },
   "source": [
    "* The '2000s' worksheet provides annual listings of primary dealers from 2000 to 2014; refine this data to isolate dealers active as of February 2014."
   ]
  },
  {
   "cell_type": "markdown",
   "id": "4c1959c432412cd",
   "metadata": {
    "collapsed": false
   },
   "source": [
    "* The 'Dealer Alpha' worksheet covers all primary dealers from 1960 to 2014, including their start and end dates. Clean this data to facilitate matching with the primary dealer listings found in the '2000s' worksheet.\""
   ]
  },
  {
   "cell_type": "markdown",
   "id": "65987b8c32ba888d",
   "metadata": {
    "collapsed": false
   },
   "source": [
    "* Match the 2014 primary dealer list with their start dates, taking care to handle name discrepancies across two Excel sheets, such as extra spaces or differences in punctuation.\n",
    "* Also, for dealers who were active, paused, and then resumed, use their latest start date. The code should adjust for these variations to correctly align with the table in the paper. Lastly, arrange the start dates from earliest to most recent."
   ]
  },
  {
   "cell_type": "markdown",
   "id": "a9fbe0375153563",
   "metadata": {
    "collapsed": false
   },
   "source": [
    "* The author manually matched dealers with their publicly-traded holding companies. For the replication, a 'ticks.csv' file was created and placed in the 'data/manual' directory, containing the mapping information between primary dealers and their holding companies. Subsequently, an additional column was introduced to the 'merged_df' table to display the corresponding holding company for each dealer, utilizing the information from the 'ticks.csv' file."
   ]
  },
  {
   "cell_type": "markdown",
   "id": "d281cada6b513d09",
   "metadata": {
    "collapsed": false
   },
   "source": [
    "#### 1-4 Convert the table to LaTeX format using the to_latex() function"
   ]
  },
  {
   "cell_type": "markdown",
   "id": "f993718a524e79ac",
   "metadata": {
    "collapsed": false
   },
   "source": [
    "* The to_latex function, located in the 'Table_01_to_latex.py' file, is utilized to convert the 'merged_df_final' table into LaTeX format. The resulting LaTeX code is then saved into the 'Table_01_to_latex.tex' file within the output directory.\n",
    "* Before converting the table to LaTeX format, replace '&' with '\\\\&' in company names. Since LaTeX uses '&' to recognize table columns, an unescaped '&' in company names can cause errors when generating the table in LaTeX format."
   ]
  },
  {
   "cell_type": "markdown",
   "id": "d874e3019546d2cb",
   "metadata": {
    "collapsed": false
   },
   "source": [
    "#### 1-5 Complete the LaTeX setup to replicate Table 1, incorporating the formatted table"
   ]
  },
  {
   "cell_type": "markdown",
   "id": "ac3a0c621e1d96a2",
   "metadata": {
    "collapsed": false
   },
   "source": [
    "* Use the 'Table_01_to_latex.tex' file from the 'output' directory, which contains the table in LaTeX format, to create a 'Report_Table_01.tex' file in the 'reports' directory. This action replicates the entire table. The table is inserted into 'Report_Table_01.tex' by employing the '\\input{\\PathToOutput/Table_01_to_latex.tex}' command."
   ]
  },
  {
   "cell_type": "markdown",
   "id": "1a9c8709784902fb",
   "metadata": {
    "collapsed": false
   },
   "source": [
    "### 2. Table A.1"
   ]
  },
  {
   "cell_type": "markdown",
   "id": "38cb927c451fb8b4",
   "metadata": {
    "collapsed": false
   },
   "source": [
    "#### 2-1 Load the NY Fed primary dealers list from the cached files in the 'data/pulled' directory"
   ]
  },
  {
   "cell_type": "markdown",
   "id": "ffe514123a26b43c",
   "metadata": {
    "collapsed": false
   },
   "source": [
    "* Use the 'load_nyfed_primary_dealers_list' function to access the NY Fed primary dealers list from the cached data in the 'data/pulled' directory. This time, focus on the 'Dealer Alpha' worksheets to extract the list of primary dealers from 1960 to 2014, including their start and end dates, with the aim of replicating Table A.1."
   ]
  },
  {
   "cell_type": "markdown",
   "id": "f81c6c0e16be30c1",
   "metadata": {
    "collapsed": false
   },
   "source": [
    "#### 2-2 Replicate Table A.1 using data from the 'nyfed_primary_dealers_list.xls' Excel file"
   ]
  },
  {
   "cell_type": "markdown",
   "id": "21a060f3dcf77563",
   "metadata": {
    "collapsed": false
   },
   "source": [
    "* Clean the data from the 'Dealer Alpha' worksheet to replicate Table A.1, including formatting dates and marking companies still active as primary dealers with 'Current' in the end date column, etc."
   ]
  },
  {
   "cell_type": "markdown",
   "id": "d623fd03c4c60f7e",
   "metadata": {
    "collapsed": false
   },
   "source": [
    "#### 2-3 Convert the table to LaTeX format using the to_latex() function"
   ]
  },
  {
   "cell_type": "markdown",
   "id": "4e08ece6574e9220",
   "metadata": {
    "collapsed": false
   },
   "source": [
    "* The to_latex function, found in the 'Table_A1_to_latex.py' file, is used to convert the 'df_dealer_alpha' table into LaTeX format. The resulting LaTeX code is then saved in the 'Table_A1_to_latex.tex' file within the output directory."
   ]
  },
  {
   "cell_type": "markdown",
   "id": "9edbe5f11c62e69f",
   "metadata": {
    "collapsed": false
   },
   "source": [
    "* As described in the Table 01 replication process, before converting the table to LaTeX format, replace '&' with '\\\\&' in company names. This is necessary because LaTeX uses '&' to recognize table columns, and an unescaped '&' in company names can cause errors when generating the table in LaTeX format.\n",
    "* To match the format presented in Table A.1, separate the primary dealer list at the midpoint, adding a separator column for visual division"
   ]
  },
  {
   "cell_type": "markdown",
   "id": "e752c083f3f2a430",
   "metadata": {
    "collapsed": false
   },
   "source": [
    "#### 2-4 Complete the LaTeX setup to replicate Table A.1, incorporating the formatted table"
   ]
  },
  {
   "cell_type": "markdown",
   "id": "16cc3aa9bd1a878c",
   "metadata": {
    "collapsed": false
   },
   "source": [
    "* To replicate the entire table in a report, use the 'Table_A1_to_latex.tex' file from the 'output' directory. Create a 'Report_Table_A1.tex' file in the 'reports' directory and insert the table by using the command '\\input{\\PathToOutput/Table_A1_to_latex.tex}'."
   ]
  },
  {
   "cell_type": "markdown",
   "id": "be137e36375663da",
   "metadata": {
    "collapsed": false
   },
   "source": [
    "#### 2-5 Limitations on Replicating Table A.1"
   ]
  },
  {
   "cell_type": "markdown",
   "id": "6bda93ba7d39d95",
   "metadata": {
    "collapsed": false
   },
   "source": [
    "* While the replication closely mirrors Table A.1 in format, the list of primary dealers, and data accuracy including start and end dates, a perfect match with the original Table A.1 in the paper is not achieved for several reasons: "
   ]
  },
  {
   "cell_type": "markdown",
   "id": "29029f0e96e8280f",
   "metadata": {
    "collapsed": false
   },
   "source": [
    "* The author used abbreviated company names, shortened manually, whereas the Excel file from the NY Fed features the complete names. \n",
    "* The author consolidated the list by combining entries that, despite name changes, continued as primary dealers. In contrast, the Excel file from the NY Fed presents a more extensive list by including all dealers, accounting for their names before and after changes, resulting in a higher number of entries.\n",
    "* Due to the differences in abbreviation usage and the consolidation approach by the author, conducting precise unit testing was challenging, as the subjectivity in primary dealer name abbreviation and entry combination affected the direct comparison."
   ]
  },
  {
   "cell_type": "markdown",
   "id": "f895e85da21adc86",
   "metadata": {
    "collapsed": false
   },
   "source": [
    "### Table 02"
   ]
  },
  {
   "cell_type": "markdown",
   "id": "dafffb6c5a4c0476",
   "metadata": {
    "collapsed": false
   },
   "source": [
    "The following code reads in a manual data file that contains necessary information on primary dealers from 1960-2012 and then merges it with the CRSP Compustat Merge Linkhist table to get additional information on each, such as the SIC codes. The linkhist table is also used as the main reference table to pull the other comparison groups for the table."
   ]
  },
  {
   "cell_type": "code",
   "execution_count": 2,
   "id": "335bdf5021b86bb7",
   "metadata": {
    "ExecuteTime": {
     "end_time": "2024-03-10T21:11:18.231695600Z",
     "start_time": "2024-03-10T21:11:15.409036700Z"
    },
    "collapsed": false
   },
   "outputs": [
    {
     "name": "stdout",
     "output_type": "stream",
     "text": [
      "Loading library list...\n",
      "Done\n"
     ]
    },
    {
     "data": {
      "application/vnd.microsoft.datawrangler.viewer.v0+json": {
       "columns": [
        {
         "name": "index",
         "rawType": "int64",
         "type": "integer"
        },
        {
         "name": "gvkey",
         "rawType": "int64",
         "type": "integer"
        },
        {
         "name": "conm",
         "rawType": "object",
         "type": "string"
        },
        {
         "name": "sic",
         "rawType": "int64",
         "type": "integer"
        },
        {
         "name": "Start Date",
         "rawType": "object",
         "type": "string"
        },
        {
         "name": "End Date",
         "rawType": "object",
         "type": "string"
        }
       ],
       "conversionMethod": "pd.DataFrame",
       "ref": "1e9bf8e2-d36c-44d9-a1c1-986606adac52",
       "rows": [
        [
         "0",
         "3243",
         "CITIGROUP INC",
         "6199",
         "1960-05-19",
         "2000-04-17"
        ],
        [
         "27",
         "2029",
         "BANKERS TRUST CORP",
         "6020",
         "1960-05-19",
         "1989-07-07"
        ],
        [
         "57",
         "15197",
         "CHEMICAL FINANCIAL CORP",
         "6020",
         "1960-05-19",
         "1965-06-29"
        ],
        [
         "82",
         "3689",
         "DISCOUNT CORP NY/DEL",
         "6211",
         "1960-05-19",
         "1989-03-31"
        ],
        [
         "102",
         "144496",
         "UBS GROUP AG",
         "6282",
         "1960-05-19",
         "1988-12-14"
        ],
        [
         "115",
         "4689",
         "FIRST CHICAGO CORP",
         "6020",
         "1960-05-19",
         "1969-12-31"
        ],
        [
         "139",
         "6186",
         "IRVING BANK CORP",
         "6020",
         "1960-05-19",
         "1993-08-10"
        ],
        [
         "159",
         "2968",
         "JPMORGAN CHASE & CO",
         "6020",
         "1960-05-19",
         "1990-03-28"
        ],
        [
         "203",
         "7267",
         "MERRILL LYNCH & CO INC",
         "6211",
         "1960-05-19",
         "1989-07-31"
        ],
        [
         "241",
         "6657",
         "SALOMON BROTHERS FUND INC",
         "6726",
         "1960-05-19",
         "2001-04-30"
        ],
        [
         "265",
         "15706",
         "TORONTO DOMINION BANK",
         "6020",
         "1960-05-19",
         "1965-11-24"
        ],
        [
         "282",
         "2612",
         "CALIFORNIA FED BANCORP INC",
         "6035",
         "1960-05-19",
         "2009-02-11"
        ],
        [
         "295",
         "15362",
         "WESTPAC BANKING CORP",
         "6020",
         "1960-05-19",
         "1998-08-31"
        ],
        [
         "319",
         "30219",
         "BLYTH INC",
         "3990",
         "1960-05-19",
         "1993-10-11"
        ],
        [
         "338",
         "4710",
         "FIRST INTERSTATE BNCP",
         "6020",
         "1960-05-19",
         "1987-02-03"
        ],
        [
         "372",
         "5491",
         "HARRIS BANKCORP INC",
         "6020",
         "1961-06-15",
         "1989-04-13"
        ],
        [
         "384",
         "9577",
         "SECURITY PACIFIC CORP",
         "6020",
         "1961-06-15",
         "1980-08-27"
        ],
        [
         "404",
         "2943",
         "CHASE MANHATTAN CORP  -OLD",
         "6020",
         "1962-04-16",
         "1970-01-14"
        ],
        [
         "434",
         "7647",
         "BANK OF AMERICA CORP",
         "6020",
         "1964-07-31",
         "1986-10-31"
        ],
        [
         "475",
         "25296",
         "NUVEEN INVESTMENTS INC",
         "6282",
         "1965-07-15",
         "1988-08-31"
        ],
        [
         "490",
         "8299",
         "PAINE WEBBER GROUP",
         "6211",
         "1968-12-12",
         "1973-07-18"
        ],
        [
         "518",
         "30128",
         "LEHMAN BROTHERS HOLDINGS INC",
         "6211",
         "1970-07-15",
         "1987-06-30"
        ],
        [
         "532",
         "7982",
         "NORTHERN TRUST CORP",
         "6020",
         "1971-11-17",
         "1994-04-15"
        ],
        [
         "573",
         "4037",
         "DONALDSON LUFKIN & JENRETTE",
         "6211",
         "1971-11-17",
         "1984-09-10"
        ],
        [
         "585",
         "114628",
         "GOLDMAN SACHS GROUP INC",
         "6211",
         "1971-11-18",
         "1980-08-27"
        ],
        [
         "599",
         "7032",
         "MARINE MIDLAND BANKS",
         "6020",
         "1972-06-22",
         "1973-06-27"
        ],
        [
         "626",
         "143356",
         "PRUDENTIAL FINANCIAL INC",
         "6311",
         "1973-02-22",
         "1974-01-29"
        ],
        [
         "638",
         "3823",
         "DEAN WITTER REYNOLDS ORG INC",
         "6211",
         "1973-08-08",
         "1986-05-29"
        ],
        [
         "648",
         "5793",
         "HUTTON (E.F.) GROUP",
         "6211",
         "1974-03-06",
         "2000-12-31"
        ],
        [
         "664",
         "12124",
         "MORGAN STANLEY",
         "6211",
         "1974-03-07",
         "1980-08-27"
        ],
        [
         "691",
         "15613",
         "NOMURA HOLDINGS INC",
         "6211",
         "1974-12-05",
         "1979-12-31"
        ],
        [
         "703",
         "4684",
         "FIRST BOSTON INC",
         "6211",
         "1975-10-29",
         "1991-02-24"
        ],
        [
         "719",
         "7003",
         "MANUFACTURERS HANOVER CORP",
         "6020",
         "1976-02-26",
         "1978-04-18"
        ],
        [
         "741",
         "16951",
         "GREENWICH FINANCIAL CORP",
         "6035",
         "1976-06-17",
         "1978-05-15"
        ],
        [
         "747",
         "12223",
         "ROTHSCHILD (LF) HOLDINGS INC",
         "6211",
         "1976-11-25",
         "1987-12-31"
        ],
        [
         "750",
         "28838",
         "CREDIT SUISSE GROUP",
         "6211",
         "1976-11-25",
         "2000-12-04"
        ],
        [
         "762",
         "15929",
         "LLOYDS BANKING GROUP PLC",
         "6020",
         "1977-11-02",
         "1998-04-30"
        ],
        [
         "774",
         "15634",
         "NATWEST GROUP PLC",
         "6020",
         "1979-02-07",
         "1994-12-30"
        ],
        [
         "780",
         "1395",
         "AMERICAN BANK NOTE CO",
         "2750",
         "1979-08-22",
         "1993-08-01"
        ],
        [
         "790",
         "2019",
         "BANK OF NEW YORK MELLON CORP",
         "6020",
         "1980-02-13",
         "1989-12-27"
        ],
        [
         "834",
         "12673",
         "BARCLAYS PLC",
         "6020",
         "1980-11-19",
         "1987-05-07"
        ],
        [
         "861",
         "248136",
         "MIZUHO FINANCIAL GROUP INC",
         "6020",
         "1981-06-10",
         "2008-10-01"
        ],
        [
         "868",
         "15576",
         "DEUTSCHE BANK AG",
         "6020",
         "1983-03-21",
         "1985-11-17"
        ],
        [
         "880",
         "11687",
         "ZIONS BANCORPORATION NA",
         "6020",
         "1983-06-07",
         "1983-08-05"
        ],
        [
         "919",
         "15509",
         "HSBC HLDGS PLC",
         "6020",
         "1983-08-31",
         "1988-07-29"
        ],
        [
         "933",
         "15580",
         "BANK OF MONTREAL",
         "6020",
         "1984-02-08",
         "1984-07-26"
        ],
        [
         "948",
         "15581",
         "CANADIAN IMPERIAL BANK",
         "6020",
         "1984-07-31",
         "2009-04-01"
        ],
        [
         "963",
         "61840",
         "CREDIT SUISSE USA INC",
         "6211",
         "1986-11-03",
         "1988-06-17"
        ],
        [
         "968",
         "15577",
         "DRESDNER BANK AG",
         "6020",
         "1986-12-11",
         "1987-05-15"
        ],
        [
         "980",
         "2014",
         "BANKBOSTON CORP",
         "6020",
         "1986-12-11",
         "2007-11-30"
        ]
       ],
       "shape": {
        "columns": 5,
        "rows": 64
       }
      },
      "text/html": [
       "<div>\n",
       "<style scoped>\n",
       "    .dataframe tbody tr th:only-of-type {\n",
       "        vertical-align: middle;\n",
       "    }\n",
       "\n",
       "    .dataframe tbody tr th {\n",
       "        vertical-align: top;\n",
       "    }\n",
       "\n",
       "    .dataframe thead th {\n",
       "        text-align: right;\n",
       "    }\n",
       "</style>\n",
       "<table border=\"1\" class=\"dataframe\">\n",
       "  <thead>\n",
       "    <tr style=\"text-align: right;\">\n",
       "      <th></th>\n",
       "      <th>gvkey</th>\n",
       "      <th>conm</th>\n",
       "      <th>sic</th>\n",
       "      <th>Start Date</th>\n",
       "      <th>End Date</th>\n",
       "    </tr>\n",
       "  </thead>\n",
       "  <tbody>\n",
       "    <tr>\n",
       "      <th>0</th>\n",
       "      <td>3243</td>\n",
       "      <td>CITIGROUP INC</td>\n",
       "      <td>6199</td>\n",
       "      <td>1960-05-19</td>\n",
       "      <td>2000-04-17</td>\n",
       "    </tr>\n",
       "    <tr>\n",
       "      <th>27</th>\n",
       "      <td>2029</td>\n",
       "      <td>BANKERS TRUST CORP</td>\n",
       "      <td>6020</td>\n",
       "      <td>1960-05-19</td>\n",
       "      <td>1989-07-07</td>\n",
       "    </tr>\n",
       "    <tr>\n",
       "      <th>57</th>\n",
       "      <td>15197</td>\n",
       "      <td>CHEMICAL FINANCIAL CORP</td>\n",
       "      <td>6020</td>\n",
       "      <td>1960-05-19</td>\n",
       "      <td>1965-06-29</td>\n",
       "    </tr>\n",
       "    <tr>\n",
       "      <th>82</th>\n",
       "      <td>3689</td>\n",
       "      <td>DISCOUNT CORP NY/DEL</td>\n",
       "      <td>6211</td>\n",
       "      <td>1960-05-19</td>\n",
       "      <td>1989-03-31</td>\n",
       "    </tr>\n",
       "    <tr>\n",
       "      <th>102</th>\n",
       "      <td>144496</td>\n",
       "      <td>UBS GROUP AG</td>\n",
       "      <td>6282</td>\n",
       "      <td>1960-05-19</td>\n",
       "      <td>1988-12-14</td>\n",
       "    </tr>\n",
       "    <tr>\n",
       "      <th>...</th>\n",
       "      <td>...</td>\n",
       "      <td>...</td>\n",
       "      <td>...</td>\n",
       "      <td>...</td>\n",
       "      <td>...</td>\n",
       "    </tr>\n",
       "    <tr>\n",
       "      <th>1159</th>\n",
       "      <td>13294</td>\n",
       "      <td>NATL WESTMINSTER BANK</td>\n",
       "      <td>6020</td>\n",
       "      <td>1988-01-01</td>\n",
       "      <td>1990-07-31</td>\n",
       "    </tr>\n",
       "    <tr>\n",
       "      <th>1173</th>\n",
       "      <td>6682</td>\n",
       "      <td>JEFFERIES FINANCIAL GRP INC</td>\n",
       "      <td>6211</td>\n",
       "      <td>1988-06-20</td>\n",
       "      <td>1993-12-31</td>\n",
       "    </tr>\n",
       "    <tr>\n",
       "      <th>1226</th>\n",
       "      <td>5047</td>\n",
       "      <td>GENERAL ELECTRIC CO</td>\n",
       "      <td>9997</td>\n",
       "      <td>1988-06-24</td>\n",
       "      <td>1997-09-02</td>\n",
       "    </tr>\n",
       "    <tr>\n",
       "      <th>1279</th>\n",
       "      <td>1414</td>\n",
       "      <td>PRIMERICA INC</td>\n",
       "      <td>6311</td>\n",
       "      <td>1988-06-24</td>\n",
       "      <td>1995-07-26</td>\n",
       "    </tr>\n",
       "    <tr>\n",
       "      <th>1310</th>\n",
       "      <td>8007</td>\n",
       "      <td>WELLS FARGO &amp; CO</td>\n",
       "      <td>6020</td>\n",
       "      <td>1988-06-24</td>\n",
       "      <td>1990-11-08</td>\n",
       "    </tr>\n",
       "  </tbody>\n",
       "</table>\n",
       "<p>64 rows × 5 columns</p>\n",
       "</div>"
      ],
      "text/plain": [
       "       gvkey                         conm   sic  Start Date    End Date\n",
       "0       3243                CITIGROUP INC  6199  1960-05-19  2000-04-17\n",
       "27      2029           BANKERS TRUST CORP  6020  1960-05-19  1989-07-07\n",
       "57     15197      CHEMICAL FINANCIAL CORP  6020  1960-05-19  1965-06-29\n",
       "82      3689         DISCOUNT CORP NY/DEL  6211  1960-05-19  1989-03-31\n",
       "102   144496                 UBS GROUP AG  6282  1960-05-19  1988-12-14\n",
       "...      ...                          ...   ...         ...         ...\n",
       "1159   13294        NATL WESTMINSTER BANK  6020  1988-01-01  1990-07-31\n",
       "1173    6682  JEFFERIES FINANCIAL GRP INC  6211  1988-06-20  1993-12-31\n",
       "1226    5047          GENERAL ELECTRIC CO  9997  1988-06-24  1997-09-02\n",
       "1279    1414                PRIMERICA INC  6311  1988-06-24  1995-07-26\n",
       "1310    8007             WELLS FARGO & CO  6020  1988-06-24  1990-11-08\n",
       "\n",
       "[64 rows x 5 columns]"
      ]
     },
     "execution_count": 2,
     "metadata": {},
     "output_type": "execute_result"
    }
   ],
   "source": [
    "db = wrds.Connection(wrds_username=config.WRDS_USERNAME)\n",
    "merged_main, link_hist = Table02Prep.prim_deal_merge_manual_data_w_linktable()\n",
    "merged_main"
   ]
  },
  {
   "cell_type": "code",
   "execution_count": 3,
   "id": "f56485ef",
   "metadata": {},
   "outputs": [
    {
     "data": {
      "application/vnd.microsoft.datawrangler.viewer.v0+json": {
       "columns": [
        {
         "name": "index",
         "rawType": "int64",
         "type": "integer"
        },
        {
         "name": "gvkey",
         "rawType": "int64",
         "type": "integer"
        },
        {
         "name": "LPERMCO",
         "rawType": "int64",
         "type": "integer"
        },
        {
         "name": "datadate",
         "rawType": "object",
         "type": "string"
        },
        {
         "name": "fyear",
         "rawType": "float64",
         "type": "float"
        },
        {
         "name": "indfmt",
         "rawType": "object",
         "type": "string"
        },
        {
         "name": "consol",
         "rawType": "object",
         "type": "string"
        },
        {
         "name": "popsrc",
         "rawType": "object",
         "type": "string"
        },
        {
         "name": "datafmt",
         "rawType": "object",
         "type": "string"
        },
        {
         "name": "tic",
         "rawType": "object",
         "type": "string"
        },
        {
         "name": "conm",
         "rawType": "object",
         "type": "string"
        },
        {
         "name": "curcd",
         "rawType": "object",
         "type": "string"
        },
        {
         "name": "costat",
         "rawType": "object",
         "type": "string"
        },
        {
         "name": "sic",
         "rawType": "int64",
         "type": "integer"
        }
       ],
       "conversionMethod": "pd.DataFrame",
       "ref": "1701c621-e80a-40e6-a4c8-b4e3859e0091",
       "rows": [
        [
         "0",
         "1000",
         "23369",
         "1970-12-31",
         "1970.0",
         "INDL",
         "C",
         "D",
         "STD",
         "AE.2",
         "A & E PLASTIK PAK INC",
         "USD",
         "I",
         "3089"
        ],
        [
         "1",
         "1000",
         "23369",
         "1971-12-31",
         "1971.0",
         "INDL",
         "C",
         "D",
         "STD",
         "AE.2",
         "A & E PLASTIK PAK INC",
         "USD",
         "I",
         "3089"
        ],
        [
         "2",
         "1000",
         "23369",
         "1972-12-31",
         "1972.0",
         "INDL",
         "C",
         "D",
         "STD",
         "AE.2",
         "A & E PLASTIK PAK INC",
         "USD",
         "I",
         "3089"
        ],
        [
         "3",
         "1000",
         "23369",
         "1973-12-31",
         "1973.0",
         "INDL",
         "C",
         "D",
         "STD",
         "AE.2",
         "A & E PLASTIK PAK INC",
         "USD",
         "I",
         "3089"
        ],
        [
         "4",
         "1000",
         "23369",
         "1974-12-31",
         "1974.0",
         "INDL",
         "C",
         "D",
         "STD",
         "AE.2",
         "A & E PLASTIK PAK INC",
         "USD",
         "I",
         "3089"
        ],
        [
         "5",
         "1000",
         "23369",
         "1975-12-31",
         "1975.0",
         "INDL",
         "C",
         "D",
         "STD",
         "AE.2",
         "A & E PLASTIK PAK INC",
         "USD",
         "I",
         "3089"
        ],
        [
         "6",
         "1000",
         "23369",
         "1976-12-31",
         "1976.0",
         "INDL",
         "C",
         "D",
         "STD",
         "AE.2",
         "A & E PLASTIK PAK INC",
         "USD",
         "I",
         "3089"
        ],
        [
         "7",
         "1000",
         "23369",
         "1977-12-31",
         "1977.0",
         "INDL",
         "C",
         "D",
         "STD",
         "AE.2",
         "A & E PLASTIK PAK INC",
         "USD",
         "I",
         "3089"
        ],
        [
         "8",
         "1001",
         "6398",
         "1983-12-31",
         "1983.0",
         "INDL",
         "C",
         "D",
         "STD",
         "AMFD.",
         "A & M FOOD SERVICES INC",
         "USD",
         "I",
         "5812"
        ],
        [
         "9",
         "1001",
         "6398",
         "1984-12-31",
         "1984.0",
         "INDL",
         "C",
         "D",
         "STD",
         "AMFD.",
         "A & M FOOD SERVICES INC",
         "USD",
         "I",
         "5812"
        ],
        [
         "10",
         "1001",
         "6398",
         "1985-12-31",
         "1985.0",
         "INDL",
         "C",
         "D",
         "STD",
         "AMFD.",
         "A & M FOOD SERVICES INC",
         "USD",
         "I",
         "5812"
        ],
        [
         "11",
         "1002",
         "22159",
         "1972-12-31",
         "1972.0",
         "INDL",
         "C",
         "D",
         "STD",
         "AAIC.1",
         "AAI CORP",
         "USD",
         "I",
         "3825"
        ],
        [
         "12",
         "1003",
         "6672",
         "1983-12-31",
         "1983.0",
         "INDL",
         "C",
         "D",
         "STD",
         "ANTQ",
         "A.A. IMPORTING CO INC",
         "USD",
         "I",
         "5712"
        ],
        [
         "13",
         "1003",
         "6672",
         "1984-12-31",
         "1984.0",
         "INDL",
         "C",
         "D",
         "STD",
         "ANTQ",
         "A.A. IMPORTING CO INC",
         "USD",
         "I",
         "5712"
        ],
        [
         "14",
         "1003",
         "6672",
         "1986-01-31",
         "1985.0",
         "INDL",
         "C",
         "D",
         "STD",
         "ANTQ",
         "A.A. IMPORTING CO INC",
         "USD",
         "I",
         "5712"
        ],
        [
         "15",
         "1003",
         "6672",
         "1987-01-31",
         "1986.0",
         "INDL",
         "C",
         "D",
         "STD",
         "ANTQ",
         "A.A. IMPORTING CO INC",
         "USD",
         "I",
         "5712"
        ],
        [
         "16",
         "1003",
         "6672",
         "1988-01-31",
         "1987.0",
         "INDL",
         "C",
         "D",
         "STD",
         "ANTQ",
         "A.A. IMPORTING CO INC",
         "USD",
         "I",
         "5712"
        ],
        [
         "17",
         "1003",
         "6672",
         "1989-01-31",
         "1988.0",
         "INDL",
         "C",
         "D",
         "STD",
         "ANTQ",
         "A.A. IMPORTING CO INC",
         "USD",
         "I",
         "5712"
        ],
        [
         "18",
         "1004",
         "20000",
         "1972-05-31",
         "1971.0",
         "INDL",
         "C",
         "D",
         "STD",
         "AIR",
         "AAR CORP",
         "USD",
         "A",
         "5080"
        ],
        [
         "19",
         "1004",
         "20000",
         "1973-05-31",
         "1972.0",
         "INDL",
         "C",
         "D",
         "STD",
         "AIR",
         "AAR CORP",
         "USD",
         "A",
         "5080"
        ],
        [
         "20",
         "1004",
         "20000",
         "1974-05-31",
         "1973.0",
         "INDL",
         "C",
         "D",
         "STD",
         "AIR",
         "AAR CORP",
         "USD",
         "A",
         "5080"
        ],
        [
         "21",
         "1004",
         "20000",
         "1975-05-31",
         "1974.0",
         "INDL",
         "C",
         "D",
         "STD",
         "AIR",
         "AAR CORP",
         "USD",
         "A",
         "5080"
        ],
        [
         "22",
         "1004",
         "20000",
         "1976-05-31",
         "1975.0",
         "INDL",
         "C",
         "D",
         "STD",
         "AIR",
         "AAR CORP",
         "USD",
         "A",
         "5080"
        ],
        [
         "23",
         "1004",
         "20000",
         "1977-05-31",
         "1976.0",
         "INDL",
         "C",
         "D",
         "STD",
         "AIR",
         "AAR CORP",
         "USD",
         "A",
         "5080"
        ],
        [
         "24",
         "1004",
         "20000",
         "1978-05-31",
         "1977.0",
         "INDL",
         "C",
         "D",
         "STD",
         "AIR",
         "AAR CORP",
         "USD",
         "A",
         "5080"
        ],
        [
         "25",
         "1004",
         "20000",
         "1979-05-31",
         "1978.0",
         "INDL",
         "C",
         "D",
         "STD",
         "AIR",
         "AAR CORP",
         "USD",
         "A",
         "5080"
        ],
        [
         "26",
         "1004",
         "20000",
         "1980-05-31",
         "1979.0",
         "INDL",
         "C",
         "D",
         "STD",
         "AIR",
         "AAR CORP",
         "USD",
         "A",
         "5080"
        ],
        [
         "27",
         "1004",
         "20000",
         "1981-05-31",
         "1980.0",
         "INDL",
         "C",
         "D",
         "STD",
         "AIR",
         "AAR CORP",
         "USD",
         "A",
         "5080"
        ],
        [
         "28",
         "1004",
         "20000",
         "1982-05-31",
         "1981.0",
         "INDL",
         "C",
         "D",
         "STD",
         "AIR",
         "AAR CORP",
         "USD",
         "A",
         "5080"
        ],
        [
         "29",
         "1004",
         "20000",
         "1983-05-31",
         "1982.0",
         "INDL",
         "C",
         "D",
         "STD",
         "AIR",
         "AAR CORP",
         "USD",
         "A",
         "5080"
        ],
        [
         "30",
         "1004",
         "20000",
         "1984-05-31",
         "1983.0",
         "INDL",
         "C",
         "D",
         "STD",
         "AIR",
         "AAR CORP",
         "USD",
         "A",
         "5080"
        ],
        [
         "31",
         "1004",
         "20000",
         "1985-05-31",
         "1984.0",
         "INDL",
         "C",
         "D",
         "STD",
         "AIR",
         "AAR CORP",
         "USD",
         "A",
         "5080"
        ],
        [
         "32",
         "1004",
         "20000",
         "1986-05-31",
         "1985.0",
         "INDL",
         "C",
         "D",
         "STD",
         "AIR",
         "AAR CORP",
         "USD",
         "A",
         "5080"
        ],
        [
         "33",
         "1004",
         "20000",
         "1987-05-31",
         "1986.0",
         "INDL",
         "C",
         "D",
         "STD",
         "AIR",
         "AAR CORP",
         "USD",
         "A",
         "5080"
        ],
        [
         "34",
         "1004",
         "20000",
         "1988-05-31",
         "1987.0",
         "INDL",
         "C",
         "D",
         "STD",
         "AIR",
         "AAR CORP",
         "USD",
         "A",
         "5080"
        ],
        [
         "35",
         "1004",
         "20000",
         "1989-05-31",
         "1988.0",
         "INDL",
         "C",
         "D",
         "STD",
         "AIR",
         "AAR CORP",
         "USD",
         "A",
         "5080"
        ],
        [
         "36",
         "1004",
         "20000",
         "1990-05-31",
         "1989.0",
         "INDL",
         "C",
         "D",
         "STD",
         "AIR",
         "AAR CORP",
         "USD",
         "A",
         "5080"
        ],
        [
         "37",
         "1004",
         "20000",
         "1991-05-31",
         "1990.0",
         "INDL",
         "C",
         "D",
         "STD",
         "AIR",
         "AAR CORP",
         "USD",
         "A",
         "5080"
        ],
        [
         "38",
         "1004",
         "20000",
         "1992-05-31",
         "1991.0",
         "INDL",
         "C",
         "D",
         "STD",
         "AIR",
         "AAR CORP",
         "USD",
         "A",
         "5080"
        ],
        [
         "39",
         "1004",
         "20000",
         "1993-05-31",
         "1992.0",
         "INDL",
         "C",
         "D",
         "STD",
         "AIR",
         "AAR CORP",
         "USD",
         "A",
         "5080"
        ],
        [
         "40",
         "1004",
         "20000",
         "1994-05-31",
         "1993.0",
         "INDL",
         "C",
         "D",
         "STD",
         "AIR",
         "AAR CORP",
         "USD",
         "A",
         "5080"
        ],
        [
         "41",
         "1004",
         "20000",
         "1995-05-31",
         "1994.0",
         "INDL",
         "C",
         "D",
         "STD",
         "AIR",
         "AAR CORP",
         "USD",
         "A",
         "5080"
        ],
        [
         "42",
         "1004",
         "20000",
         "1996-05-31",
         "1995.0",
         "INDL",
         "C",
         "D",
         "STD",
         "AIR",
         "AAR CORP",
         "USD",
         "A",
         "5080"
        ],
        [
         "43",
         "1004",
         "20000",
         "1997-05-31",
         "1996.0",
         "INDL",
         "C",
         "D",
         "STD",
         "AIR",
         "AAR CORP",
         "USD",
         "A",
         "5080"
        ],
        [
         "44",
         "1004",
         "20000",
         "1998-05-31",
         "1997.0",
         "INDL",
         "C",
         "D",
         "STD",
         "AIR",
         "AAR CORP",
         "USD",
         "A",
         "5080"
        ],
        [
         "45",
         "1004",
         "20000",
         "1999-05-31",
         "1998.0",
         "INDL",
         "C",
         "D",
         "STD",
         "AIR",
         "AAR CORP",
         "USD",
         "A",
         "5080"
        ],
        [
         "46",
         "1004",
         "20000",
         "2000-05-31",
         "1999.0",
         "INDL",
         "C",
         "D",
         "STD",
         "AIR",
         "AAR CORP",
         "USD",
         "A",
         "5080"
        ],
        [
         "47",
         "1004",
         "20000",
         "2001-05-31",
         "2000.0",
         "INDL",
         "C",
         "D",
         "STD",
         "AIR",
         "AAR CORP",
         "USD",
         "A",
         "5080"
        ],
        [
         "48",
         "1004",
         "20000",
         "2002-05-31",
         "2001.0",
         "INDL",
         "C",
         "D",
         "STD",
         "AIR",
         "AAR CORP",
         "USD",
         "A",
         "5080"
        ],
        [
         "49",
         "1004",
         "20000",
         "2003-05-31",
         "2002.0",
         "INDL",
         "C",
         "D",
         "STD",
         "AIR",
         "AAR CORP",
         "USD",
         "A",
         "5080"
        ]
       ],
       "shape": {
        "columns": 13,
        "rows": 263895
       }
      },
      "text/html": [
       "<div>\n",
       "<style scoped>\n",
       "    .dataframe tbody tr th:only-of-type {\n",
       "        vertical-align: middle;\n",
       "    }\n",
       "\n",
       "    .dataframe tbody tr th {\n",
       "        vertical-align: top;\n",
       "    }\n",
       "\n",
       "    .dataframe thead th {\n",
       "        text-align: right;\n",
       "    }\n",
       "</style>\n",
       "<table border=\"1\" class=\"dataframe\">\n",
       "  <thead>\n",
       "    <tr style=\"text-align: right;\">\n",
       "      <th></th>\n",
       "      <th>gvkey</th>\n",
       "      <th>LPERMCO</th>\n",
       "      <th>datadate</th>\n",
       "      <th>fyear</th>\n",
       "      <th>indfmt</th>\n",
       "      <th>consol</th>\n",
       "      <th>popsrc</th>\n",
       "      <th>datafmt</th>\n",
       "      <th>tic</th>\n",
       "      <th>conm</th>\n",
       "      <th>curcd</th>\n",
       "      <th>costat</th>\n",
       "      <th>sic</th>\n",
       "    </tr>\n",
       "  </thead>\n",
       "  <tbody>\n",
       "    <tr>\n",
       "      <th>0</th>\n",
       "      <td>1000</td>\n",
       "      <td>23369</td>\n",
       "      <td>1970-12-31</td>\n",
       "      <td>1970.0</td>\n",
       "      <td>INDL</td>\n",
       "      <td>C</td>\n",
       "      <td>D</td>\n",
       "      <td>STD</td>\n",
       "      <td>AE.2</td>\n",
       "      <td>A &amp; E PLASTIK PAK INC</td>\n",
       "      <td>USD</td>\n",
       "      <td>I</td>\n",
       "      <td>3089</td>\n",
       "    </tr>\n",
       "    <tr>\n",
       "      <th>1</th>\n",
       "      <td>1000</td>\n",
       "      <td>23369</td>\n",
       "      <td>1971-12-31</td>\n",
       "      <td>1971.0</td>\n",
       "      <td>INDL</td>\n",
       "      <td>C</td>\n",
       "      <td>D</td>\n",
       "      <td>STD</td>\n",
       "      <td>AE.2</td>\n",
       "      <td>A &amp; E PLASTIK PAK INC</td>\n",
       "      <td>USD</td>\n",
       "      <td>I</td>\n",
       "      <td>3089</td>\n",
       "    </tr>\n",
       "    <tr>\n",
       "      <th>2</th>\n",
       "      <td>1000</td>\n",
       "      <td>23369</td>\n",
       "      <td>1972-12-31</td>\n",
       "      <td>1972.0</td>\n",
       "      <td>INDL</td>\n",
       "      <td>C</td>\n",
       "      <td>D</td>\n",
       "      <td>STD</td>\n",
       "      <td>AE.2</td>\n",
       "      <td>A &amp; E PLASTIK PAK INC</td>\n",
       "      <td>USD</td>\n",
       "      <td>I</td>\n",
       "      <td>3089</td>\n",
       "    </tr>\n",
       "    <tr>\n",
       "      <th>3</th>\n",
       "      <td>1000</td>\n",
       "      <td>23369</td>\n",
       "      <td>1973-12-31</td>\n",
       "      <td>1973.0</td>\n",
       "      <td>INDL</td>\n",
       "      <td>C</td>\n",
       "      <td>D</td>\n",
       "      <td>STD</td>\n",
       "      <td>AE.2</td>\n",
       "      <td>A &amp; E PLASTIK PAK INC</td>\n",
       "      <td>USD</td>\n",
       "      <td>I</td>\n",
       "      <td>3089</td>\n",
       "    </tr>\n",
       "    <tr>\n",
       "      <th>4</th>\n",
       "      <td>1000</td>\n",
       "      <td>23369</td>\n",
       "      <td>1974-12-31</td>\n",
       "      <td>1974.0</td>\n",
       "      <td>INDL</td>\n",
       "      <td>C</td>\n",
       "      <td>D</td>\n",
       "      <td>STD</td>\n",
       "      <td>AE.2</td>\n",
       "      <td>A &amp; E PLASTIK PAK INC</td>\n",
       "      <td>USD</td>\n",
       "      <td>I</td>\n",
       "      <td>3089</td>\n",
       "    </tr>\n",
       "    <tr>\n",
       "      <th>...</th>\n",
       "      <td>...</td>\n",
       "      <td>...</td>\n",
       "      <td>...</td>\n",
       "      <td>...</td>\n",
       "      <td>...</td>\n",
       "      <td>...</td>\n",
       "      <td>...</td>\n",
       "      <td>...</td>\n",
       "      <td>...</td>\n",
       "      <td>...</td>\n",
       "      <td>...</td>\n",
       "      <td>...</td>\n",
       "      <td>...</td>\n",
       "    </tr>\n",
       "    <tr>\n",
       "      <th>320693</th>\n",
       "      <td>296318</td>\n",
       "      <td>53885</td>\n",
       "      <td>2012-12-31</td>\n",
       "      <td>2012.0</td>\n",
       "      <td>INDL</td>\n",
       "      <td>C</td>\n",
       "      <td>D</td>\n",
       "      <td>STD</td>\n",
       "      <td>ORIG</td>\n",
       "      <td>OCEAN RIG UDW INC</td>\n",
       "      <td>USD</td>\n",
       "      <td>I</td>\n",
       "      <td>1381</td>\n",
       "    </tr>\n",
       "    <tr>\n",
       "      <th>320711</th>\n",
       "      <td>296753</td>\n",
       "      <td>53991</td>\n",
       "      <td>2012-12-31</td>\n",
       "      <td>2012.0</td>\n",
       "      <td>INDL</td>\n",
       "      <td>C</td>\n",
       "      <td>D</td>\n",
       "      <td>STD</td>\n",
       "      <td>AVGTF</td>\n",
       "      <td>AVG TECHNOLOGIES NV</td>\n",
       "      <td>USD</td>\n",
       "      <td>I</td>\n",
       "      <td>7372</td>\n",
       "    </tr>\n",
       "    <tr>\n",
       "      <th>320724</th>\n",
       "      <td>296885</td>\n",
       "      <td>54281</td>\n",
       "      <td>2012-12-31</td>\n",
       "      <td>2012.0</td>\n",
       "      <td>INDL</td>\n",
       "      <td>C</td>\n",
       "      <td>D</td>\n",
       "      <td>STD</td>\n",
       "      <td>RDHL</td>\n",
       "      <td>REDHILL BIOPHARMA LTD</td>\n",
       "      <td>USD</td>\n",
       "      <td>A</td>\n",
       "      <td>2836</td>\n",
       "    </tr>\n",
       "    <tr>\n",
       "      <th>320747</th>\n",
       "      <td>297209</td>\n",
       "      <td>53928</td>\n",
       "      <td>2011-12-31</td>\n",
       "      <td>2011.0</td>\n",
       "      <td>INDL</td>\n",
       "      <td>C</td>\n",
       "      <td>D</td>\n",
       "      <td>STD</td>\n",
       "      <td>PACDQ</td>\n",
       "      <td>PACIFIC DRILLING SA</td>\n",
       "      <td>USD</td>\n",
       "      <td>A</td>\n",
       "      <td>1381</td>\n",
       "    </tr>\n",
       "    <tr>\n",
       "      <th>320748</th>\n",
       "      <td>297209</td>\n",
       "      <td>53928</td>\n",
       "      <td>2012-12-31</td>\n",
       "      <td>2012.0</td>\n",
       "      <td>INDL</td>\n",
       "      <td>C</td>\n",
       "      <td>D</td>\n",
       "      <td>STD</td>\n",
       "      <td>PACDQ</td>\n",
       "      <td>PACIFIC DRILLING SA</td>\n",
       "      <td>USD</td>\n",
       "      <td>A</td>\n",
       "      <td>1381</td>\n",
       "    </tr>\n",
       "  </tbody>\n",
       "</table>\n",
       "<p>263895 rows × 13 columns</p>\n",
       "</div>"
      ],
      "text/plain": [
       "         gvkey  LPERMCO    datadate   fyear indfmt consol popsrc datafmt  \\\n",
       "0         1000    23369  1970-12-31  1970.0   INDL      C      D     STD   \n",
       "1         1000    23369  1971-12-31  1971.0   INDL      C      D     STD   \n",
       "2         1000    23369  1972-12-31  1972.0   INDL      C      D     STD   \n",
       "3         1000    23369  1973-12-31  1973.0   INDL      C      D     STD   \n",
       "4         1000    23369  1974-12-31  1974.0   INDL      C      D     STD   \n",
       "...        ...      ...         ...     ...    ...    ...    ...     ...   \n",
       "320693  296318    53885  2012-12-31  2012.0   INDL      C      D     STD   \n",
       "320711  296753    53991  2012-12-31  2012.0   INDL      C      D     STD   \n",
       "320724  296885    54281  2012-12-31  2012.0   INDL      C      D     STD   \n",
       "320747  297209    53928  2011-12-31  2011.0   INDL      C      D     STD   \n",
       "320748  297209    53928  2012-12-31  2012.0   INDL      C      D     STD   \n",
       "\n",
       "          tic                   conm curcd costat   sic  \n",
       "0        AE.2  A & E PLASTIK PAK INC   USD      I  3089  \n",
       "1        AE.2  A & E PLASTIK PAK INC   USD      I  3089  \n",
       "2        AE.2  A & E PLASTIK PAK INC   USD      I  3089  \n",
       "3        AE.2  A & E PLASTIK PAK INC   USD      I  3089  \n",
       "4        AE.2  A & E PLASTIK PAK INC   USD      I  3089  \n",
       "...       ...                    ...   ...    ...   ...  \n",
       "320693   ORIG      OCEAN RIG UDW INC   USD      I  1381  \n",
       "320711  AVGTF    AVG TECHNOLOGIES NV   USD      I  7372  \n",
       "320724   RDHL  REDHILL BIOPHARMA LTD   USD      A  2836  \n",
       "320747  PACDQ    PACIFIC DRILLING SA   USD      A  1381  \n",
       "320748  PACDQ    PACIFIC DRILLING SA   USD      A  1381  \n",
       "\n",
       "[263895 rows x 13 columns]"
      ]
     },
     "execution_count": 3,
     "metadata": {},
     "output_type": "execute_result"
    }
   ],
   "source": [
    "link_hist"
   ]
  },
  {
   "cell_type": "markdown",
   "id": "151d0aa64ed934f2",
   "metadata": {
    "collapsed": false
   },
   "source": [
    "As mentioned above, the next step is now to use the linkhist table to determine what the other comparison groups are. We use SIC codes to determine broker dealers and banks, and we make sure to exclude any firms that are already in the primary dealer group so we do not have duplicates. Below is the reference table for broker dealers, which had explicit SIC codes mentioned in the paper - banks did not have explicit SIC codes mentioned and required research."
   ]
  },
  {
   "cell_type": "code",
   "execution_count": 4,
   "id": "48600227e999d933",
   "metadata": {
    "ExecuteTime": {
     "end_time": "2024-03-10T21:11:20.484485200Z",
     "start_time": "2024-03-10T21:11:20.393178400Z"
    },
    "collapsed": false
   },
   "outputs": [
    {
     "data": {
      "application/vnd.microsoft.datawrangler.viewer.v0+json": {
       "columns": [
        {
         "name": "index",
         "rawType": "int64",
         "type": "integer"
        },
        {
         "name": "gvkey",
         "rawType": "int64",
         "type": "integer"
        },
        {
         "name": "conm",
         "rawType": "object",
         "type": "string"
        },
        {
         "name": "sic",
         "rawType": "int64",
         "type": "integer"
        },
        {
         "name": "Start Date",
         "rawType": "object",
         "type": "string"
        },
        {
         "name": "End Date",
         "rawType": "object",
         "type": "string"
        }
       ],
       "conversionMethod": "pd.DataFrame",
       "ref": "e6e0ded4-e791-44ba-8519-8a85db8c9a64",
       "rows": [
        [
         "0",
         "3243",
         "CITIGROUP INC",
         "6199",
         "1960-05-19",
         "2000-04-17"
        ],
        [
         "27",
         "2029",
         "BANKERS TRUST CORP",
         "6020",
         "1960-05-19",
         "1989-07-07"
        ],
        [
         "57",
         "15197",
         "CHEMICAL FINANCIAL CORP",
         "6020",
         "1960-05-19",
         "1965-06-29"
        ],
        [
         "82",
         "3689",
         "DISCOUNT CORP NY/DEL",
         "6211",
         "1960-05-19",
         "1989-03-31"
        ],
        [
         "102",
         "144496",
         "UBS GROUP AG",
         "6282",
         "1960-05-19",
         "1988-12-14"
        ],
        [
         "115",
         "4689",
         "FIRST CHICAGO CORP",
         "6020",
         "1960-05-19",
         "1969-12-31"
        ],
        [
         "139",
         "6186",
         "IRVING BANK CORP",
         "6020",
         "1960-05-19",
         "1993-08-10"
        ],
        [
         "159",
         "2968",
         "JPMORGAN CHASE & CO",
         "6020",
         "1960-05-19",
         "1990-03-28"
        ],
        [
         "203",
         "7267",
         "MERRILL LYNCH & CO INC",
         "6211",
         "1960-05-19",
         "1989-07-31"
        ],
        [
         "241",
         "6657",
         "SALOMON BROTHERS FUND INC",
         "6726",
         "1960-05-19",
         "2001-04-30"
        ],
        [
         "265",
         "15706",
         "TORONTO DOMINION BANK",
         "6020",
         "1960-05-19",
         "1965-11-24"
        ],
        [
         "282",
         "2612",
         "CALIFORNIA FED BANCORP INC",
         "6035",
         "1960-05-19",
         "2009-02-11"
        ],
        [
         "295",
         "15362",
         "WESTPAC BANKING CORP",
         "6020",
         "1960-05-19",
         "1998-08-31"
        ],
        [
         "319",
         "30219",
         "BLYTH INC",
         "3990",
         "1960-05-19",
         "1993-10-11"
        ],
        [
         "338",
         "4710",
         "FIRST INTERSTATE BNCP",
         "6020",
         "1960-05-19",
         "1987-02-03"
        ],
        [
         "372",
         "5491",
         "HARRIS BANKCORP INC",
         "6020",
         "1961-06-15",
         "1989-04-13"
        ],
        [
         "384",
         "9577",
         "SECURITY PACIFIC CORP",
         "6020",
         "1961-06-15",
         "1980-08-27"
        ],
        [
         "404",
         "2943",
         "CHASE MANHATTAN CORP  -OLD",
         "6020",
         "1962-04-16",
         "1970-01-14"
        ],
        [
         "434",
         "7647",
         "BANK OF AMERICA CORP",
         "6020",
         "1964-07-31",
         "1986-10-31"
        ],
        [
         "475",
         "25296",
         "NUVEEN INVESTMENTS INC",
         "6282",
         "1965-07-15",
         "1988-08-31"
        ],
        [
         "490",
         "8299",
         "PAINE WEBBER GROUP",
         "6211",
         "1968-12-12",
         "1973-07-18"
        ],
        [
         "518",
         "30128",
         "LEHMAN BROTHERS HOLDINGS INC",
         "6211",
         "1970-07-15",
         "1987-06-30"
        ],
        [
         "532",
         "7982",
         "NORTHERN TRUST CORP",
         "6020",
         "1971-11-17",
         "1994-04-15"
        ],
        [
         "573",
         "4037",
         "DONALDSON LUFKIN & JENRETTE",
         "6211",
         "1971-11-17",
         "1984-09-10"
        ],
        [
         "585",
         "114628",
         "GOLDMAN SACHS GROUP INC",
         "6211",
         "1971-11-18",
         "1980-08-27"
        ],
        [
         "599",
         "7032",
         "MARINE MIDLAND BANKS",
         "6020",
         "1972-06-22",
         "1973-06-27"
        ],
        [
         "626",
         "143356",
         "PRUDENTIAL FINANCIAL INC",
         "6311",
         "1973-02-22",
         "1974-01-29"
        ],
        [
         "638",
         "3823",
         "DEAN WITTER REYNOLDS ORG INC",
         "6211",
         "1973-08-08",
         "1986-05-29"
        ],
        [
         "648",
         "5793",
         "HUTTON (E.F.) GROUP",
         "6211",
         "1974-03-06",
         "2000-12-31"
        ],
        [
         "664",
         "12124",
         "MORGAN STANLEY",
         "6211",
         "1974-03-07",
         "1980-08-27"
        ],
        [
         "691",
         "15613",
         "NOMURA HOLDINGS INC",
         "6211",
         "1974-12-05",
         "1979-12-31"
        ],
        [
         "703",
         "4684",
         "FIRST BOSTON INC",
         "6211",
         "1975-10-29",
         "1991-02-24"
        ],
        [
         "719",
         "7003",
         "MANUFACTURERS HANOVER CORP",
         "6020",
         "1976-02-26",
         "1978-04-18"
        ],
        [
         "741",
         "16951",
         "GREENWICH FINANCIAL CORP",
         "6035",
         "1976-06-17",
         "1978-05-15"
        ],
        [
         "747",
         "12223",
         "ROTHSCHILD (LF) HOLDINGS INC",
         "6211",
         "1976-11-25",
         "1987-12-31"
        ],
        [
         "750",
         "28838",
         "CREDIT SUISSE GROUP",
         "6211",
         "1976-11-25",
         "2000-12-04"
        ],
        [
         "762",
         "15929",
         "LLOYDS BANKING GROUP PLC",
         "6020",
         "1977-11-02",
         "1998-04-30"
        ],
        [
         "774",
         "15634",
         "NATWEST GROUP PLC",
         "6020",
         "1979-02-07",
         "1994-12-30"
        ],
        [
         "780",
         "1395",
         "AMERICAN BANK NOTE CO",
         "2750",
         "1979-08-22",
         "1993-08-01"
        ],
        [
         "790",
         "2019",
         "BANK OF NEW YORK MELLON CORP",
         "6020",
         "1980-02-13",
         "1989-12-27"
        ],
        [
         "834",
         "12673",
         "BARCLAYS PLC",
         "6020",
         "1980-11-19",
         "1987-05-07"
        ],
        [
         "861",
         "248136",
         "MIZUHO FINANCIAL GROUP INC",
         "6020",
         "1981-06-10",
         "2008-10-01"
        ],
        [
         "868",
         "15576",
         "DEUTSCHE BANK AG",
         "6020",
         "1983-03-21",
         "1985-11-17"
        ],
        [
         "880",
         "11687",
         "ZIONS BANCORPORATION NA",
         "6020",
         "1983-06-07",
         "1983-08-05"
        ],
        [
         "919",
         "15509",
         "HSBC HLDGS PLC",
         "6020",
         "1983-08-31",
         "1988-07-29"
        ],
        [
         "933",
         "15580",
         "BANK OF MONTREAL",
         "6020",
         "1984-02-08",
         "1984-07-26"
        ],
        [
         "948",
         "15581",
         "CANADIAN IMPERIAL BANK",
         "6020",
         "1984-07-31",
         "2009-04-01"
        ],
        [
         "963",
         "61840",
         "CREDIT SUISSE USA INC",
         "6211",
         "1986-11-03",
         "1988-06-17"
        ],
        [
         "968",
         "15577",
         "DRESDNER BANK AG",
         "6020",
         "1986-12-11",
         "1987-05-15"
        ],
        [
         "980",
         "2014",
         "BANKBOSTON CORP",
         "6020",
         "1986-12-11",
         "2007-11-30"
        ]
       ],
       "shape": {
        "columns": 5,
        "rows": 64
       }
      },
      "text/html": [
       "<div>\n",
       "<style scoped>\n",
       "    .dataframe tbody tr th:only-of-type {\n",
       "        vertical-align: middle;\n",
       "    }\n",
       "\n",
       "    .dataframe tbody tr th {\n",
       "        vertical-align: top;\n",
       "    }\n",
       "\n",
       "    .dataframe thead th {\n",
       "        text-align: right;\n",
       "    }\n",
       "</style>\n",
       "<table border=\"1\" class=\"dataframe\">\n",
       "  <thead>\n",
       "    <tr style=\"text-align: right;\">\n",
       "      <th></th>\n",
       "      <th>gvkey</th>\n",
       "      <th>conm</th>\n",
       "      <th>sic</th>\n",
       "      <th>Start Date</th>\n",
       "      <th>End Date</th>\n",
       "    </tr>\n",
       "  </thead>\n",
       "  <tbody>\n",
       "    <tr>\n",
       "      <th>0</th>\n",
       "      <td>3243</td>\n",
       "      <td>CITIGROUP INC</td>\n",
       "      <td>6199</td>\n",
       "      <td>1960-05-19</td>\n",
       "      <td>2000-04-17</td>\n",
       "    </tr>\n",
       "    <tr>\n",
       "      <th>27</th>\n",
       "      <td>2029</td>\n",
       "      <td>BANKERS TRUST CORP</td>\n",
       "      <td>6020</td>\n",
       "      <td>1960-05-19</td>\n",
       "      <td>1989-07-07</td>\n",
       "    </tr>\n",
       "    <tr>\n",
       "      <th>57</th>\n",
       "      <td>15197</td>\n",
       "      <td>CHEMICAL FINANCIAL CORP</td>\n",
       "      <td>6020</td>\n",
       "      <td>1960-05-19</td>\n",
       "      <td>1965-06-29</td>\n",
       "    </tr>\n",
       "    <tr>\n",
       "      <th>82</th>\n",
       "      <td>3689</td>\n",
       "      <td>DISCOUNT CORP NY/DEL</td>\n",
       "      <td>6211</td>\n",
       "      <td>1960-05-19</td>\n",
       "      <td>1989-03-31</td>\n",
       "    </tr>\n",
       "    <tr>\n",
       "      <th>102</th>\n",
       "      <td>144496</td>\n",
       "      <td>UBS GROUP AG</td>\n",
       "      <td>6282</td>\n",
       "      <td>1960-05-19</td>\n",
       "      <td>1988-12-14</td>\n",
       "    </tr>\n",
       "    <tr>\n",
       "      <th>...</th>\n",
       "      <td>...</td>\n",
       "      <td>...</td>\n",
       "      <td>...</td>\n",
       "      <td>...</td>\n",
       "      <td>...</td>\n",
       "    </tr>\n",
       "    <tr>\n",
       "      <th>1159</th>\n",
       "      <td>13294</td>\n",
       "      <td>NATL WESTMINSTER BANK</td>\n",
       "      <td>6020</td>\n",
       "      <td>1988-01-01</td>\n",
       "      <td>1990-07-31</td>\n",
       "    </tr>\n",
       "    <tr>\n",
       "      <th>1173</th>\n",
       "      <td>6682</td>\n",
       "      <td>JEFFERIES FINANCIAL GRP INC</td>\n",
       "      <td>6211</td>\n",
       "      <td>1988-06-20</td>\n",
       "      <td>1993-12-31</td>\n",
       "    </tr>\n",
       "    <tr>\n",
       "      <th>1226</th>\n",
       "      <td>5047</td>\n",
       "      <td>GENERAL ELECTRIC CO</td>\n",
       "      <td>9997</td>\n",
       "      <td>1988-06-24</td>\n",
       "      <td>1997-09-02</td>\n",
       "    </tr>\n",
       "    <tr>\n",
       "      <th>1279</th>\n",
       "      <td>1414</td>\n",
       "      <td>PRIMERICA INC</td>\n",
       "      <td>6311</td>\n",
       "      <td>1988-06-24</td>\n",
       "      <td>1995-07-26</td>\n",
       "    </tr>\n",
       "    <tr>\n",
       "      <th>1310</th>\n",
       "      <td>8007</td>\n",
       "      <td>WELLS FARGO &amp; CO</td>\n",
       "      <td>6020</td>\n",
       "      <td>1988-06-24</td>\n",
       "      <td>1990-11-08</td>\n",
       "    </tr>\n",
       "  </tbody>\n",
       "</table>\n",
       "<p>64 rows × 5 columns</p>\n",
       "</div>"
      ],
      "text/plain": [
       "       gvkey                         conm   sic  Start Date    End Date\n",
       "0       3243                CITIGROUP INC  6199  1960-05-19  2000-04-17\n",
       "27      2029           BANKERS TRUST CORP  6020  1960-05-19  1989-07-07\n",
       "57     15197      CHEMICAL FINANCIAL CORP  6020  1960-05-19  1965-06-29\n",
       "82      3689         DISCOUNT CORP NY/DEL  6211  1960-05-19  1989-03-31\n",
       "102   144496                 UBS GROUP AG  6282  1960-05-19  1988-12-14\n",
       "...      ...                          ...   ...         ...         ...\n",
       "1159   13294        NATL WESTMINSTER BANK  6020  1988-01-01  1990-07-31\n",
       "1173    6682  JEFFERIES FINANCIAL GRP INC  6211  1988-06-20  1993-12-31\n",
       "1226    5047          GENERAL ELECTRIC CO  9997  1988-06-24  1997-09-02\n",
       "1279    1414                PRIMERICA INC  6311  1988-06-24  1995-07-26\n",
       "1310    8007             WELLS FARGO & CO  6020  1988-06-24  1990-11-08\n",
       "\n",
       "[64 rows x 5 columns]"
      ]
     },
     "execution_count": 4,
     "metadata": {},
     "output_type": "execute_result"
    }
   ],
   "source": [
    "comparison_group_link_dict = Table02Prep.create_comparison_group_linktables(link_hist, merged_main)\n",
    "comparison_group_link_dict['PD']"
   ]
  },
  {
   "cell_type": "code",
   "execution_count": 5,
   "id": "439adfe8",
   "metadata": {},
   "outputs": [
    {
     "data": {
      "text/plain": [
       "dict_keys(['BD', 'Banks', 'Cmpust.', 'PD'])"
      ]
     },
     "execution_count": 5,
     "metadata": {},
     "output_type": "execute_result"
    }
   ],
   "source": [
    "comparison_group_link_dict.keys()"
   ]
  },
  {
   "cell_type": "markdown",
   "id": "b77e57fb31a1ec53",
   "metadata": {
    "collapsed": false
   },
   "source": [
    "We then used each of the reference tables (primary dealers, broker dealers, banks, all firms in Compustat) and pulled data from the Compustat Fundamentals Quarterly table. The paper mentioned use of monthly data, but there was no apparent monthly table for financial statement data from Compustat. This led to some confusion about how these authors generated their ratios - I am wondering if they computed monthly ratios given what months came out of annual and then took the average."
   ]
  },
  {
   "cell_type": "markdown",
   "id": "3a63590b8ac8469c",
   "metadata": {
    "collapsed": false
   },
   "source": [
    "Below is the dataset for broker dealers. We calculate or directly pull the values we need in our query so we don't need to do it after. It was mentioned in class this was a best practice because it would run on WRDS servers."
   ]
  },
  {
   "cell_type": "code",
   "execution_count": 6,
   "id": "2bd0d6b8",
   "metadata": {},
   "outputs": [
    {
     "data": {
      "application/vnd.microsoft.datawrangler.viewer.v0+json": {
       "columns": [
        {
         "name": "index",
         "rawType": "object",
         "type": "string"
        },
        {
         "name": "gvkey",
         "rawType": "float64",
         "type": "float"
        },
        {
         "name": "sic",
         "rawType": "float64",
         "type": "float"
        }
       ],
       "conversionMethod": "pd.DataFrame",
       "ref": "6477c4e1-289d-42b8-baf3-aa73c94dc21a",
       "rows": [
        [
         "count",
         "64.0",
         "64.0"
        ],
        [
         "mean",
         "24823.1875",
         "6109.953125"
        ],
        [
         "std",
         "46638.38161955526",
         "732.931565910174"
        ],
        [
         "min",
         "1395.0",
         "2750.0"
        ],
        [
         "25%",
         "4687.75",
         "6020.0"
        ],
        [
         "50%",
         "8938.0",
         "6020.0"
        ],
        [
         "75%",
         "15618.0",
         "6211.0"
        ],
        [
         "max",
         "248136.0",
         "9997.0"
        ]
       ],
       "shape": {
        "columns": 2,
        "rows": 8
       }
      },
      "text/html": [
       "<div>\n",
       "<style scoped>\n",
       "    .dataframe tbody tr th:only-of-type {\n",
       "        vertical-align: middle;\n",
       "    }\n",
       "\n",
       "    .dataframe tbody tr th {\n",
       "        vertical-align: top;\n",
       "    }\n",
       "\n",
       "    .dataframe thead th {\n",
       "        text-align: right;\n",
       "    }\n",
       "</style>\n",
       "<table border=\"1\" class=\"dataframe\">\n",
       "  <thead>\n",
       "    <tr style=\"text-align: right;\">\n",
       "      <th></th>\n",
       "      <th>gvkey</th>\n",
       "      <th>sic</th>\n",
       "    </tr>\n",
       "  </thead>\n",
       "  <tbody>\n",
       "    <tr>\n",
       "      <th>count</th>\n",
       "      <td>64.00000</td>\n",
       "      <td>64.000000</td>\n",
       "    </tr>\n",
       "    <tr>\n",
       "      <th>mean</th>\n",
       "      <td>24823.18750</td>\n",
       "      <td>6109.953125</td>\n",
       "    </tr>\n",
       "    <tr>\n",
       "      <th>std</th>\n",
       "      <td>46638.38162</td>\n",
       "      <td>732.931566</td>\n",
       "    </tr>\n",
       "    <tr>\n",
       "      <th>min</th>\n",
       "      <td>1395.00000</td>\n",
       "      <td>2750.000000</td>\n",
       "    </tr>\n",
       "    <tr>\n",
       "      <th>25%</th>\n",
       "      <td>4687.75000</td>\n",
       "      <td>6020.000000</td>\n",
       "    </tr>\n",
       "    <tr>\n",
       "      <th>50%</th>\n",
       "      <td>8938.00000</td>\n",
       "      <td>6020.000000</td>\n",
       "    </tr>\n",
       "    <tr>\n",
       "      <th>75%</th>\n",
       "      <td>15618.00000</td>\n",
       "      <td>6211.000000</td>\n",
       "    </tr>\n",
       "    <tr>\n",
       "      <th>max</th>\n",
       "      <td>248136.00000</td>\n",
       "      <td>9997.000000</td>\n",
       "    </tr>\n",
       "  </tbody>\n",
       "</table>\n",
       "</div>"
      ],
      "text/plain": [
       "              gvkey          sic\n",
       "count      64.00000    64.000000\n",
       "mean    24823.18750  6109.953125\n",
       "std     46638.38162   732.931566\n",
       "min      1395.00000  2750.000000\n",
       "25%      4687.75000  6020.000000\n",
       "50%      8938.00000  6020.000000\n",
       "75%     15618.00000  6211.000000\n",
       "max    248136.00000  9997.000000"
      ]
     },
     "execution_count": 6,
     "metadata": {},
     "output_type": "execute_result"
    }
   ],
   "source": [
    "comparison_group_link_dict['PD'].describe()"
   ]
  },
  {
   "cell_type": "code",
   "execution_count": 7,
   "id": "4876c132be618377",
   "metadata": {
    "ExecuteTime": {
     "end_time": "2024-03-10T21:13:42.162531100Z",
     "start_time": "2024-03-10T21:13:02.559601700Z"
    },
    "collapsed": false
   },
   "outputs": [
    {
     "data": {
      "application/vnd.microsoft.datawrangler.viewer.v0+json": {
       "columns": [
        {
         "name": "index",
         "rawType": "int64",
         "type": "integer"
        },
        {
         "name": "datadate",
         "rawType": "object",
         "type": "unknown"
        },
        {
         "name": "total_assets",
         "rawType": "float64",
         "type": "float"
        },
        {
         "name": "book_debt",
         "rawType": "float64",
         "type": "float"
        },
        {
         "name": "book_equity",
         "rawType": "float64",
         "type": "float"
        },
        {
         "name": "market_equity",
         "rawType": "float64",
         "type": "float"
        },
        {
         "name": "gvkey",
         "rawType": "object",
         "type": "string"
        },
        {
         "name": "conm",
         "rawType": "object",
         "type": "string"
        }
       ],
       "conversionMethod": "pd.DataFrame",
       "ref": "5ca9d15f-1a26-479c-99d5-351eec8044e7",
       "rows": [
        [
         "0",
         "1980-12-31",
         null,
         null,
         null,
         null,
         "001148",
         "ADVEST GROUP INC"
        ],
        [
         "1",
         "1981-03-31",
         null,
         null,
         null,
         null,
         "001148",
         "ADVEST GROUP INC"
        ],
        [
         "2",
         "1981-06-30",
         null,
         null,
         null,
         null,
         "001148",
         "ADVEST GROUP INC"
        ],
        [
         "3",
         "1981-09-30",
         "185.469",
         "165.845",
         "19.624",
         "18.84748192794",
         "001148",
         "ADVEST GROUP INC"
        ],
        [
         "4",
         "1981-12-31",
         "208.419",
         "187.814",
         "20.605",
         "25.6387362624",
         "001148",
         "ADVEST GROUP INC"
        ],
        [
         "5",
         "1982-03-31",
         "233.784",
         "212.81",
         "20.974",
         "23.2537398399",
         "001148",
         "ADVEST GROUP INC"
        ],
        [
         "6",
         "1982-06-30",
         "247.955",
         "226.517",
         "21.438",
         "25.6387362624",
         "001148",
         "ADVEST GROUP INC"
        ],
        [
         "7",
         "1982-09-30",
         "301.576",
         "277.642",
         "23.934",
         "36.3587337803",
         "001148",
         "ADVEST GROUP INC"
        ],
        [
         "8",
         "1982-12-31",
         "326.275",
         "299.595",
         "26.68",
         "49.67323268182",
         "001148",
         "ADVEST GROUP INC"
        ],
        [
         "9",
         "1983-03-31",
         "341.625",
         "313.074",
         "28.551",
         "84.34010678622",
         "001148",
         "ADVEST GROUP INC"
        ],
        [
         "10",
         "1983-06-30",
         "373.93",
         "342.947",
         "30.983",
         "91.4264010008",
         "001148",
         "ADVEST GROUP INC"
        ],
        [
         "11",
         "1983-09-30",
         "393.882",
         "361.365",
         "32.517",
         "79.97099152588",
         "001148",
         "ADVEST GROUP INC"
        ],
        [
         "12",
         "1983-12-31",
         "338.276",
         "305.588",
         "32.688",
         "64.65299122968",
         "001148",
         "ADVEST GROUP INC"
        ],
        [
         "13",
         "1984-03-31",
         "325.22",
         "292.566",
         "32.654",
         "54.8534904358",
         "001148",
         "ADVEST GROUP INC"
        ],
        [
         "14",
         "1984-06-30",
         "359.735",
         "323.883",
         "35.852",
         "54.65223910034",
         "001148",
         "ADVEST GROUP INC"
        ],
        [
         "15",
         "1984-09-30",
         "384.445",
         "348.504",
         "35.941",
         "56.19173719136",
         "001148",
         "ADVEST GROUP INC"
        ],
        [
         "16",
         "1984-12-31",
         "409.283",
         "373.153",
         "36.13",
         "46.95474156354",
         "001148",
         "ADVEST GROUP INC"
        ],
        [
         "17",
         "1985-03-31",
         "418.002",
         "360.793",
         "57.209",
         "77.8049886159",
         "001148",
         "ADVEST GROUP INC"
        ],
        [
         "18",
         "1985-06-30",
         "467.65",
         "408.799",
         "58.851",
         "69.74248925145",
         "001148",
         "ADVEST GROUP INC"
        ],
        [
         "19",
         "1985-09-30",
         "583.61",
         "522.717",
         "60.893",
         "73.99798413154",
         "001148",
         "ADVEST GROUP INC"
        ],
        [
         "20",
         "1985-12-31",
         "798.181",
         "733.953",
         "64.228",
         "116.20636389355",
         "001148",
         "ADVEST GROUP INC"
        ],
        [
         "21",
         "1986-03-31",
         "809.965",
         "741.949",
         "68.016",
         "139.0919809008",
         "001148",
         "ADVEST GROUP INC"
        ],
        [
         "22",
         "1986-06-30",
         "773.732",
         "702.988",
         "70.744",
         "148.672491241",
         "001148",
         "ADVEST GROUP INC"
        ],
        [
         "23",
         "1986-09-30",
         "789.748",
         "716.599",
         "73.149",
         "120.13298770947",
         "001148",
         "ADVEST GROUP INC"
        ],
        [
         "24",
         "1986-12-31",
         "946.043",
         "870.274",
         "75.769",
         "108.82849018228",
         "001148",
         "ADVEST GROUP INC"
        ],
        [
         "25",
         "1987-03-31",
         "979.412",
         "898.636",
         "80.776",
         "123.29123911315",
         "001148",
         "ADVEST GROUP INC"
        ],
        [
         "26",
         "1987-06-30",
         "943.056",
         "859.509",
         "83.547",
         "129.343125",
         "001148",
         "ADVEST GROUP INC"
        ],
        [
         "27",
         "1987-09-30",
         "960.778",
         "874.535",
         "86.243",
         "124.293375",
         "001148",
         "ADVEST GROUP INC"
        ],
        [
         "28",
         "1987-12-31",
         "909.407",
         "824.314",
         "85.093",
         "73.038375",
         "001148",
         "ADVEST GROUP INC"
        ],
        [
         "29",
         "1988-03-31",
         "888.589",
         "801.311",
         "87.278",
         "71.778",
         "001148",
         "ADVEST GROUP INC"
        ],
        [
         "30",
         "1988-06-30",
         "862.066",
         "774.331",
         "87.735",
         "70.49625",
         "001148",
         "ADVEST GROUP INC"
        ],
        [
         "31",
         "1988-09-30",
         "895.191",
         "807.182",
         "88.009",
         "85.87725",
         "001148",
         "ADVEST GROUP INC"
        ],
        [
         "32",
         "1988-12-31",
         "956.074",
         "867.613",
         "88.461",
         "76.905",
         "001148",
         "ADVEST GROUP INC"
        ],
        [
         "33",
         "1989-03-31",
         "916.671",
         "827.203",
         "89.468",
         "73.05975",
         "001148",
         "ADVEST GROUP INC"
        ],
        [
         "34",
         "1989-06-30",
         "901.597",
         "810.429",
         "91.168",
         "71.778",
         "001148",
         "ADVEST GROUP INC"
        ],
        [
         "35",
         "1989-09-30",
         "878.158",
         "786.124",
         "92.034",
         "91.581125",
         "001148",
         "ADVEST GROUP INC"
        ],
        [
         "36",
         "1989-12-31",
         "930.534",
         "839.093",
         "91.441",
         "73.522875",
         "001148",
         "ADVEST GROUP INC"
        ],
        [
         "37",
         "1990-03-31",
         "956.001",
         "869.63",
         "86.371",
         "58.044375",
         "001148",
         "ADVEST GROUP INC"
        ],
        [
         "38",
         "1990-06-30",
         "942.027",
         "856.548",
         "85.479",
         "43.85575",
         "001148",
         "ADVEST GROUP INC"
        ],
        [
         "39",
         "1990-09-30",
         "918.041",
         "838.041",
         "80.0",
         "23.79275",
         "001148",
         "ADVEST GROUP INC"
        ],
        [
         "40",
         "1990-12-31",
         "887.981",
         "811.3",
         "76.681",
         "27.0765",
         "001148",
         "ADVEST GROUP INC"
        ],
        [
         "41",
         "1991-03-31",
         "950.264",
         "872.735",
         "77.529",
         "39.3",
         "001148",
         "ADVEST GROUP INC"
        ],
        [
         "42",
         "1991-06-30",
         "917.293",
         "839.178",
         "78.115",
         "41.616",
         "001148",
         "ADVEST GROUP INC"
        ],
        [
         "43",
         "1991-09-30",
         "905.418",
         "832.24",
         "73.178",
         "34.048",
         "001148",
         "ADVEST GROUP INC"
        ],
        [
         "44",
         "1991-12-31",
         "871.368",
         "795.322",
         "76.046",
         "49.758625",
         "001148",
         "ADVEST GROUP INC"
        ],
        [
         "45",
         "1992-03-31",
         "874.595",
         "796.392",
         "78.203",
         "67.347",
         "001148",
         "ADVEST GROUP INC"
        ],
        [
         "46",
         "1992-06-30",
         "827.039",
         "760.529",
         "66.51",
         "59.66875",
         "001148",
         "ADVEST GROUP INC"
        ],
        [
         "47",
         "1992-09-30",
         "784.635",
         "716.979",
         "67.656",
         "55.0605",
         "001148",
         "ADVEST GROUP INC"
        ],
        [
         "48",
         "1992-12-31",
         "821.144",
         "750.931",
         "70.213",
         "54.690375",
         "001148",
         "ADVEST GROUP INC"
        ],
        [
         "49",
         "1993-03-31",
         "808.77",
         "737.392",
         "71.378",
         "64.806",
         "001148",
         "ADVEST GROUP INC"
        ]
       ],
       "shape": {
        "columns": 7,
        "rows": 5527
       }
      },
      "text/html": [
       "<div>\n",
       "<style scoped>\n",
       "    .dataframe tbody tr th:only-of-type {\n",
       "        vertical-align: middle;\n",
       "    }\n",
       "\n",
       "    .dataframe tbody tr th {\n",
       "        vertical-align: top;\n",
       "    }\n",
       "\n",
       "    .dataframe thead th {\n",
       "        text-align: right;\n",
       "    }\n",
       "</style>\n",
       "<table border=\"1\" class=\"dataframe\">\n",
       "  <thead>\n",
       "    <tr style=\"text-align: right;\">\n",
       "      <th></th>\n",
       "      <th>datadate</th>\n",
       "      <th>total_assets</th>\n",
       "      <th>book_debt</th>\n",
       "      <th>book_equity</th>\n",
       "      <th>market_equity</th>\n",
       "      <th>gvkey</th>\n",
       "      <th>conm</th>\n",
       "    </tr>\n",
       "  </thead>\n",
       "  <tbody>\n",
       "    <tr>\n",
       "      <th>0</th>\n",
       "      <td>1980-12-31</td>\n",
       "      <td>NaN</td>\n",
       "      <td>NaN</td>\n",
       "      <td>NaN</td>\n",
       "      <td>NaN</td>\n",
       "      <td>001148</td>\n",
       "      <td>ADVEST GROUP INC</td>\n",
       "    </tr>\n",
       "    <tr>\n",
       "      <th>1</th>\n",
       "      <td>1981-03-31</td>\n",
       "      <td>NaN</td>\n",
       "      <td>NaN</td>\n",
       "      <td>NaN</td>\n",
       "      <td>NaN</td>\n",
       "      <td>001148</td>\n",
       "      <td>ADVEST GROUP INC</td>\n",
       "    </tr>\n",
       "    <tr>\n",
       "      <th>2</th>\n",
       "      <td>1981-06-30</td>\n",
       "      <td>NaN</td>\n",
       "      <td>NaN</td>\n",
       "      <td>NaN</td>\n",
       "      <td>NaN</td>\n",
       "      <td>001148</td>\n",
       "      <td>ADVEST GROUP INC</td>\n",
       "    </tr>\n",
       "    <tr>\n",
       "      <th>3</th>\n",
       "      <td>1981-09-30</td>\n",
       "      <td>185.469</td>\n",
       "      <td>165.845</td>\n",
       "      <td>19.624</td>\n",
       "      <td>18.847482</td>\n",
       "      <td>001148</td>\n",
       "      <td>ADVEST GROUP INC</td>\n",
       "    </tr>\n",
       "    <tr>\n",
       "      <th>4</th>\n",
       "      <td>1981-12-31</td>\n",
       "      <td>208.419</td>\n",
       "      <td>187.814</td>\n",
       "      <td>20.605</td>\n",
       "      <td>25.638736</td>\n",
       "      <td>001148</td>\n",
       "      <td>ADVEST GROUP INC</td>\n",
       "    </tr>\n",
       "    <tr>\n",
       "      <th>...</th>\n",
       "      <td>...</td>\n",
       "      <td>...</td>\n",
       "      <td>...</td>\n",
       "      <td>...</td>\n",
       "      <td>...</td>\n",
       "      <td>...</td>\n",
       "      <td>...</td>\n",
       "    </tr>\n",
       "    <tr>\n",
       "      <th>5526</th>\n",
       "      <td>2007-06-30</td>\n",
       "      <td>2843.526</td>\n",
       "      <td>2589.891</td>\n",
       "      <td>NaN</td>\n",
       "      <td>NaN</td>\n",
       "      <td>209386</td>\n",
       "      <td>VAN DER MOOLEN NV</td>\n",
       "    </tr>\n",
       "    <tr>\n",
       "      <th>5527</th>\n",
       "      <td>2007-09-30</td>\n",
       "      <td>3903.258</td>\n",
       "      <td>3650.586</td>\n",
       "      <td>NaN</td>\n",
       "      <td>NaN</td>\n",
       "      <td>209386</td>\n",
       "      <td>VAN DER MOOLEN NV</td>\n",
       "    </tr>\n",
       "    <tr>\n",
       "      <th>5528</th>\n",
       "      <td>2007-12-31</td>\n",
       "      <td>1525.721</td>\n",
       "      <td>1352.675</td>\n",
       "      <td>173.046</td>\n",
       "      <td>186.570500</td>\n",
       "      <td>209386</td>\n",
       "      <td>VAN DER MOOLEN NV</td>\n",
       "    </tr>\n",
       "    <tr>\n",
       "      <th>5529</th>\n",
       "      <td>2008-03-31</td>\n",
       "      <td>3147.092</td>\n",
       "      <td>2984.300</td>\n",
       "      <td>NaN</td>\n",
       "      <td>193.259735</td>\n",
       "      <td>209386</td>\n",
       "      <td>VAN DER MOOLEN NV</td>\n",
       "    </tr>\n",
       "    <tr>\n",
       "      <th>5530</th>\n",
       "      <td>2008-06-30</td>\n",
       "      <td>5669.280</td>\n",
       "      <td>NaN</td>\n",
       "      <td>NaN</td>\n",
       "      <td>NaN</td>\n",
       "      <td>209386</td>\n",
       "      <td>VAN DER MOOLEN NV</td>\n",
       "    </tr>\n",
       "  </tbody>\n",
       "</table>\n",
       "<p>5527 rows × 7 columns</p>\n",
       "</div>"
      ],
      "text/plain": [
       "        datadate  total_assets  book_debt  book_equity  market_equity   gvkey  \\\n",
       "0     1980-12-31           NaN        NaN          NaN            NaN  001148   \n",
       "1     1981-03-31           NaN        NaN          NaN            NaN  001148   \n",
       "2     1981-06-30           NaN        NaN          NaN            NaN  001148   \n",
       "3     1981-09-30       185.469    165.845       19.624      18.847482  001148   \n",
       "4     1981-12-31       208.419    187.814       20.605      25.638736  001148   \n",
       "...          ...           ...        ...          ...            ...     ...   \n",
       "5526  2007-06-30      2843.526   2589.891          NaN            NaN  209386   \n",
       "5527  2007-09-30      3903.258   3650.586          NaN            NaN  209386   \n",
       "5528  2007-12-31      1525.721   1352.675      173.046     186.570500  209386   \n",
       "5529  2008-03-31      3147.092   2984.300          NaN     193.259735  209386   \n",
       "5530  2008-06-30      5669.280        NaN          NaN            NaN  209386   \n",
       "\n",
       "                   conm  \n",
       "0      ADVEST GROUP INC  \n",
       "1      ADVEST GROUP INC  \n",
       "2      ADVEST GROUP INC  \n",
       "3      ADVEST GROUP INC  \n",
       "4      ADVEST GROUP INC  \n",
       "...                 ...  \n",
       "5526  VAN DER MOOLEN NV  \n",
       "5527  VAN DER MOOLEN NV  \n",
       "5528  VAN DER MOOLEN NV  \n",
       "5529  VAN DER MOOLEN NV  \n",
       "5530  VAN DER MOOLEN NV  \n",
       "\n",
       "[5527 rows x 7 columns]"
      ]
     },
     "execution_count": 7,
     "metadata": {},
     "output_type": "execute_result"
    }
   ],
   "source": [
    "datasets = Table02Prep.pull_data_for_all_comparison_groups(db, comparison_group_link_dict)\n",
    "datasets['BD']"
   ]
  },
  {
   "cell_type": "code",
   "execution_count": null,
   "id": "4d5c83e8",
   "metadata": {},
   "outputs": [],
   "source": []
  },
  {
   "cell_type": "markdown",
   "id": "ae7569cd43ed9d01",
   "metadata": {
    "collapsed": false
   },
   "source": [
    "We then prep that data further by aggregating by year and standardizing the date to the first of the year. We also convert the datadate to a datetime column that can be sliced."
   ]
  },
  {
   "cell_type": "code",
   "execution_count": 8,
   "id": "3f7f06ff4481980b",
   "metadata": {
    "ExecuteTime": {
     "end_time": "2024-03-10T21:13:48.967255Z",
     "start_time": "2024-03-10T21:13:48.517235400Z"
    },
    "collapsed": false
   },
   "outputs": [
    {
     "data": {
      "application/vnd.microsoft.datawrangler.viewer.v0+json": {
       "columns": [
        {
         "name": "index",
         "rawType": "int64",
         "type": "integer"
        },
        {
         "name": "datadate",
         "rawType": "datetime64[ns]",
         "type": "datetime"
        },
        {
         "name": "total_assets",
         "rawType": "float64",
         "type": "float"
        },
        {
         "name": "book_debt",
         "rawType": "float64",
         "type": "float"
        },
        {
         "name": "book_equity",
         "rawType": "float64",
         "type": "float"
        },
        {
         "name": "market_equity",
         "rawType": "float64",
         "type": "float"
        }
       ],
       "conversionMethod": "pd.DataFrame",
       "ref": "1316f306-b2cb-471d-81ed-29b692d88dda",
       "rows": [
        [
         "0",
         "1961-12-31 00:00:00",
         "5587.481",
         "197.603",
         "38.218",
         "0.0"
        ],
        [
         "1",
         "1962-01-31 00:00:00",
         "5587.481",
         "197.603",
         "38.218",
         "0.0"
        ],
        [
         "2",
         "1962-02-28 00:00:00",
         "5587.481",
         "197.603",
         "38.218",
         "0.0"
        ],
        [
         "3",
         "1962-03-31 00:00:00",
         "38341.82",
         "8856.356",
         "3634.64",
         "7576.083603048381"
        ],
        [
         "4",
         "1962-04-30 00:00:00",
         "38341.82",
         "8856.356",
         "3634.64",
         "7576.083603048381"
        ],
        [
         "5",
         "1962-05-31 00:00:00",
         "38341.82",
         "8856.356",
         "3634.64",
         "7576.083603048381"
        ],
        [
         "6",
         "1962-06-30 00:00:00",
         "53838.216",
         "9157.393999999998",
         "4583.2660000000005",
         "5675.05746399242"
        ],
        [
         "7",
         "1962-07-31 00:00:00",
         "53838.216",
         "9157.393999999998",
         "4583.2660000000005",
         "5675.05746399242"
        ],
        [
         "8",
         "1962-08-31 00:00:00",
         "53838.216",
         "9157.393999999998",
         "4583.2660000000005",
         "5675.05746399242"
        ],
        [
         "9",
         "1962-09-30 00:00:00",
         "54189.713",
         "9264.717",
         "4614.121",
         "6283.72550092785"
        ],
        [
         "10",
         "1962-10-31 00:00:00",
         "54189.713",
         "9264.717",
         "4614.121",
         "6283.72550092785"
        ],
        [
         "11",
         "1962-11-30 00:00:00",
         "54189.713",
         "9264.717",
         "4614.121",
         "6283.72550092785"
        ],
        [
         "12",
         "1962-12-31 00:00:00",
         "63544.178",
         "10278.222000000002",
         "5023.85",
         "7776.92556626267"
        ],
        [
         "13",
         "1963-01-31 00:00:00",
         "63544.178",
         "10278.222000000002",
         "5023.85",
         "7776.92556626267"
        ],
        [
         "14",
         "1963-02-28 00:00:00",
         "63544.178",
         "10278.222000000002",
         "5023.85",
         "7776.92556626267"
        ],
        [
         "15",
         "1963-03-31 00:00:00",
         "62767.204000000005",
         "11428.886999999999",
         "5178.07",
         "8298.74099478406"
        ],
        [
         "16",
         "1963-04-30 00:00:00",
         "62767.204000000005",
         "11428.886999999999",
         "5178.07",
         "8298.74099478406"
        ],
        [
         "17",
         "1963-05-31 00:00:00",
         "62767.204000000005",
         "11428.886999999999",
         "5178.07",
         "8298.74099478406"
        ],
        [
         "18",
         "1963-06-30 00:00:00",
         "64547.748",
         "12582.773000000001",
         "5235.285",
         "8568.65896348211"
        ],
        [
         "19",
         "1963-07-31 00:00:00",
         "64547.748",
         "12582.773000000001",
         "5235.285",
         "8568.65896348211"
        ],
        [
         "20",
         "1963-08-31 00:00:00",
         "64547.748",
         "12582.773000000001",
         "5235.285",
         "8568.65896348211"
        ],
        [
         "21",
         "1963-09-30 00:00:00",
         "66175.703",
         "13620.007",
         "5326.94",
         "8941.11409084307"
        ],
        [
         "22",
         "1963-10-31 00:00:00",
         "66175.703",
         "13620.007",
         "5326.94",
         "8941.11409084307"
        ],
        [
         "23",
         "1963-11-30 00:00:00",
         "66175.703",
         "13620.007",
         "5326.94",
         "8941.11409084307"
        ],
        [
         "24",
         "1963-12-31 00:00:00",
         "69963.647",
         "14658.519",
         "5419.306",
         "8753.0870990218"
        ],
        [
         "25",
         "1964-01-31 00:00:00",
         "69963.647",
         "14658.519",
         "5419.306",
         "8753.0870990218"
        ],
        [
         "26",
         "1964-02-29 00:00:00",
         "69963.647",
         "14658.519",
         "5419.306",
         "8753.0870990218"
        ],
        [
         "27",
         "1964-03-31 00:00:00",
         "69149.567",
         "14303.841",
         "5529.557",
         "9066.62920592132"
        ],
        [
         "28",
         "1964-04-30 00:00:00",
         "69149.567",
         "14303.841",
         "5529.557",
         "9066.62920592132"
        ],
        [
         "29",
         "1964-05-31 00:00:00",
         "69149.567",
         "14303.841",
         "5529.557",
         "9066.62920592132"
        ],
        [
         "30",
         "1964-06-30 00:00:00",
         "70753.167",
         "28432.046",
         "5546.128000000001",
         "9206.59549017754"
        ],
        [
         "31",
         "1964-07-31 00:00:00",
         "70753.167",
         "28432.046",
         "5546.128000000001",
         "9206.59549017754"
        ],
        [
         "32",
         "1964-08-31 00:00:00",
         "70753.167",
         "28432.046",
         "5546.128000000001",
         "9206.59549017754"
        ],
        [
         "33",
         "1964-09-30 00:00:00",
         "71899.21",
         "28853.263",
         "5601.031",
         "9579.63560999341"
        ],
        [
         "34",
         "1964-10-31 00:00:00",
         "71899.21",
         "28853.263",
         "5601.031",
         "9579.63560999341"
        ],
        [
         "35",
         "1964-11-30 00:00:00",
         "71899.21",
         "28853.263",
         "5601.031",
         "9579.63560999341"
        ],
        [
         "36",
         "1964-12-31 00:00:00",
         "75739.413",
         "39506.038",
         "5718.941",
         "9135.89454907825"
        ],
        [
         "37",
         "1965-01-31 00:00:00",
         "75739.413",
         "39506.038",
         "5718.941",
         "9135.89454907825"
        ],
        [
         "38",
         "1965-02-28 00:00:00",
         "75739.413",
         "39506.038",
         "5718.941",
         "9135.89454907825"
        ],
        [
         "39",
         "1965-03-31 00:00:00",
         "79070.105",
         "42824.222",
         "5984.05",
         "8899.99258172854"
        ],
        [
         "40",
         "1965-04-30 00:00:00",
         "79070.105",
         "42824.222",
         "5984.05",
         "8899.99258172854"
        ],
        [
         "41",
         "1965-05-31 00:00:00",
         "79070.105",
         "42824.222",
         "5984.05",
         "8899.99258172854"
        ],
        [
         "42",
         "1965-06-30 00:00:00",
         "82021.663",
         "44254.627",
         "6064.348",
         "8512.14809618592"
        ],
        [
         "43",
         "1965-07-31 00:00:00",
         "82021.663",
         "44254.627",
         "6064.348",
         "8512.14809618592"
        ],
        [
         "44",
         "1965-08-31 00:00:00",
         "82021.663",
         "44254.627",
         "6064.348",
         "8512.14809618592"
        ],
        [
         "45",
         "1965-09-30 00:00:00",
         "82315.214",
         "44668.801",
         "6130.383",
         "9122.54913736026"
        ],
        [
         "46",
         "1965-10-31 00:00:00",
         "82315.214",
         "44668.801",
         "6130.383",
         "9122.54913736026"
        ],
        [
         "47",
         "1965-11-30 00:00:00",
         "82315.214",
         "44668.801",
         "6130.383",
         "9122.54913736026"
        ],
        [
         "48",
         "1965-12-31 00:00:00",
         "85753.121",
         "45958.067",
         "6161.313",
         "8509.0544005612"
        ],
        [
         "49",
         "1966-01-31 00:00:00",
         "85753.121",
         "45958.067",
         "6161.313",
         "8509.0544005612"
        ]
       ],
       "shape": {
        "columns": 5,
        "rows": 613
       }
      },
      "text/html": [
       "<div>\n",
       "<style scoped>\n",
       "    .dataframe tbody tr th:only-of-type {\n",
       "        vertical-align: middle;\n",
       "    }\n",
       "\n",
       "    .dataframe tbody tr th {\n",
       "        vertical-align: top;\n",
       "    }\n",
       "\n",
       "    .dataframe thead th {\n",
       "        text-align: right;\n",
       "    }\n",
       "</style>\n",
       "<table border=\"1\" class=\"dataframe\">\n",
       "  <thead>\n",
       "    <tr style=\"text-align: right;\">\n",
       "      <th></th>\n",
       "      <th>datadate</th>\n",
       "      <th>total_assets</th>\n",
       "      <th>book_debt</th>\n",
       "      <th>book_equity</th>\n",
       "      <th>market_equity</th>\n",
       "    </tr>\n",
       "  </thead>\n",
       "  <tbody>\n",
       "    <tr>\n",
       "      <th>0</th>\n",
       "      <td>1961-12-31</td>\n",
       "      <td>5.587481e+03</td>\n",
       "      <td>1.976030e+02</td>\n",
       "      <td>38.218</td>\n",
       "      <td>0.000000e+00</td>\n",
       "    </tr>\n",
       "    <tr>\n",
       "      <th>1</th>\n",
       "      <td>1962-01-31</td>\n",
       "      <td>5.587481e+03</td>\n",
       "      <td>1.976030e+02</td>\n",
       "      <td>38.218</td>\n",
       "      <td>0.000000e+00</td>\n",
       "    </tr>\n",
       "    <tr>\n",
       "      <th>2</th>\n",
       "      <td>1962-02-28</td>\n",
       "      <td>5.587481e+03</td>\n",
       "      <td>1.976030e+02</td>\n",
       "      <td>38.218</td>\n",
       "      <td>0.000000e+00</td>\n",
       "    </tr>\n",
       "    <tr>\n",
       "      <th>3</th>\n",
       "      <td>1962-03-31</td>\n",
       "      <td>3.834182e+04</td>\n",
       "      <td>8.856356e+03</td>\n",
       "      <td>3634.640</td>\n",
       "      <td>7.576084e+03</td>\n",
       "    </tr>\n",
       "    <tr>\n",
       "      <th>4</th>\n",
       "      <td>1962-04-30</td>\n",
       "      <td>3.834182e+04</td>\n",
       "      <td>8.856356e+03</td>\n",
       "      <td>3634.640</td>\n",
       "      <td>7.576084e+03</td>\n",
       "    </tr>\n",
       "    <tr>\n",
       "      <th>...</th>\n",
       "      <td>...</td>\n",
       "      <td>...</td>\n",
       "      <td>...</td>\n",
       "      <td>...</td>\n",
       "      <td>...</td>\n",
       "    </tr>\n",
       "    <tr>\n",
       "      <th>608</th>\n",
       "      <td>2012-08-31</td>\n",
       "      <td>1.416292e+07</td>\n",
       "      <td>1.307771e+07</td>\n",
       "      <td>1052737.713</td>\n",
       "      <td>9.559874e+05</td>\n",
       "    </tr>\n",
       "    <tr>\n",
       "      <th>609</th>\n",
       "      <td>2012-09-30</td>\n",
       "      <td>1.449611e+07</td>\n",
       "      <td>1.337541e+07</td>\n",
       "      <td>1087465.920</td>\n",
       "      <td>1.013102e+06</td>\n",
       "    </tr>\n",
       "    <tr>\n",
       "      <th>610</th>\n",
       "      <td>2012-10-31</td>\n",
       "      <td>1.448674e+07</td>\n",
       "      <td>1.336709e+07</td>\n",
       "      <td>1086421.658</td>\n",
       "      <td>1.011443e+06</td>\n",
       "    </tr>\n",
       "    <tr>\n",
       "      <th>611</th>\n",
       "      <td>2012-11-30</td>\n",
       "      <td>1.448674e+07</td>\n",
       "      <td>1.336709e+07</td>\n",
       "      <td>1086421.658</td>\n",
       "      <td>1.011443e+06</td>\n",
       "    </tr>\n",
       "    <tr>\n",
       "      <th>612</th>\n",
       "      <td>2012-12-31</td>\n",
       "      <td>1.429135e+07</td>\n",
       "      <td>1.316444e+07</td>\n",
       "      <td>1092057.409</td>\n",
       "      <td>1.074245e+06</td>\n",
       "    </tr>\n",
       "  </tbody>\n",
       "</table>\n",
       "<p>613 rows × 5 columns</p>\n",
       "</div>"
      ],
      "text/plain": [
       "      datadate  total_assets     book_debt  book_equity  market_equity\n",
       "0   1961-12-31  5.587481e+03  1.976030e+02       38.218   0.000000e+00\n",
       "1   1962-01-31  5.587481e+03  1.976030e+02       38.218   0.000000e+00\n",
       "2   1962-02-28  5.587481e+03  1.976030e+02       38.218   0.000000e+00\n",
       "3   1962-03-31  3.834182e+04  8.856356e+03     3634.640   7.576084e+03\n",
       "4   1962-04-30  3.834182e+04  8.856356e+03     3634.640   7.576084e+03\n",
       "..         ...           ...           ...          ...            ...\n",
       "608 2012-08-31  1.416292e+07  1.307771e+07  1052737.713   9.559874e+05\n",
       "609 2012-09-30  1.449611e+07  1.337541e+07  1087465.920   1.013102e+06\n",
       "610 2012-10-31  1.448674e+07  1.336709e+07  1086421.658   1.011443e+06\n",
       "611 2012-11-30  1.448674e+07  1.336709e+07  1086421.658   1.011443e+06\n",
       "612 2012-12-31  1.429135e+07  1.316444e+07  1092057.409   1.074245e+06\n",
       "\n",
       "[613 rows x 5 columns]"
      ]
     },
     "execution_count": 8,
     "metadata": {},
     "output_type": "execute_result"
    }
   ],
   "source": [
    "prepped_datasets = Table02Prep.prep_datasets(datasets)\n",
    "prepped_datasets['Banks']"
   ]
  },
  {
   "cell_type": "code",
   "execution_count": 9,
   "id": "a336b4e0",
   "metadata": {},
   "outputs": [
    {
     "data": {
      "application/vnd.microsoft.datawrangler.viewer.v0+json": {
       "columns": [
        {
         "name": "index",
         "rawType": "int64",
         "type": "integer"
        },
        {
         "name": "datadate",
         "rawType": "datetime64[ns]",
         "type": "datetime"
        },
        {
         "name": "total_assets",
         "rawType": "float64",
         "type": "float"
        },
        {
         "name": "book_debt",
         "rawType": "float64",
         "type": "float"
        },
        {
         "name": "book_equity",
         "rawType": "float64",
         "type": "float"
        },
        {
         "name": "market_equity",
         "rawType": "float64",
         "type": "float"
        }
       ],
       "conversionMethod": "pd.DataFrame",
       "ref": "94736b28-ca01-4c39-96ab-d53d4525f017",
       "rows": [
        [
         "0",
         "1966-03-31 00:00:00",
         "0.0",
         "0.0",
         "0.0",
         "0.0"
        ],
        [
         "1",
         "1966-04-30 00:00:00",
         "0.0",
         "0.0",
         "0.0",
         "0.0"
        ],
        [
         "2",
         "1966-05-31 00:00:00",
         "0.0",
         "0.0",
         "0.0",
         "0.0"
        ],
        [
         "3",
         "1966-06-30 00:00:00",
         "0.0",
         "0.0",
         "0.0",
         "0.0"
        ],
        [
         "4",
         "1966-07-31 00:00:00",
         "0.0",
         "0.0",
         "0.0",
         "0.0"
        ],
        [
         "5",
         "1966-08-31 00:00:00",
         "0.0",
         "0.0",
         "0.0",
         "0.0"
        ],
        [
         "6",
         "1966-09-30 00:00:00",
         "0.0",
         "0.0",
         "0.0",
         "0.0"
        ],
        [
         "7",
         "1966-10-31 00:00:00",
         "0.0",
         "0.0",
         "0.0",
         "0.0"
        ],
        [
         "8",
         "1966-11-30 00:00:00",
         "0.0",
         "0.0",
         "0.0",
         "0.0"
        ],
        [
         "9",
         "1966-12-31 00:00:00",
         "0.0",
         "0.0",
         "0.0",
         "0.0"
        ],
        [
         "10",
         "1967-01-31 00:00:00",
         "0.0",
         "0.0",
         "0.0",
         "0.0"
        ],
        [
         "11",
         "1967-02-28 00:00:00",
         "0.0",
         "0.0",
         "0.0",
         "0.0"
        ],
        [
         "12",
         "1967-03-31 00:00:00",
         "0.0",
         "0.0",
         "0.0",
         "253.1059046964"
        ],
        [
         "13",
         "1967-04-30 00:00:00",
         "0.0",
         "0.0",
         "0.0",
         "253.1059046964"
        ],
        [
         "14",
         "1967-05-31 00:00:00",
         "0.0",
         "0.0",
         "0.0",
         "253.1059046964"
        ],
        [
         "15",
         "1967-06-30 00:00:00",
         "0.0",
         "0.0",
         "0.0",
         "328.04787545488"
        ],
        [
         "16",
         "1967-07-31 00:00:00",
         "0.0",
         "0.0",
         "0.0",
         "328.04787545488"
        ],
        [
         "17",
         "1967-08-31 00:00:00",
         "0.0",
         "0.0",
         "0.0",
         "328.04787545488"
        ],
        [
         "18",
         "1967-09-30 00:00:00",
         "0.0",
         "0.0",
         "0.0",
         "408.6458082616"
        ],
        [
         "19",
         "1967-10-31 00:00:00",
         "0.0",
         "0.0",
         "0.0",
         "408.6458082616"
        ],
        [
         "20",
         "1967-11-30 00:00:00",
         "0.0",
         "0.0",
         "0.0",
         "408.6458082616"
        ],
        [
         "21",
         "1967-12-31 00:00:00",
         "0.0",
         "0.0",
         "165.555",
         "596.89398174483"
        ],
        [
         "22",
         "1968-01-31 00:00:00",
         "0.0",
         "0.0",
         "165.555",
         "596.89398174483"
        ],
        [
         "23",
         "1968-02-29 00:00:00",
         "0.0",
         "0.0",
         "165.555",
         "596.89398174483"
        ],
        [
         "24",
         "1968-03-31 00:00:00",
         "0.0",
         "0.0",
         "165.555",
         "569.57753531064"
        ],
        [
         "25",
         "1968-04-30 00:00:00",
         "0.0",
         "0.0",
         "165.555",
         "569.57753531064"
        ],
        [
         "26",
         "1968-05-31 00:00:00",
         "0.0",
         "0.0",
         "165.555",
         "569.57753531064"
        ],
        [
         "27",
         "1968-06-30 00:00:00",
         "0.0",
         "0.0",
         "165.555",
         "1011.72908996532"
        ],
        [
         "28",
         "1968-07-31 00:00:00",
         "0.0",
         "0.0",
         "165.555",
         "1011.72908996532"
        ],
        [
         "29",
         "1968-08-31 00:00:00",
         "0.0",
         "0.0",
         "165.555",
         "1011.72908996532"
        ],
        [
         "30",
         "1968-09-30 00:00:00",
         "0.0",
         "0.0",
         "165.555",
         "735.77257306848"
        ],
        [
         "31",
         "1968-10-31 00:00:00",
         "0.0",
         "0.0",
         "165.555",
         "735.77257306848"
        ],
        [
         "32",
         "1968-11-30 00:00:00",
         "0.0",
         "0.0",
         "165.555",
         "735.77257306848"
        ],
        [
         "33",
         "1968-12-31 00:00:00",
         "0.0",
         "0.0",
         "188.057",
         "825.46430710198"
        ],
        [
         "34",
         "1969-01-31 00:00:00",
         "0.0",
         "0.0",
         "188.057",
         "825.46430710198"
        ],
        [
         "35",
         "1969-02-28 00:00:00",
         "0.0",
         "0.0",
         "188.057",
         "825.46430710198"
        ],
        [
         "36",
         "1969-03-31 00:00:00",
         "0.0",
         "0.0",
         "188.057",
         "687.76917238304"
        ],
        [
         "37",
         "1969-04-30 00:00:00",
         "0.0",
         "0.0",
         "188.057",
         "687.76917238304"
        ],
        [
         "38",
         "1969-05-31 00:00:00",
         "0.0",
         "0.0",
         "188.057",
         "687.76917238304"
        ],
        [
         "39",
         "1969-06-30 00:00:00",
         "0.0",
         "0.0",
         "188.057",
         "540.16564047556"
        ],
        [
         "40",
         "1969-07-31 00:00:00",
         "0.0",
         "0.0",
         "188.057",
         "540.16564047556"
        ],
        [
         "41",
         "1969-08-31 00:00:00",
         "0.0",
         "0.0",
         "188.057",
         "540.16564047556"
        ],
        [
         "42",
         "1969-09-30 00:00:00",
         "0.0",
         "0.0",
         "188.057",
         "537.02522338476"
        ],
        [
         "43",
         "1969-10-31 00:00:00",
         "0.0",
         "0.0",
         "188.057",
         "537.02522338476"
        ],
        [
         "44",
         "1969-11-30 00:00:00",
         "0.0",
         "0.0",
         "188.057",
         "537.02522338476"
        ],
        [
         "45",
         "1969-12-31 00:00:00",
         "0.0",
         "0.0",
         "211.594",
         "591.55082916117"
        ],
        [
         "46",
         "1970-01-31 00:00:00",
         "0.0",
         "0.0",
         "211.594",
         "591.55082916117"
        ],
        [
         "47",
         "1970-02-28 00:00:00",
         "0.0",
         "0.0",
         "211.594",
         "591.55082916117"
        ],
        [
         "48",
         "1970-03-31 00:00:00",
         "0.0",
         "0.0",
         "211.594",
         "682.82017888292"
        ],
        [
         "49",
         "1970-04-30 00:00:00",
         "0.0",
         "0.0",
         "211.594",
         "682.82017888292"
        ]
       ],
       "shape": {
        "columns": 5,
        "rows": 562
       }
      },
      "text/html": [
       "<div>\n",
       "<style scoped>\n",
       "    .dataframe tbody tr th:only-of-type {\n",
       "        vertical-align: middle;\n",
       "    }\n",
       "\n",
       "    .dataframe tbody tr th {\n",
       "        vertical-align: top;\n",
       "    }\n",
       "\n",
       "    .dataframe thead th {\n",
       "        text-align: right;\n",
       "    }\n",
       "</style>\n",
       "<table border=\"1\" class=\"dataframe\">\n",
       "  <thead>\n",
       "    <tr style=\"text-align: right;\">\n",
       "      <th></th>\n",
       "      <th>datadate</th>\n",
       "      <th>total_assets</th>\n",
       "      <th>book_debt</th>\n",
       "      <th>book_equity</th>\n",
       "      <th>market_equity</th>\n",
       "    </tr>\n",
       "  </thead>\n",
       "  <tbody>\n",
       "    <tr>\n",
       "      <th>0</th>\n",
       "      <td>1966-03-31</td>\n",
       "      <td>0.000</td>\n",
       "      <td>0.000</td>\n",
       "      <td>0.000</td>\n",
       "      <td>0.000000</td>\n",
       "    </tr>\n",
       "    <tr>\n",
       "      <th>1</th>\n",
       "      <td>1966-04-30</td>\n",
       "      <td>0.000</td>\n",
       "      <td>0.000</td>\n",
       "      <td>0.000</td>\n",
       "      <td>0.000000</td>\n",
       "    </tr>\n",
       "    <tr>\n",
       "      <th>2</th>\n",
       "      <td>1966-05-31</td>\n",
       "      <td>0.000</td>\n",
       "      <td>0.000</td>\n",
       "      <td>0.000</td>\n",
       "      <td>0.000000</td>\n",
       "    </tr>\n",
       "    <tr>\n",
       "      <th>3</th>\n",
       "      <td>1966-06-30</td>\n",
       "      <td>0.000</td>\n",
       "      <td>0.000</td>\n",
       "      <td>0.000</td>\n",
       "      <td>0.000000</td>\n",
       "    </tr>\n",
       "    <tr>\n",
       "      <th>4</th>\n",
       "      <td>1966-07-31</td>\n",
       "      <td>0.000</td>\n",
       "      <td>0.000</td>\n",
       "      <td>0.000</td>\n",
       "      <td>0.000000</td>\n",
       "    </tr>\n",
       "    <tr>\n",
       "      <th>...</th>\n",
       "      <td>...</td>\n",
       "      <td>...</td>\n",
       "      <td>...</td>\n",
       "      <td>...</td>\n",
       "      <td>...</td>\n",
       "    </tr>\n",
       "    <tr>\n",
       "      <th>557</th>\n",
       "      <td>2012-08-31</td>\n",
       "      <td>296052.313</td>\n",
       "      <td>259743.893</td>\n",
       "      <td>36300.329</td>\n",
       "      <td>38384.717914</td>\n",
       "    </tr>\n",
       "    <tr>\n",
       "      <th>558</th>\n",
       "      <td>2012-09-30</td>\n",
       "      <td>300698.753</td>\n",
       "      <td>263789.985</td>\n",
       "      <td>36907.837</td>\n",
       "      <td>37567.399166</td>\n",
       "    </tr>\n",
       "    <tr>\n",
       "      <th>559</th>\n",
       "      <td>2012-10-31</td>\n",
       "      <td>300203.529</td>\n",
       "      <td>263680.218</td>\n",
       "      <td>36522.380</td>\n",
       "      <td>37066.918436</td>\n",
       "    </tr>\n",
       "    <tr>\n",
       "      <th>560</th>\n",
       "      <td>2012-11-30</td>\n",
       "      <td>300203.529</td>\n",
       "      <td>263680.218</td>\n",
       "      <td>36522.380</td>\n",
       "      <td>37066.918436</td>\n",
       "    </tr>\n",
       "    <tr>\n",
       "      <th>561</th>\n",
       "      <td>2012-12-31</td>\n",
       "      <td>296866.536</td>\n",
       "      <td>260938.547</td>\n",
       "      <td>35926.999</td>\n",
       "      <td>39379.496516</td>\n",
       "    </tr>\n",
       "  </tbody>\n",
       "</table>\n",
       "<p>562 rows × 5 columns</p>\n",
       "</div>"
      ],
      "text/plain": [
       "      datadate  total_assets   book_debt  book_equity  market_equity\n",
       "0   1966-03-31         0.000       0.000        0.000       0.000000\n",
       "1   1966-04-30         0.000       0.000        0.000       0.000000\n",
       "2   1966-05-31         0.000       0.000        0.000       0.000000\n",
       "3   1966-06-30         0.000       0.000        0.000       0.000000\n",
       "4   1966-07-31         0.000       0.000        0.000       0.000000\n",
       "..         ...           ...         ...          ...            ...\n",
       "557 2012-08-31    296052.313  259743.893    36300.329   38384.717914\n",
       "558 2012-09-30    300698.753  263789.985    36907.837   37567.399166\n",
       "559 2012-10-31    300203.529  263680.218    36522.380   37066.918436\n",
       "560 2012-11-30    300203.529  263680.218    36522.380   37066.918436\n",
       "561 2012-12-31    296866.536  260938.547    35926.999   39379.496516\n",
       "\n",
       "[562 rows x 5 columns]"
      ]
     },
     "execution_count": 9,
     "metadata": {},
     "output_type": "execute_result"
    }
   ],
   "source": [
    "prepped_datasets['BD']"
   ]
  },
  {
   "cell_type": "markdown",
   "id": "cb8e9b1576a4a73d",
   "metadata": {
    "collapsed": false
   },
   "source": [
    "We then weave in some of our analysis into the process, whenever the necessary dataset for the analysis is first available. Below is our main table of ratios, where we have computed the\n",
    "$$\n",
    "\\frac{\\text{Primary dealers amount}}{\\text{Comparison group amount (less PD) + Primary dealers amount}}\n",
    "$$"
   ]
  },
  {
   "cell_type": "code",
   "execution_count": 10,
   "id": "a55b31dab7162903",
   "metadata": {
    "ExecuteTime": {
     "end_time": "2024-03-10T21:13:52.592970900Z",
     "start_time": "2024-03-10T21:13:52.267408600Z"
    },
    "collapsed": false
   },
   "outputs": [
    {
     "data": {
      "application/vnd.microsoft.datawrangler.viewer.v0+json": {
       "columns": [
        {
         "name": "datadate",
         "rawType": "datetime64[ns]",
         "type": "datetime"
        },
        {
         "name": "total_assets_BD",
         "rawType": "float64",
         "type": "float"
        },
        {
         "name": "book_debt_BD",
         "rawType": "float64",
         "type": "float"
        },
        {
         "name": "book_equity_BD",
         "rawType": "float64",
         "type": "float"
        },
        {
         "name": "market_equity_BD",
         "rawType": "float64",
         "type": "float"
        },
        {
         "name": "total_assets_Banks",
         "rawType": "float64",
         "type": "float"
        },
        {
         "name": "book_debt_Banks",
         "rawType": "float64",
         "type": "float"
        },
        {
         "name": "book_equity_Banks",
         "rawType": "float64",
         "type": "float"
        },
        {
         "name": "market_equity_Banks",
         "rawType": "float64",
         "type": "float"
        },
        {
         "name": "total_assets_Cmpust.",
         "rawType": "float64",
         "type": "float"
        },
        {
         "name": "book_debt_Cmpust.",
         "rawType": "float64",
         "type": "float"
        },
        {
         "name": "book_equity_Cmpust.",
         "rawType": "float64",
         "type": "float"
        },
        {
         "name": "market_equity_Cmpust.",
         "rawType": "float64",
         "type": "float"
        },
        {
         "name": "Period",
         "rawType": "object",
         "type": "string"
        }
       ],
       "conversionMethod": "pd.DataFrame",
       "ref": "344f612d-89b4-4476-a23b-0b0ffe9373fe",
       "rows": [
        [
         "1962-03-31 00:00:00",
         null,
         null,
         null,
         null,
         "0.28",
         "0.48",
         "0.25",
         "0.23",
         "0.28",
         "0.48",
         "0.25",
         "0.23",
         "1960-2012"
        ],
        [
         "1962-04-30 00:00:00",
         null,
         null,
         null,
         null,
         "0.28",
         "0.48",
         "0.25",
         "0.23",
         "0.28",
         "0.48",
         "0.25",
         "0.23",
         "1960-2012"
        ],
        [
         "1962-05-31 00:00:00",
         null,
         null,
         null,
         null,
         "0.28",
         "0.48",
         "0.25",
         "0.23",
         "0.28",
         "0.48",
         "0.25",
         "0.23",
         "1960-2012"
        ],
        [
         "1962-06-30 00:00:00",
         null,
         null,
         null,
         null,
         "0.37",
         "0.65",
         "0.33",
         "0.35",
         "0.37",
         "0.65",
         "0.33",
         "0.32",
         "1960-2012"
        ],
        [
         "1962-07-31 00:00:00",
         null,
         null,
         null,
         null,
         "0.37",
         "0.65",
         "0.33",
         "0.35",
         "0.37",
         "0.65",
         "0.33",
         "0.32",
         "1960-2012"
        ],
        [
         "1962-08-31 00:00:00",
         null,
         null,
         null,
         null,
         "0.37",
         "0.65",
         "0.33",
         "0.35",
         "0.37",
         "0.65",
         "0.33",
         "0.32",
         "1960-2012"
        ],
        [
         "1962-09-30 00:00:00",
         null,
         null,
         null,
         null,
         "0.36",
         "0.64",
         "0.34",
         "0.34",
         "0.36",
         "0.64",
         "0.34",
         "0.32",
         "1960-2012"
        ],
        [
         "1962-10-31 00:00:00",
         null,
         null,
         null,
         null,
         "0.36",
         "0.64",
         "0.34",
         "0.34",
         "0.36",
         "0.64",
         "0.34",
         "0.32",
         "1960-2012"
        ],
        [
         "1962-11-30 00:00:00",
         null,
         null,
         null,
         null,
         "0.36",
         "0.64",
         "0.34",
         "0.34",
         "0.36",
         "0.64",
         "0.34",
         "0.32",
         "1960-2012"
        ],
        [
         "1962-12-31 00:00:00",
         null,
         null,
         null,
         null,
         "0.35",
         "0.65",
         "0.33",
         "0.32",
         "0.35",
         "0.65",
         "0.33",
         "0.3",
         "1960-2012"
        ],
        [
         "1963-01-31 00:00:00",
         null,
         null,
         null,
         null,
         "0.35",
         "0.65",
         "0.33",
         "0.32",
         "0.35",
         "0.65",
         "0.33",
         "0.3",
         "1960-2012"
        ],
        [
         "1963-02-28 00:00:00",
         null,
         null,
         null,
         null,
         "0.35",
         "0.65",
         "0.33",
         "0.32",
         "0.35",
         "0.65",
         "0.33",
         "0.3",
         "1960-2012"
        ],
        [
         "1963-03-31 00:00:00",
         null,
         null,
         null,
         null,
         "0.35",
         "0.61",
         "0.32",
         "0.33",
         "0.35",
         "0.61",
         "0.32",
         "0.31",
         "1960-2012"
        ],
        [
         "1963-04-30 00:00:00",
         null,
         null,
         null,
         null,
         "0.35",
         "0.61",
         "0.32",
         "0.33",
         "0.35",
         "0.61",
         "0.32",
         "0.31",
         "1960-2012"
        ],
        [
         "1963-05-31 00:00:00",
         null,
         null,
         null,
         null,
         "0.35",
         "0.61",
         "0.32",
         "0.33",
         "0.35",
         "0.61",
         "0.32",
         "0.31",
         "1960-2012"
        ],
        [
         "1963-06-30 00:00:00",
         null,
         null,
         null,
         null,
         "0.35",
         "0.6",
         "0.32",
         "0.33",
         "0.35",
         "0.6",
         "0.32",
         "0.3",
         "1960-2012"
        ],
        [
         "1963-07-31 00:00:00",
         null,
         null,
         null,
         null,
         "0.35",
         "0.6",
         "0.32",
         "0.33",
         "0.35",
         "0.6",
         "0.32",
         "0.3",
         "1960-2012"
        ],
        [
         "1963-08-31 00:00:00",
         null,
         null,
         null,
         null,
         "0.35",
         "0.6",
         "0.32",
         "0.33",
         "0.35",
         "0.6",
         "0.32",
         "0.3",
         "1960-2012"
        ],
        [
         "1963-09-30 00:00:00",
         null,
         null,
         null,
         null,
         "0.35",
         "0.59",
         "0.32",
         "0.32",
         "0.35",
         "0.59",
         "0.32",
         "0.3",
         "1960-2012"
        ],
        [
         "1963-10-31 00:00:00",
         null,
         null,
         null,
         null,
         "0.35",
         "0.59",
         "0.32",
         "0.32",
         "0.35",
         "0.59",
         "0.32",
         "0.3",
         "1960-2012"
        ],
        [
         "1963-11-30 00:00:00",
         null,
         null,
         null,
         null,
         "0.35",
         "0.59",
         "0.32",
         "0.32",
         "0.35",
         "0.59",
         "0.32",
         "0.3",
         "1960-2012"
        ],
        [
         "1963-12-31 00:00:00",
         null,
         null,
         null,
         null,
         "0.35",
         "0.59",
         "0.32",
         "0.32",
         "0.35",
         "0.59",
         "0.32",
         "0.3",
         "1960-2012"
        ],
        [
         "1964-01-31 00:00:00",
         null,
         null,
         null,
         null,
         "0.35",
         "0.59",
         "0.32",
         "0.32",
         "0.35",
         "0.59",
         "0.32",
         "0.3",
         "1960-2012"
        ],
        [
         "1964-02-29 00:00:00",
         null,
         null,
         null,
         null,
         "0.35",
         "0.59",
         "0.32",
         "0.32",
         "0.35",
         "0.59",
         "0.32",
         "0.3",
         "1960-2012"
        ],
        [
         "1964-03-31 00:00:00",
         null,
         null,
         null,
         null,
         "0.35",
         "0.59",
         "0.32",
         "0.35",
         "0.35",
         "0.59",
         "0.32",
         "0.26",
         "1960-2012"
        ],
        [
         "1964-04-30 00:00:00",
         null,
         null,
         null,
         null,
         "0.35",
         "0.59",
         "0.32",
         "0.35",
         "0.35",
         "0.59",
         "0.32",
         "0.26",
         "1960-2012"
        ],
        [
         "1964-05-31 00:00:00",
         null,
         null,
         null,
         null,
         "0.35",
         "0.59",
         "0.32",
         "0.35",
         "0.35",
         "0.59",
         "0.32",
         "0.26",
         "1960-2012"
        ],
        [
         "1964-06-30 00:00:00",
         null,
         null,
         null,
         null,
         "0.37",
         "0.42",
         "0.35",
         "0.36",
         "0.37",
         "0.42",
         "0.35",
         "0.26",
         "1960-2012"
        ],
        [
         "1964-07-31 00:00:00",
         null,
         null,
         null,
         null,
         "0.37",
         "0.42",
         "0.35",
         "0.36",
         "0.37",
         "0.42",
         "0.35",
         "0.26",
         "1960-2012"
        ],
        [
         "1964-08-31 00:00:00",
         null,
         null,
         null,
         null,
         "0.37",
         "0.42",
         "0.35",
         "0.36",
         "0.37",
         "0.42",
         "0.35",
         "0.26",
         "1960-2012"
        ],
        [
         "1964-09-30 00:00:00",
         null,
         null,
         null,
         null,
         "0.37",
         "0.42",
         "0.36",
         "0.37",
         "0.37",
         "0.42",
         "0.36",
         "0.27",
         "1960-2012"
        ],
        [
         "1964-10-31 00:00:00",
         null,
         null,
         null,
         null,
         "0.37",
         "0.42",
         "0.36",
         "0.37",
         "0.37",
         "0.42",
         "0.36",
         "0.27",
         "1960-2012"
        ],
        [
         "1964-11-30 00:00:00",
         null,
         null,
         null,
         null,
         "0.37",
         "0.42",
         "0.36",
         "0.37",
         "0.37",
         "0.42",
         "0.36",
         "0.27",
         "1960-2012"
        ],
        [
         "1964-12-31 00:00:00",
         null,
         null,
         null,
         null,
         "0.37",
         "0.36",
         "0.36",
         "0.36",
         "0.37",
         "0.36",
         "0.36",
         "0.27",
         "1960-2012"
        ],
        [
         "1965-01-31 00:00:00",
         null,
         null,
         null,
         null,
         "0.37",
         "0.36",
         "0.36",
         "0.36",
         "0.37",
         "0.36",
         "0.36",
         "0.27",
         "1960-2012"
        ],
        [
         "1965-02-28 00:00:00",
         null,
         null,
         null,
         null,
         "0.37",
         "0.36",
         "0.36",
         "0.36",
         "0.37",
         "0.36",
         "0.36",
         "0.27",
         "1960-2012"
        ],
        [
         "1965-03-31 00:00:00",
         null,
         null,
         null,
         null,
         "0.36",
         "0.34",
         "0.35",
         "0.36",
         "0.36",
         "0.34",
         "0.35",
         "0.25",
         "1960-2012"
        ],
        [
         "1965-04-30 00:00:00",
         null,
         null,
         null,
         null,
         "0.36",
         "0.34",
         "0.35",
         "0.36",
         "0.36",
         "0.34",
         "0.35",
         "0.25",
         "1960-2012"
        ],
        [
         "1965-05-31 00:00:00",
         null,
         null,
         null,
         null,
         "0.36",
         "0.34",
         "0.35",
         "0.36",
         "0.36",
         "0.34",
         "0.35",
         "0.25",
         "1960-2012"
        ],
        [
         "1965-06-30 00:00:00",
         null,
         null,
         null,
         null,
         "0.37",
         "0.34",
         "0.35",
         "0.36",
         "0.37",
         "0.34",
         "0.35",
         "0.24",
         "1960-2012"
        ],
        [
         "1965-07-31 00:00:00",
         null,
         null,
         null,
         null,
         "0.37",
         "0.34",
         "0.35",
         "0.36",
         "0.37",
         "0.34",
         "0.35",
         "0.24",
         "1960-2012"
        ],
        [
         "1965-08-31 00:00:00",
         null,
         null,
         null,
         null,
         "0.37",
         "0.34",
         "0.35",
         "0.36",
         "0.37",
         "0.34",
         "0.35",
         "0.24",
         "1960-2012"
        ],
        [
         "1965-09-30 00:00:00",
         null,
         null,
         null,
         null,
         "0.37",
         "0.35",
         "0.35",
         "0.36",
         "0.37",
         "0.35",
         "0.35",
         "0.24",
         "1960-2012"
        ],
        [
         "1965-10-31 00:00:00",
         null,
         null,
         null,
         null,
         "0.37",
         "0.35",
         "0.35",
         "0.36",
         "0.37",
         "0.35",
         "0.35",
         "0.24",
         "1960-2012"
        ],
        [
         "1965-11-30 00:00:00",
         null,
         null,
         null,
         null,
         "0.37",
         "0.35",
         "0.35",
         "0.36",
         "0.37",
         "0.35",
         "0.35",
         "0.24",
         "1960-2012"
        ],
        [
         "1965-12-31 00:00:00",
         null,
         null,
         null,
         null,
         "0.37",
         "0.35",
         "0.35",
         "0.36",
         "0.37",
         "0.35",
         "0.35",
         "0.21",
         "1960-2012"
        ],
        [
         "1966-01-31 00:00:00",
         null,
         null,
         null,
         null,
         "0.37",
         "0.35",
         "0.35",
         "0.36",
         "0.37",
         "0.35",
         "0.35",
         "0.21",
         "1960-2012"
        ],
        [
         "1966-02-28 00:00:00",
         null,
         null,
         null,
         null,
         "0.37",
         "0.35",
         "0.35",
         "0.36",
         "0.37",
         "0.35",
         "0.35",
         "0.2",
         "1960-2012"
        ],
        [
         "1966-03-31 00:00:00",
         "1.0",
         "1.0",
         "1.0",
         "1.0",
         "0.33",
         "0.38",
         "0.31",
         "0.32",
         "0.33",
         "0.38",
         "0.3",
         "0.15",
         "1960-2012"
        ],
        [
         "1966-04-30 00:00:00",
         "1.0",
         "1.0",
         "1.0",
         "1.0",
         "0.33",
         "0.38",
         "0.31",
         "0.32",
         "0.33",
         "0.38",
         "0.3",
         "0.15",
         "1960-2012"
        ]
       ],
       "shape": {
        "columns": 13,
        "rows": 1138
       }
      },
      "text/html": [
       "<div>\n",
       "<style scoped>\n",
       "    .dataframe tbody tr th:only-of-type {\n",
       "        vertical-align: middle;\n",
       "    }\n",
       "\n",
       "    .dataframe tbody tr th {\n",
       "        vertical-align: top;\n",
       "    }\n",
       "\n",
       "    .dataframe thead th {\n",
       "        text-align: right;\n",
       "    }\n",
       "</style>\n",
       "<table border=\"1\" class=\"dataframe\">\n",
       "  <thead>\n",
       "    <tr style=\"text-align: right;\">\n",
       "      <th></th>\n",
       "      <th>total_assets_BD</th>\n",
       "      <th>book_debt_BD</th>\n",
       "      <th>book_equity_BD</th>\n",
       "      <th>market_equity_BD</th>\n",
       "      <th>total_assets_Banks</th>\n",
       "      <th>book_debt_Banks</th>\n",
       "      <th>book_equity_Banks</th>\n",
       "      <th>market_equity_Banks</th>\n",
       "      <th>total_assets_Cmpust.</th>\n",
       "      <th>book_debt_Cmpust.</th>\n",
       "      <th>book_equity_Cmpust.</th>\n",
       "      <th>market_equity_Cmpust.</th>\n",
       "      <th>Period</th>\n",
       "    </tr>\n",
       "    <tr>\n",
       "      <th>datadate</th>\n",
       "      <th></th>\n",
       "      <th></th>\n",
       "      <th></th>\n",
       "      <th></th>\n",
       "      <th></th>\n",
       "      <th></th>\n",
       "      <th></th>\n",
       "      <th></th>\n",
       "      <th></th>\n",
       "      <th></th>\n",
       "      <th></th>\n",
       "      <th></th>\n",
       "      <th></th>\n",
       "    </tr>\n",
       "  </thead>\n",
       "  <tbody>\n",
       "    <tr>\n",
       "      <th>1962-03-31</th>\n",
       "      <td>NaN</td>\n",
       "      <td>NaN</td>\n",
       "      <td>NaN</td>\n",
       "      <td>NaN</td>\n",
       "      <td>0.28</td>\n",
       "      <td>0.48</td>\n",
       "      <td>0.25</td>\n",
       "      <td>0.23</td>\n",
       "      <td>0.28</td>\n",
       "      <td>0.48</td>\n",
       "      <td>0.25</td>\n",
       "      <td>0.23</td>\n",
       "      <td>1960-2012</td>\n",
       "    </tr>\n",
       "    <tr>\n",
       "      <th>1962-04-30</th>\n",
       "      <td>NaN</td>\n",
       "      <td>NaN</td>\n",
       "      <td>NaN</td>\n",
       "      <td>NaN</td>\n",
       "      <td>0.28</td>\n",
       "      <td>0.48</td>\n",
       "      <td>0.25</td>\n",
       "      <td>0.23</td>\n",
       "      <td>0.28</td>\n",
       "      <td>0.48</td>\n",
       "      <td>0.25</td>\n",
       "      <td>0.23</td>\n",
       "      <td>1960-2012</td>\n",
       "    </tr>\n",
       "    <tr>\n",
       "      <th>1962-05-31</th>\n",
       "      <td>NaN</td>\n",
       "      <td>NaN</td>\n",
       "      <td>NaN</td>\n",
       "      <td>NaN</td>\n",
       "      <td>0.28</td>\n",
       "      <td>0.48</td>\n",
       "      <td>0.25</td>\n",
       "      <td>0.23</td>\n",
       "      <td>0.28</td>\n",
       "      <td>0.48</td>\n",
       "      <td>0.25</td>\n",
       "      <td>0.23</td>\n",
       "      <td>1960-2012</td>\n",
       "    </tr>\n",
       "    <tr>\n",
       "      <th>1962-06-30</th>\n",
       "      <td>NaN</td>\n",
       "      <td>NaN</td>\n",
       "      <td>NaN</td>\n",
       "      <td>NaN</td>\n",
       "      <td>0.37</td>\n",
       "      <td>0.65</td>\n",
       "      <td>0.33</td>\n",
       "      <td>0.35</td>\n",
       "      <td>0.37</td>\n",
       "      <td>0.65</td>\n",
       "      <td>0.33</td>\n",
       "      <td>0.32</td>\n",
       "      <td>1960-2012</td>\n",
       "    </tr>\n",
       "    <tr>\n",
       "      <th>1962-07-31</th>\n",
       "      <td>NaN</td>\n",
       "      <td>NaN</td>\n",
       "      <td>NaN</td>\n",
       "      <td>NaN</td>\n",
       "      <td>0.37</td>\n",
       "      <td>0.65</td>\n",
       "      <td>0.33</td>\n",
       "      <td>0.35</td>\n",
       "      <td>0.37</td>\n",
       "      <td>0.65</td>\n",
       "      <td>0.33</td>\n",
       "      <td>0.32</td>\n",
       "      <td>1960-2012</td>\n",
       "    </tr>\n",
       "    <tr>\n",
       "      <th>...</th>\n",
       "      <td>...</td>\n",
       "      <td>...</td>\n",
       "      <td>...</td>\n",
       "      <td>...</td>\n",
       "      <td>...</td>\n",
       "      <td>...</td>\n",
       "      <td>...</td>\n",
       "      <td>...</td>\n",
       "      <td>...</td>\n",
       "      <td>...</td>\n",
       "      <td>...</td>\n",
       "      <td>...</td>\n",
       "      <td>...</td>\n",
       "    </tr>\n",
       "    <tr>\n",
       "      <th>2008-09-30</th>\n",
       "      <td>0.88</td>\n",
       "      <td>0.88</td>\n",
       "      <td>0.68</td>\n",
       "      <td>0.67</td>\n",
       "      <td>0.13</td>\n",
       "      <td>0.13</td>\n",
       "      <td>0.06</td>\n",
       "      <td>0.07</td>\n",
       "      <td>0.03</td>\n",
       "      <td>0.04</td>\n",
       "      <td>0.00</td>\n",
       "      <td>0.00</td>\n",
       "      <td>1990-2012</td>\n",
       "    </tr>\n",
       "    <tr>\n",
       "      <th>2008-10-31</th>\n",
       "      <td>0.58</td>\n",
       "      <td>0.60</td>\n",
       "      <td>0.37</td>\n",
       "      <td>0.37</td>\n",
       "      <td>0.03</td>\n",
       "      <td>0.03</td>\n",
       "      <td>0.02</td>\n",
       "      <td>0.02</td>\n",
       "      <td>0.01</td>\n",
       "      <td>0.01</td>\n",
       "      <td>0.00</td>\n",
       "      <td>0.00</td>\n",
       "      <td>1990-2012</td>\n",
       "    </tr>\n",
       "    <tr>\n",
       "      <th>2008-11-30</th>\n",
       "      <td>0.58</td>\n",
       "      <td>0.60</td>\n",
       "      <td>0.37</td>\n",
       "      <td>0.37</td>\n",
       "      <td>0.03</td>\n",
       "      <td>0.03</td>\n",
       "      <td>0.02</td>\n",
       "      <td>0.02</td>\n",
       "      <td>0.01</td>\n",
       "      <td>0.01</td>\n",
       "      <td>0.00</td>\n",
       "      <td>0.00</td>\n",
       "      <td>1990-2012</td>\n",
       "    </tr>\n",
       "    <tr>\n",
       "      <th>2008-12-31</th>\n",
       "      <td>0.60</td>\n",
       "      <td>0.62</td>\n",
       "      <td>0.38</td>\n",
       "      <td>0.44</td>\n",
       "      <td>0.03</td>\n",
       "      <td>0.03</td>\n",
       "      <td>0.02</td>\n",
       "      <td>0.03</td>\n",
       "      <td>0.01</td>\n",
       "      <td>0.01</td>\n",
       "      <td>0.00</td>\n",
       "      <td>0.00</td>\n",
       "      <td>1990-2012</td>\n",
       "    </tr>\n",
       "    <tr>\n",
       "      <th>2009-01-31</th>\n",
       "      <td>0.60</td>\n",
       "      <td>0.62</td>\n",
       "      <td>0.38</td>\n",
       "      <td>0.40</td>\n",
       "      <td>0.03</td>\n",
       "      <td>0.03</td>\n",
       "      <td>0.02</td>\n",
       "      <td>0.03</td>\n",
       "      <td>0.01</td>\n",
       "      <td>0.01</td>\n",
       "      <td>0.00</td>\n",
       "      <td>0.00</td>\n",
       "      <td>1990-2012</td>\n",
       "    </tr>\n",
       "  </tbody>\n",
       "</table>\n",
       "<p>1138 rows × 13 columns</p>\n",
       "</div>"
      ],
      "text/plain": [
       "            total_assets_BD  book_debt_BD  book_equity_BD  market_equity_BD  \\\n",
       "datadate                                                                      \n",
       "1962-03-31              NaN           NaN             NaN               NaN   \n",
       "1962-04-30              NaN           NaN             NaN               NaN   \n",
       "1962-05-31              NaN           NaN             NaN               NaN   \n",
       "1962-06-30              NaN           NaN             NaN               NaN   \n",
       "1962-07-31              NaN           NaN             NaN               NaN   \n",
       "...                     ...           ...             ...               ...   \n",
       "2008-09-30             0.88          0.88            0.68              0.67   \n",
       "2008-10-31             0.58          0.60            0.37              0.37   \n",
       "2008-11-30             0.58          0.60            0.37              0.37   \n",
       "2008-12-31             0.60          0.62            0.38              0.44   \n",
       "2009-01-31             0.60          0.62            0.38              0.40   \n",
       "\n",
       "            total_assets_Banks  book_debt_Banks  book_equity_Banks  \\\n",
       "datadate                                                             \n",
       "1962-03-31                0.28             0.48               0.25   \n",
       "1962-04-30                0.28             0.48               0.25   \n",
       "1962-05-31                0.28             0.48               0.25   \n",
       "1962-06-30                0.37             0.65               0.33   \n",
       "1962-07-31                0.37             0.65               0.33   \n",
       "...                        ...              ...                ...   \n",
       "2008-09-30                0.13             0.13               0.06   \n",
       "2008-10-31                0.03             0.03               0.02   \n",
       "2008-11-30                0.03             0.03               0.02   \n",
       "2008-12-31                0.03             0.03               0.02   \n",
       "2009-01-31                0.03             0.03               0.02   \n",
       "\n",
       "            market_equity_Banks  total_assets_Cmpust.  book_debt_Cmpust.  \\\n",
       "datadate                                                                   \n",
       "1962-03-31                 0.23                  0.28               0.48   \n",
       "1962-04-30                 0.23                  0.28               0.48   \n",
       "1962-05-31                 0.23                  0.28               0.48   \n",
       "1962-06-30                 0.35                  0.37               0.65   \n",
       "1962-07-31                 0.35                  0.37               0.65   \n",
       "...                         ...                   ...                ...   \n",
       "2008-09-30                 0.07                  0.03               0.04   \n",
       "2008-10-31                 0.02                  0.01               0.01   \n",
       "2008-11-30                 0.02                  0.01               0.01   \n",
       "2008-12-31                 0.03                  0.01               0.01   \n",
       "2009-01-31                 0.03                  0.01               0.01   \n",
       "\n",
       "            book_equity_Cmpust.  market_equity_Cmpust.     Period  \n",
       "datadate                                                           \n",
       "1962-03-31                 0.25                   0.23  1960-2012  \n",
       "1962-04-30                 0.25                   0.23  1960-2012  \n",
       "1962-05-31                 0.25                   0.23  1960-2012  \n",
       "1962-06-30                 0.33                   0.32  1960-2012  \n",
       "1962-07-31                 0.33                   0.32  1960-2012  \n",
       "...                         ...                    ...        ...  \n",
       "2008-09-30                 0.00                   0.00  1990-2012  \n",
       "2008-10-31                 0.00                   0.00  1990-2012  \n",
       "2008-11-30                 0.00                   0.00  1990-2012  \n",
       "2008-12-31                 0.00                   0.00  1990-2012  \n",
       "2009-01-31                 0.00                   0.00  1990-2012  \n",
       "\n",
       "[1138 rows x 13 columns]"
      ]
     },
     "execution_count": 10,
     "metadata": {},
     "output_type": "execute_result"
    }
   ],
   "source": [
    "Table02Analysis.create_summary_stat_table_for_data(datasets)\n",
    "table = Table02Prep.create_ratios_for_table(prepped_datasets)\n",
    "table"
   ]
  },
  {
   "cell_type": "markdown",
   "id": "7a755a36fa811cb3",
   "metadata": {
    "collapsed": false
   },
   "source": [
    "We create a figure that can give the reader insight into how the ratios have shifted over time for each category and comparison group. We had to clean some of the data and fill null values to have the graph look reasonable but without changing the overall shape of it too dramatically.\n",
    "Lastly, we get our final table which was what we were trying to replicate from the paper. This table is then converted to LaTeX and outputted to a .tex file."
   ]
  },
  {
   "cell_type": "code",
   "execution_count": 11,
   "id": "43ea207f26d305f5",
   "metadata": {
    "ExecuteTime": {
     "end_time": "2024-03-10T21:14:14.186976Z",
     "start_time": "2024-03-10T21:14:14.143871200Z"
    },
    "collapsed": false
   },
   "outputs": [
    {
     "data": {
      "application/vnd.microsoft.datawrangler.viewer.v0+json": {
       "columns": [
        {
         "name": "Period",
         "rawType": "object",
         "type": "string"
        },
        {
         "name": "('Total assets', 'BD')",
         "rawType": "float64",
         "type": "float"
        },
        {
         "name": "('Total assets', 'Banks')",
         "rawType": "float64",
         "type": "float"
        },
        {
         "name": "('Total assets', 'Cmpust.')",
         "rawType": "float64",
         "type": "float"
        },
        {
         "name": "('Book debt', 'BD')",
         "rawType": "float64",
         "type": "float"
        },
        {
         "name": "('Book debt', 'Banks')",
         "rawType": "float64",
         "type": "float"
        },
        {
         "name": "('Book debt', 'Cmpust.')",
         "rawType": "float64",
         "type": "float"
        },
        {
         "name": "('Book equity', 'BD')",
         "rawType": "float64",
         "type": "float"
        },
        {
         "name": "('Book equity', 'Banks')",
         "rawType": "float64",
         "type": "float"
        },
        {
         "name": "('Book equity', 'Cmpust.')",
         "rawType": "float64",
         "type": "float"
        },
        {
         "name": "('Market equity', 'BD')",
         "rawType": "float64",
         "type": "float"
        },
        {
         "name": "('Market equity', 'Banks')",
         "rawType": "float64",
         "type": "float"
        },
        {
         "name": "('Market equity', 'Cmpust.')",
         "rawType": "float64",
         "type": "float"
        }
       ],
       "conversionMethod": "pd.DataFrame",
       "ref": "b1a558c8-d8b6-40ec-835c-02b606e63b39",
       "rows": [
        [
         "1960-2012",
         "0.76",
         "0.2",
         "0.1",
         "0.76",
         "0.21",
         "0.13",
         "0.74",
         "0.19",
         "0.05",
         "0.73",
         "0.18",
         "0.04"
        ],
        [
         "1960-1990",
         "0.91",
         "0.25",
         "0.14",
         "0.91",
         "0.27",
         "0.18",
         "0.87",
         "0.24",
         "0.08",
         "0.8",
         "0.22",
         "0.06"
        ],
        [
         "1990-2012",
         "0.56",
         "0.12",
         "0.03",
         "0.56",
         "0.12",
         "0.04",
         "0.58",
         "0.11",
         "0.01",
         "0.65",
         "0.14",
         "0.01"
        ]
       ],
       "shape": {
        "columns": 12,
        "rows": 3
       }
      },
      "text/html": [
       "<div>\n",
       "<style scoped>\n",
       "    .dataframe tbody tr th:only-of-type {\n",
       "        vertical-align: middle;\n",
       "    }\n",
       "\n",
       "    .dataframe tbody tr th {\n",
       "        vertical-align: top;\n",
       "    }\n",
       "\n",
       "    .dataframe thead tr th {\n",
       "        text-align: left;\n",
       "    }\n",
       "\n",
       "    .dataframe thead tr:last-of-type th {\n",
       "        text-align: right;\n",
       "    }\n",
       "</style>\n",
       "<table border=\"1\" class=\"dataframe\">\n",
       "  <thead>\n",
       "    <tr>\n",
       "      <th>Metric</th>\n",
       "      <th colspan=\"3\" halign=\"left\">Total assets</th>\n",
       "      <th colspan=\"3\" halign=\"left\">Book debt</th>\n",
       "      <th colspan=\"3\" halign=\"left\">Book equity</th>\n",
       "      <th colspan=\"3\" halign=\"left\">Market equity</th>\n",
       "    </tr>\n",
       "    <tr>\n",
       "      <th>Source</th>\n",
       "      <th>BD</th>\n",
       "      <th>Banks</th>\n",
       "      <th>Cmpust.</th>\n",
       "      <th>BD</th>\n",
       "      <th>Banks</th>\n",
       "      <th>Cmpust.</th>\n",
       "      <th>BD</th>\n",
       "      <th>Banks</th>\n",
       "      <th>Cmpust.</th>\n",
       "      <th>BD</th>\n",
       "      <th>Banks</th>\n",
       "      <th>Cmpust.</th>\n",
       "    </tr>\n",
       "    <tr>\n",
       "      <th>Period</th>\n",
       "      <th></th>\n",
       "      <th></th>\n",
       "      <th></th>\n",
       "      <th></th>\n",
       "      <th></th>\n",
       "      <th></th>\n",
       "      <th></th>\n",
       "      <th></th>\n",
       "      <th></th>\n",
       "      <th></th>\n",
       "      <th></th>\n",
       "      <th></th>\n",
       "    </tr>\n",
       "  </thead>\n",
       "  <tbody>\n",
       "    <tr>\n",
       "      <th>1960-2012</th>\n",
       "      <td>0.76</td>\n",
       "      <td>0.20</td>\n",
       "      <td>0.10</td>\n",
       "      <td>0.76</td>\n",
       "      <td>0.21</td>\n",
       "      <td>0.13</td>\n",
       "      <td>0.74</td>\n",
       "      <td>0.19</td>\n",
       "      <td>0.05</td>\n",
       "      <td>0.73</td>\n",
       "      <td>0.18</td>\n",
       "      <td>0.04</td>\n",
       "    </tr>\n",
       "    <tr>\n",
       "      <th>1960-1990</th>\n",
       "      <td>0.91</td>\n",
       "      <td>0.25</td>\n",
       "      <td>0.14</td>\n",
       "      <td>0.91</td>\n",
       "      <td>0.27</td>\n",
       "      <td>0.18</td>\n",
       "      <td>0.87</td>\n",
       "      <td>0.24</td>\n",
       "      <td>0.08</td>\n",
       "      <td>0.80</td>\n",
       "      <td>0.22</td>\n",
       "      <td>0.06</td>\n",
       "    </tr>\n",
       "    <tr>\n",
       "      <th>1990-2012</th>\n",
       "      <td>0.56</td>\n",
       "      <td>0.12</td>\n",
       "      <td>0.03</td>\n",
       "      <td>0.56</td>\n",
       "      <td>0.12</td>\n",
       "      <td>0.04</td>\n",
       "      <td>0.58</td>\n",
       "      <td>0.11</td>\n",
       "      <td>0.01</td>\n",
       "      <td>0.65</td>\n",
       "      <td>0.14</td>\n",
       "      <td>0.01</td>\n",
       "    </tr>\n",
       "  </tbody>\n",
       "</table>\n",
       "</div>"
      ],
      "text/plain": [
       "Metric    Total assets               Book debt               Book equity  \\\n",
       "Source              BD Banks Cmpust.        BD Banks Cmpust.          BD   \n",
       "Period                                                                     \n",
       "1960-2012         0.76  0.20    0.10      0.76  0.21    0.13        0.74   \n",
       "1960-1990         0.91  0.25    0.14      0.91  0.27    0.18        0.87   \n",
       "1990-2012         0.56  0.12    0.03      0.56  0.12    0.04        0.58   \n",
       "\n",
       "Metric                  Market equity                \n",
       "Source    Banks Cmpust.            BD Banks Cmpust.  \n",
       "Period                                               \n",
       "1960-2012  0.19    0.05          0.73  0.18    0.04  \n",
       "1960-1990  0.24    0.08          0.80  0.22    0.06  \n",
       "1990-2012  0.11    0.01          0.65  0.14    0.01  "
      ]
     },
     "execution_count": 11,
     "metadata": {},
     "output_type": "execute_result"
    }
   ],
   "source": [
    "formatted_table = Table02Prep.format_final_table(table)\n",
    "formatted_table"
   ]
  },
  {
   "cell_type": "code",
   "execution_count": 12,
   "id": "c1e8c005",
   "metadata": {},
   "outputs": [
    {
     "data": {
      "application/vnd.microsoft.datawrangler.viewer.v0+json": {
       "columns": [
        {
         "name": "Period",
         "rawType": "object",
         "type": "string"
        },
        {
         "name": "('Total assets', 'BD')",
         "rawType": "float64",
         "type": "float"
        },
        {
         "name": "('Total assets', 'Banks')",
         "rawType": "float64",
         "type": "float"
        },
        {
         "name": "('Total assets', 'Cmpust.')",
         "rawType": "float64",
         "type": "float"
        },
        {
         "name": "('Book debt', 'BD')",
         "rawType": "float64",
         "type": "float"
        },
        {
         "name": "('Book debt', 'Banks')",
         "rawType": "float64",
         "type": "float"
        },
        {
         "name": "('Book debt', 'Cmpust.')",
         "rawType": "float64",
         "type": "float"
        },
        {
         "name": "('Book equity', 'BD')",
         "rawType": "float64",
         "type": "float"
        },
        {
         "name": "('Book equity', 'Banks')",
         "rawType": "float64",
         "type": "float"
        },
        {
         "name": "('Book equity', 'Cmpust.')",
         "rawType": "float64",
         "type": "float"
        },
        {
         "name": "('Market equity', 'BD')",
         "rawType": "float64",
         "type": "float"
        },
        {
         "name": "('Market equity', 'Banks')",
         "rawType": "float64",
         "type": "float"
        },
        {
         "name": "('Market equity', 'Cmpust.')",
         "rawType": "float64",
         "type": "float"
        }
       ],
       "conversionMethod": "pd.DataFrame",
       "ref": "0a52769a-2476-43de-ae97-aeb161fa10d3",
       "rows": [
        [
         "1960-2012",
         "0.76",
         "0.2",
         "0.1",
         "0.76",
         "0.21",
         "0.13",
         "0.74",
         "0.19",
         "0.05",
         "0.73",
         "0.18",
         "0.04"
        ],
        [
         "1960-1990",
         "0.91",
         "0.25",
         "0.14",
         "0.91",
         "0.27",
         "0.18",
         "0.87",
         "0.24",
         "0.08",
         "0.8",
         "0.22",
         "0.06"
        ],
        [
         "1990-2012",
         "0.56",
         "0.12",
         "0.03",
         "0.56",
         "0.12",
         "0.04",
         "0.58",
         "0.11",
         "0.01",
         "0.65",
         "0.14",
         "0.01"
        ]
       ],
       "shape": {
        "columns": 12,
        "rows": 3
       }
      },
      "text/html": [
       "<div>\n",
       "<style scoped>\n",
       "    .dataframe tbody tr th:only-of-type {\n",
       "        vertical-align: middle;\n",
       "    }\n",
       "\n",
       "    .dataframe tbody tr th {\n",
       "        vertical-align: top;\n",
       "    }\n",
       "\n",
       "    .dataframe thead tr th {\n",
       "        text-align: left;\n",
       "    }\n",
       "\n",
       "    .dataframe thead tr:last-of-type th {\n",
       "        text-align: right;\n",
       "    }\n",
       "</style>\n",
       "<table border=\"1\" class=\"dataframe\">\n",
       "  <thead>\n",
       "    <tr>\n",
       "      <th>Metric</th>\n",
       "      <th colspan=\"3\" halign=\"left\">Total assets</th>\n",
       "      <th colspan=\"3\" halign=\"left\">Book debt</th>\n",
       "      <th colspan=\"3\" halign=\"left\">Book equity</th>\n",
       "      <th colspan=\"3\" halign=\"left\">Market equity</th>\n",
       "    </tr>\n",
       "    <tr>\n",
       "      <th>Source</th>\n",
       "      <th>BD</th>\n",
       "      <th>Banks</th>\n",
       "      <th>Cmpust.</th>\n",
       "      <th>BD</th>\n",
       "      <th>Banks</th>\n",
       "      <th>Cmpust.</th>\n",
       "      <th>BD</th>\n",
       "      <th>Banks</th>\n",
       "      <th>Cmpust.</th>\n",
       "      <th>BD</th>\n",
       "      <th>Banks</th>\n",
       "      <th>Cmpust.</th>\n",
       "    </tr>\n",
       "    <tr>\n",
       "      <th>Period</th>\n",
       "      <th></th>\n",
       "      <th></th>\n",
       "      <th></th>\n",
       "      <th></th>\n",
       "      <th></th>\n",
       "      <th></th>\n",
       "      <th></th>\n",
       "      <th></th>\n",
       "      <th></th>\n",
       "      <th></th>\n",
       "      <th></th>\n",
       "      <th></th>\n",
       "    </tr>\n",
       "  </thead>\n",
       "  <tbody>\n",
       "    <tr>\n",
       "      <th>1960-2012</th>\n",
       "      <td>0.76</td>\n",
       "      <td>0.20</td>\n",
       "      <td>0.10</td>\n",
       "      <td>0.76</td>\n",
       "      <td>0.21</td>\n",
       "      <td>0.13</td>\n",
       "      <td>0.74</td>\n",
       "      <td>0.19</td>\n",
       "      <td>0.05</td>\n",
       "      <td>0.73</td>\n",
       "      <td>0.18</td>\n",
       "      <td>0.04</td>\n",
       "    </tr>\n",
       "    <tr>\n",
       "      <th>1960-1990</th>\n",
       "      <td>0.91</td>\n",
       "      <td>0.25</td>\n",
       "      <td>0.14</td>\n",
       "      <td>0.91</td>\n",
       "      <td>0.27</td>\n",
       "      <td>0.18</td>\n",
       "      <td>0.87</td>\n",
       "      <td>0.24</td>\n",
       "      <td>0.08</td>\n",
       "      <td>0.80</td>\n",
       "      <td>0.22</td>\n",
       "      <td>0.06</td>\n",
       "    </tr>\n",
       "    <tr>\n",
       "      <th>1990-2012</th>\n",
       "      <td>0.56</td>\n",
       "      <td>0.12</td>\n",
       "      <td>0.03</td>\n",
       "      <td>0.56</td>\n",
       "      <td>0.12</td>\n",
       "      <td>0.04</td>\n",
       "      <td>0.58</td>\n",
       "      <td>0.11</td>\n",
       "      <td>0.01</td>\n",
       "      <td>0.65</td>\n",
       "      <td>0.14</td>\n",
       "      <td>0.01</td>\n",
       "    </tr>\n",
       "  </tbody>\n",
       "</table>\n",
       "</div>"
      ],
      "text/plain": [
       "Metric    Total assets               Book debt               Book equity  \\\n",
       "Source              BD Banks Cmpust.        BD Banks Cmpust.          BD   \n",
       "Period                                                                     \n",
       "1960-2012         0.76  0.20    0.10      0.76  0.21    0.13        0.74   \n",
       "1960-1990         0.91  0.25    0.14      0.91  0.27    0.18        0.87   \n",
       "1990-2012         0.56  0.12    0.03      0.56  0.12    0.04        0.58   \n",
       "\n",
       "Metric                  Market equity                \n",
       "Source    Banks Cmpust.            BD Banks Cmpust.  \n",
       "Period                                               \n",
       "1960-2012  0.19    0.05          0.73  0.18    0.04  \n",
       "1960-1990  0.24    0.08          0.80  0.22    0.06  \n",
       "1990-2012  0.11    0.01          0.65  0.14    0.01  "
      ]
     },
     "execution_count": 12,
     "metadata": {},
     "output_type": "execute_result"
    }
   ],
   "source": [
    "formatted_table"
   ]
  }
 ],
 "metadata": {
  "kernelspec": {
   "display_name": "finm",
   "language": "python",
   "name": "python3"
  },
  "language_info": {
   "codemirror_mode": {
    "name": "ipython",
    "version": 3
   },
   "file_extension": ".py",
   "mimetype": "text/x-python",
   "name": "python",
   "nbconvert_exporter": "python",
   "pygments_lexer": "ipython3",
   "version": "3.12.5"
  }
 },
 "nbformat": 4,
 "nbformat_minor": 5
}
